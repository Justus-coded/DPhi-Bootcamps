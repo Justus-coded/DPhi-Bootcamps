{
  "nbformat": 4,
  "nbformat_minor": 0,
  "metadata": {
    "colab": {
      "name": "DPhi Assignment2.ipynb",
      "provenance": [],
      "authorship_tag": "ABX9TyPgNOmzhL25oU88RvIRYQ2t",
      "include_colab_link": true
    },
    "kernelspec": {
      "name": "python3",
      "display_name": "Python 3"
    }
  },
  "cells": [
    {
      "cell_type": "markdown",
      "metadata": {
        "id": "view-in-github",
        "colab_type": "text"
      },
      "source": [
        "<a href=\"https://colab.research.google.com/github/Justus-coded/DPhi-Bootcamps/blob/master/Machine%20Learning%20Bootcamp/DPhi_Assignment2.ipynb\" target=\"_parent\"><img src=\"https://colab.research.google.com/assets/colab-badge.svg\" alt=\"Open In Colab\"/></a>"
      ]
    },
    {
      "cell_type": "code",
      "metadata": {
        "id": "IRfsBMYcdcNM"
      },
      "source": [
        "import numpy as np\r\n",
        "import pandas as pd\r\n",
        "from statistics import mean \r\n",
        "\r\n",
        "import seaborn as sns\r\n",
        "import matplotlib.pyplot as plt\r\n",
        "\r\n",
        "from xgboost import XGBClassifier\r\n",
        "from sklearn.pipeline import Pipeline\r\n",
        "from sklearn.datasets import make_classification\r\n",
        "from sklearn.preprocessing import StandardScaler\r\n",
        "from sklearn.metrics import classification_report, confusion_matrix, accuracy_score, f1_score, r2_score, mean_squared_error\r\n",
        "from sklearn.model_selection import train_test_split, cross_val_score, RandomizedSearchCV, GridSearchCV"
      ],
      "execution_count": 2,
      "outputs": []
    },
    {
      "cell_type": "code",
      "metadata": {
        "id": "kbnw3xhyoLzi"
      },
      "source": [
        "heart_data  = pd.read_csv(\"https://raw.githubusercontent.com/dphi-official/Datasets/master/Heart_Disease/Training_set_heart.csv\" )"
      ],
      "execution_count": 3,
      "outputs": []
    },
    {
      "cell_type": "code",
      "metadata": {
        "id": "lXcrV4myoh2d"
      },
      "source": [
        "X = heart_data.drop(columns='target')\r\n",
        "y = heart_data['target']"
      ],
      "execution_count": 4,
      "outputs": []
    },
    {
      "cell_type": "code",
      "metadata": {
        "colab": {
          "base_uri": "https://localhost:8080/"
        },
        "id": "WLGUPdrfrBQ1",
        "outputId": "5a373dd5-06a8-4639-a28e-c65047644da7"
      },
      "source": [
        "y.value_counts()"
      ],
      "execution_count": 5,
      "outputs": [
        {
          "output_type": "execute_result",
          "data": {
            "text/plain": [
              "1    115\n",
              "0     97\n",
              "Name: target, dtype: int64"
            ]
          },
          "metadata": {
            "tags": []
          },
          "execution_count": 5
        }
      ]
    },
    {
      "cell_type": "code",
      "metadata": {
        "id": "a8CA8U6RhWAW"
      },
      "source": [
        "std = StandardScaler()\r\n",
        "X_sc = std.fit_transform(X)"
      ],
      "execution_count": 6,
      "outputs": []
    },
    {
      "cell_type": "code",
      "metadata": {
        "id": "c4lleBBYYyPP"
      },
      "source": [
        "X_scaled = pd.DataFrame(X_sc)"
      ],
      "execution_count": 7,
      "outputs": []
    },
    {
      "cell_type": "code",
      "metadata": {
        "id": "M2yMaTUYYsf-"
      },
      "source": [
        "X_scaled.columns = X.columns"
      ],
      "execution_count": 8,
      "outputs": []
    },
    {
      "cell_type": "code",
      "metadata": {
        "id": "LJBCPZeQfV1s"
      },
      "source": [
        "X_train, X_test, y_train, y_test = train_test_split(X_scaled, y, test_size = 0.2, random_state=0)"
      ],
      "execution_count": 9,
      "outputs": []
    },
    {
      "cell_type": "code",
      "metadata": {
        "id": "1hv-ai7pZnhK"
      },
      "source": [
        "from sklearn.linear_model import LogisticRegression"
      ],
      "execution_count": 10,
      "outputs": []
    },
    {
      "cell_type": "code",
      "metadata": {
        "id": "8Wq4I8tQbDl0"
      },
      "source": [
        "lr = LogisticRegression()\r\n",
        "lr.fit(X_train, y_train)\r\n",
        "lr_pred = lr.predict(X_test)"
      ],
      "execution_count": 11,
      "outputs": []
    },
    {
      "cell_type": "code",
      "metadata": {
        "colab": {
          "base_uri": "https://localhost:8080/"
        },
        "id": "CGpfJhbuqQrs",
        "outputId": "bbe2817e-e25c-4142-85a4-04654bc10cf6"
      },
      "source": [
        "xgb = XGBClassifier()\r\n",
        "xgb.fit(X_train, y_train)\r\n",
        "xgb_pred = xgb.predict(X_test)\r\n",
        "f1_score(y_test, xgb_pred)\r\n",
        "\r\n"
      ],
      "execution_count": 12,
      "outputs": [
        {
          "output_type": "execute_result",
          "data": {
            "text/plain": [
              "0.8399999999999999"
            ]
          },
          "metadata": {
            "tags": []
          },
          "execution_count": 12
        }
      ]
    },
    {
      "cell_type": "code",
      "metadata": {
        "id": "gAU0j4K3qe_v"
      },
      "source": [
        "from lightgbm import LGBMClassifier"
      ],
      "execution_count": 13,
      "outputs": []
    },
    {
      "cell_type": "code",
      "metadata": {
        "colab": {
          "base_uri": "https://localhost:8080/"
        },
        "id": "VwIpt7cxqlcA",
        "outputId": "722d9435-f828-41a2-d92e-41aa4204886e"
      },
      "source": [
        "lgb = LGBMClassifier()\r\n",
        "lgb.fit(X_train, y_train)\r\n",
        "lgb_pred = lgb.predict(X_test)\r\n",
        "f1_score(y_test, lgb_pred)"
      ],
      "execution_count": 14,
      "outputs": [
        {
          "output_type": "execute_result",
          "data": {
            "text/plain": [
              "0.8636363636363636"
            ]
          },
          "metadata": {
            "tags": []
          },
          "execution_count": 14
        }
      ]
    },
    {
      "cell_type": "code",
      "metadata": {
        "colab": {
          "base_uri": "https://localhost:8080/"
        },
        "id": "iL5BAxgf3yp-",
        "outputId": "4df738b9-8a65-4e8c-c80f-b8e28754aaa0"
      },
      "source": [
        "pip install catboost"
      ],
      "execution_count": 40,
      "outputs": [
        {
          "output_type": "stream",
          "text": [
            "Collecting catboost\n",
            "\u001b[?25l  Downloading https://files.pythonhosted.org/packages/7e/c1/c1c4707013f9e2f8a96899dd3a87f66c9167d6d776a6dc8fe7ec8678d446/catboost-0.24.3-cp36-none-manylinux1_x86_64.whl (66.3MB)\n",
            "\u001b[K     |████████████████████████████████| 66.3MB 62kB/s \n",
            "\u001b[?25hRequirement already satisfied: numpy>=1.16.0 in /usr/local/lib/python3.6/dist-packages (from catboost) (1.19.4)\n",
            "Requirement already satisfied: plotly in /usr/local/lib/python3.6/dist-packages (from catboost) (4.4.1)\n",
            "Requirement already satisfied: matplotlib in /usr/local/lib/python3.6/dist-packages (from catboost) (3.2.2)\n",
            "Requirement already satisfied: six in /usr/local/lib/python3.6/dist-packages (from catboost) (1.15.0)\n",
            "Requirement already satisfied: pandas>=0.24.0 in /usr/local/lib/python3.6/dist-packages (from catboost) (1.1.5)\n",
            "Requirement already satisfied: scipy in /usr/local/lib/python3.6/dist-packages (from catboost) (1.4.1)\n",
            "Requirement already satisfied: graphviz in /usr/local/lib/python3.6/dist-packages (from catboost) (0.10.1)\n",
            "Requirement already satisfied: retrying>=1.3.3 in /usr/local/lib/python3.6/dist-packages (from plotly->catboost) (1.3.3)\n",
            "Requirement already satisfied: python-dateutil>=2.1 in /usr/local/lib/python3.6/dist-packages (from matplotlib->catboost) (2.8.1)\n",
            "Requirement already satisfied: kiwisolver>=1.0.1 in /usr/local/lib/python3.6/dist-packages (from matplotlib->catboost) (1.3.1)\n",
            "Requirement already satisfied: pyparsing!=2.0.4,!=2.1.2,!=2.1.6,>=2.0.1 in /usr/local/lib/python3.6/dist-packages (from matplotlib->catboost) (2.4.7)\n",
            "Requirement already satisfied: cycler>=0.10 in /usr/local/lib/python3.6/dist-packages (from matplotlib->catboost) (0.10.0)\n",
            "Requirement already satisfied: pytz>=2017.2 in /usr/local/lib/python3.6/dist-packages (from pandas>=0.24.0->catboost) (2018.9)\n",
            "Installing collected packages: catboost\n",
            "Successfully installed catboost-0.24.3\n"
          ],
          "name": "stdout"
        }
      ]
    },
    {
      "cell_type": "code",
      "metadata": {
        "id": "-aOjFRnl4ZyM"
      },
      "source": [
        "from catboost import CatBoostClassifier"
      ],
      "execution_count": 42,
      "outputs": []
    },
    {
      "cell_type": "code",
      "metadata": {
        "colab": {
          "base_uri": "https://localhost:8080/"
        },
        "id": "JcKpi4Sc4OAA",
        "outputId": "52899725-70bc-4c2f-bffd-4890600a6768"
      },
      "source": [
        "cat = CatBoostClassifier()\r\n",
        "cat.fit(X_train, y_train)\r\n",
        "cat_pred = lgb.predict(X_test)\r\n",
        "f1_score(y_test, cat_pred)"
      ],
      "execution_count": 43,
      "outputs": [
        {
          "output_type": "stream",
          "text": [
            "Learning rate set to 0.004822\n",
            "0:\tlearn: 0.6886712\ttotal: 49.7ms\tremaining: 49.7s\n",
            "1:\tlearn: 0.6842037\ttotal: 51.2ms\tremaining: 25.6s\n",
            "2:\tlearn: 0.6810261\ttotal: 52.5ms\tremaining: 17.4s\n",
            "3:\tlearn: 0.6765831\ttotal: 53.4ms\tremaining: 13.3s\n",
            "4:\tlearn: 0.6717371\ttotal: 54.4ms\tremaining: 10.8s\n",
            "5:\tlearn: 0.6683676\ttotal: 55.3ms\tremaining: 9.16s\n",
            "6:\tlearn: 0.6651819\ttotal: 56.2ms\tremaining: 7.97s\n",
            "7:\tlearn: 0.6619110\ttotal: 57.2ms\tremaining: 7.09s\n",
            "8:\tlearn: 0.6580680\ttotal: 58.1ms\tremaining: 6.39s\n",
            "9:\tlearn: 0.6541720\ttotal: 59ms\tremaining: 5.84s\n",
            "10:\tlearn: 0.6504531\ttotal: 59.8ms\tremaining: 5.38s\n",
            "11:\tlearn: 0.6470227\ttotal: 60.7ms\tremaining: 5s\n",
            "12:\tlearn: 0.6440857\ttotal: 61.6ms\tremaining: 4.67s\n",
            "13:\tlearn: 0.6409372\ttotal: 62.3ms\tremaining: 4.38s\n",
            "14:\tlearn: 0.6377378\ttotal: 63.1ms\tremaining: 4.14s\n",
            "15:\tlearn: 0.6343484\ttotal: 63.9ms\tremaining: 3.93s\n",
            "16:\tlearn: 0.6313132\ttotal: 64.7ms\tremaining: 3.74s\n",
            "17:\tlearn: 0.6298325\ttotal: 65.3ms\tremaining: 3.56s\n",
            "18:\tlearn: 0.6268089\ttotal: 66.1ms\tremaining: 3.41s\n",
            "19:\tlearn: 0.6234108\ttotal: 67.2ms\tremaining: 3.29s\n",
            "20:\tlearn: 0.6200057\ttotal: 68.1ms\tremaining: 3.18s\n",
            "21:\tlearn: 0.6161359\ttotal: 69ms\tremaining: 3.07s\n",
            "22:\tlearn: 0.6135105\ttotal: 69.9ms\tremaining: 2.97s\n",
            "23:\tlearn: 0.6101168\ttotal: 70.8ms\tremaining: 2.88s\n",
            "24:\tlearn: 0.6068194\ttotal: 71.7ms\tremaining: 2.8s\n",
            "25:\tlearn: 0.6037081\ttotal: 72.7ms\tremaining: 2.72s\n",
            "26:\tlearn: 0.6006236\ttotal: 73.7ms\tremaining: 2.66s\n",
            "27:\tlearn: 0.5974187\ttotal: 74.8ms\tremaining: 2.6s\n",
            "28:\tlearn: 0.5944743\ttotal: 75.6ms\tremaining: 2.53s\n",
            "29:\tlearn: 0.5912844\ttotal: 76.4ms\tremaining: 2.47s\n",
            "30:\tlearn: 0.5882596\ttotal: 77.4ms\tremaining: 2.42s\n",
            "31:\tlearn: 0.5852180\ttotal: 78.3ms\tremaining: 2.37s\n",
            "32:\tlearn: 0.5819942\ttotal: 79.1ms\tremaining: 2.32s\n",
            "33:\tlearn: 0.5799673\ttotal: 80.1ms\tremaining: 2.27s\n",
            "34:\tlearn: 0.5766139\ttotal: 80.9ms\tremaining: 2.23s\n",
            "35:\tlearn: 0.5739007\ttotal: 81.8ms\tremaining: 2.19s\n",
            "36:\tlearn: 0.5723854\ttotal: 82.8ms\tremaining: 2.15s\n",
            "37:\tlearn: 0.5695501\ttotal: 83.6ms\tremaining: 2.12s\n",
            "38:\tlearn: 0.5667700\ttotal: 84.5ms\tremaining: 2.08s\n",
            "39:\tlearn: 0.5640374\ttotal: 85.4ms\tremaining: 2.05s\n",
            "40:\tlearn: 0.5612519\ttotal: 86.3ms\tremaining: 2.02s\n",
            "41:\tlearn: 0.5583810\ttotal: 87.2ms\tremaining: 1.99s\n",
            "42:\tlearn: 0.5547049\ttotal: 88ms\tremaining: 1.96s\n",
            "43:\tlearn: 0.5521346\ttotal: 88.9ms\tremaining: 1.93s\n",
            "44:\tlearn: 0.5493116\ttotal: 89.7ms\tremaining: 1.9s\n",
            "45:\tlearn: 0.5462716\ttotal: 90.6ms\tremaining: 1.88s\n",
            "46:\tlearn: 0.5441958\ttotal: 91.4ms\tremaining: 1.85s\n",
            "47:\tlearn: 0.5410701\ttotal: 92.2ms\tremaining: 1.83s\n",
            "48:\tlearn: 0.5383795\ttotal: 93.1ms\tremaining: 1.81s\n",
            "49:\tlearn: 0.5356390\ttotal: 94ms\tremaining: 1.78s\n",
            "50:\tlearn: 0.5330025\ttotal: 94.9ms\tremaining: 1.76s\n",
            "51:\tlearn: 0.5301295\ttotal: 95.8ms\tremaining: 1.75s\n",
            "52:\tlearn: 0.5270134\ttotal: 96.6ms\tremaining: 1.73s\n",
            "53:\tlearn: 0.5242895\ttotal: 97.4ms\tremaining: 1.71s\n",
            "54:\tlearn: 0.5216874\ttotal: 98.3ms\tremaining: 1.69s\n",
            "55:\tlearn: 0.5194218\ttotal: 99.1ms\tremaining: 1.67s\n",
            "56:\tlearn: 0.5171569\ttotal: 99.9ms\tremaining: 1.65s\n",
            "57:\tlearn: 0.5148862\ttotal: 101ms\tremaining: 1.64s\n",
            "58:\tlearn: 0.5123933\ttotal: 102ms\tremaining: 1.62s\n",
            "59:\tlearn: 0.5106049\ttotal: 103ms\tremaining: 1.61s\n",
            "60:\tlearn: 0.5080857\ttotal: 103ms\tremaining: 1.59s\n",
            "61:\tlearn: 0.5054756\ttotal: 104ms\tremaining: 1.58s\n",
            "62:\tlearn: 0.5034295\ttotal: 105ms\tremaining: 1.57s\n",
            "63:\tlearn: 0.5011507\ttotal: 106ms\tremaining: 1.55s\n",
            "64:\tlearn: 0.4990987\ttotal: 107ms\tremaining: 1.54s\n",
            "65:\tlearn: 0.4969648\ttotal: 108ms\tremaining: 1.52s\n",
            "66:\tlearn: 0.4947599\ttotal: 109ms\tremaining: 1.51s\n",
            "67:\tlearn: 0.4929813\ttotal: 110ms\tremaining: 1.5s\n",
            "68:\tlearn: 0.4902588\ttotal: 110ms\tremaining: 1.49s\n",
            "69:\tlearn: 0.4878305\ttotal: 111ms\tremaining: 1.48s\n",
            "70:\tlearn: 0.4857815\ttotal: 112ms\tremaining: 1.47s\n",
            "71:\tlearn: 0.4834005\ttotal: 113ms\tremaining: 1.46s\n",
            "72:\tlearn: 0.4818106\ttotal: 114ms\tremaining: 1.45s\n",
            "73:\tlearn: 0.4797700\ttotal: 115ms\tremaining: 1.44s\n",
            "74:\tlearn: 0.4789508\ttotal: 115ms\tremaining: 1.42s\n",
            "75:\tlearn: 0.4770283\ttotal: 116ms\tremaining: 1.41s\n",
            "76:\tlearn: 0.4759743\ttotal: 117ms\tremaining: 1.4s\n",
            "77:\tlearn: 0.4742067\ttotal: 117ms\tremaining: 1.39s\n",
            "78:\tlearn: 0.4723792\ttotal: 118ms\tremaining: 1.38s\n",
            "79:\tlearn: 0.4705249\ttotal: 119ms\tremaining: 1.37s\n",
            "80:\tlearn: 0.4684129\ttotal: 120ms\tremaining: 1.36s\n",
            "81:\tlearn: 0.4660911\ttotal: 121ms\tremaining: 1.35s\n",
            "82:\tlearn: 0.4641189\ttotal: 122ms\tremaining: 1.34s\n",
            "83:\tlearn: 0.4627386\ttotal: 123ms\tremaining: 1.34s\n",
            "84:\tlearn: 0.4604173\ttotal: 123ms\tremaining: 1.33s\n",
            "85:\tlearn: 0.4584710\ttotal: 124ms\tremaining: 1.32s\n",
            "86:\tlearn: 0.4565839\ttotal: 125ms\tremaining: 1.31s\n",
            "87:\tlearn: 0.4548224\ttotal: 126ms\tremaining: 1.3s\n",
            "88:\tlearn: 0.4533665\ttotal: 127ms\tremaining: 1.3s\n",
            "89:\tlearn: 0.4520565\ttotal: 128ms\tremaining: 1.29s\n",
            "90:\tlearn: 0.4500540\ttotal: 128ms\tremaining: 1.28s\n",
            "91:\tlearn: 0.4482325\ttotal: 129ms\tremaining: 1.27s\n",
            "92:\tlearn: 0.4466284\ttotal: 130ms\tremaining: 1.27s\n",
            "93:\tlearn: 0.4451196\ttotal: 131ms\tremaining: 1.26s\n",
            "94:\tlearn: 0.4431671\ttotal: 132ms\tremaining: 1.26s\n",
            "95:\tlearn: 0.4417811\ttotal: 133ms\tremaining: 1.25s\n",
            "96:\tlearn: 0.4400823\ttotal: 134ms\tremaining: 1.24s\n",
            "97:\tlearn: 0.4382559\ttotal: 134ms\tremaining: 1.24s\n",
            "98:\tlearn: 0.4373643\ttotal: 135ms\tremaining: 1.23s\n",
            "99:\tlearn: 0.4359974\ttotal: 136ms\tremaining: 1.22s\n",
            "100:\tlearn: 0.4343061\ttotal: 136ms\tremaining: 1.21s\n",
            "101:\tlearn: 0.4329630\ttotal: 137ms\tremaining: 1.21s\n",
            "102:\tlearn: 0.4312279\ttotal: 138ms\tremaining: 1.2s\n",
            "103:\tlearn: 0.4300827\ttotal: 139ms\tremaining: 1.2s\n",
            "104:\tlearn: 0.4285453\ttotal: 140ms\tremaining: 1.19s\n",
            "105:\tlearn: 0.4268481\ttotal: 141ms\tremaining: 1.19s\n",
            "106:\tlearn: 0.4251784\ttotal: 141ms\tremaining: 1.18s\n",
            "107:\tlearn: 0.4233906\ttotal: 142ms\tremaining: 1.18s\n",
            "108:\tlearn: 0.4217676\ttotal: 143ms\tremaining: 1.17s\n",
            "109:\tlearn: 0.4200857\ttotal: 144ms\tremaining: 1.17s\n",
            "110:\tlearn: 0.4191305\ttotal: 145ms\tremaining: 1.16s\n",
            "111:\tlearn: 0.4182661\ttotal: 146ms\tremaining: 1.16s\n",
            "112:\tlearn: 0.4165269\ttotal: 147ms\tremaining: 1.15s\n",
            "113:\tlearn: 0.4152628\ttotal: 147ms\tremaining: 1.14s\n",
            "114:\tlearn: 0.4139359\ttotal: 148ms\tremaining: 1.14s\n",
            "115:\tlearn: 0.4125168\ttotal: 149ms\tremaining: 1.13s\n",
            "116:\tlearn: 0.4108389\ttotal: 150ms\tremaining: 1.13s\n",
            "117:\tlearn: 0.4094006\ttotal: 151ms\tremaining: 1.13s\n",
            "118:\tlearn: 0.4080886\ttotal: 151ms\tremaining: 1.12s\n",
            "119:\tlearn: 0.4060767\ttotal: 152ms\tremaining: 1.11s\n",
            "120:\tlearn: 0.4043659\ttotal: 153ms\tremaining: 1.11s\n",
            "121:\tlearn: 0.4027939\ttotal: 154ms\tremaining: 1.11s\n",
            "122:\tlearn: 0.4015200\ttotal: 156ms\tremaining: 1.11s\n",
            "123:\tlearn: 0.4002549\ttotal: 158ms\tremaining: 1.11s\n",
            "124:\tlearn: 0.3987239\ttotal: 159ms\tremaining: 1.11s\n",
            "125:\tlearn: 0.3980704\ttotal: 159ms\tremaining: 1.1s\n",
            "126:\tlearn: 0.3966364\ttotal: 161ms\tremaining: 1.11s\n",
            "127:\tlearn: 0.3955670\ttotal: 162ms\tremaining: 1.1s\n",
            "128:\tlearn: 0.3944024\ttotal: 163ms\tremaining: 1.1s\n",
            "129:\tlearn: 0.3930979\ttotal: 164ms\tremaining: 1.1s\n",
            "130:\tlearn: 0.3917015\ttotal: 165ms\tremaining: 1.09s\n",
            "131:\tlearn: 0.3904592\ttotal: 166ms\tremaining: 1.09s\n",
            "132:\tlearn: 0.3892150\ttotal: 167ms\tremaining: 1.09s\n",
            "133:\tlearn: 0.3878917\ttotal: 168ms\tremaining: 1.09s\n",
            "134:\tlearn: 0.3868836\ttotal: 171ms\tremaining: 1.09s\n",
            "135:\tlearn: 0.3856768\ttotal: 172ms\tremaining: 1.09s\n",
            "136:\tlearn: 0.3843775\ttotal: 173ms\tremaining: 1.09s\n",
            "137:\tlearn: 0.3831541\ttotal: 173ms\tremaining: 1.08s\n",
            "138:\tlearn: 0.3821510\ttotal: 174ms\tremaining: 1.08s\n",
            "139:\tlearn: 0.3811443\ttotal: 175ms\tremaining: 1.08s\n",
            "140:\tlearn: 0.3806455\ttotal: 176ms\tremaining: 1.07s\n",
            "141:\tlearn: 0.3797045\ttotal: 177ms\tremaining: 1.07s\n",
            "142:\tlearn: 0.3784693\ttotal: 178ms\tremaining: 1.06s\n",
            "143:\tlearn: 0.3775354\ttotal: 179ms\tremaining: 1.06s\n",
            "144:\tlearn: 0.3773034\ttotal: 179ms\tremaining: 1.06s\n",
            "145:\tlearn: 0.3764940\ttotal: 180ms\tremaining: 1.05s\n",
            "146:\tlearn: 0.3753951\ttotal: 181ms\tremaining: 1.05s\n",
            "147:\tlearn: 0.3738949\ttotal: 182ms\tremaining: 1.05s\n",
            "148:\tlearn: 0.3733824\ttotal: 182ms\tremaining: 1.04s\n",
            "149:\tlearn: 0.3720173\ttotal: 185ms\tremaining: 1.05s\n",
            "150:\tlearn: 0.3704135\ttotal: 186ms\tremaining: 1.04s\n",
            "151:\tlearn: 0.3693794\ttotal: 187ms\tremaining: 1.04s\n",
            "152:\tlearn: 0.3682856\ttotal: 188ms\tremaining: 1.04s\n",
            "153:\tlearn: 0.3673853\ttotal: 189ms\tremaining: 1.04s\n",
            "154:\tlearn: 0.3662323\ttotal: 190ms\tremaining: 1.03s\n",
            "155:\tlearn: 0.3654031\ttotal: 191ms\tremaining: 1.03s\n",
            "156:\tlearn: 0.3645484\ttotal: 192ms\tremaining: 1.03s\n",
            "157:\tlearn: 0.3633647\ttotal: 192ms\tremaining: 1.02s\n",
            "158:\tlearn: 0.3622373\ttotal: 193ms\tremaining: 1.02s\n",
            "159:\tlearn: 0.3613048\ttotal: 194ms\tremaining: 1.02s\n",
            "160:\tlearn: 0.3602413\ttotal: 195ms\tremaining: 1.02s\n",
            "161:\tlearn: 0.3591318\ttotal: 196ms\tremaining: 1.01s\n",
            "162:\tlearn: 0.3581123\ttotal: 197ms\tremaining: 1.01s\n",
            "163:\tlearn: 0.3573657\ttotal: 198ms\tremaining: 1.01s\n",
            "164:\tlearn: 0.3563608\ttotal: 199ms\tremaining: 1.01s\n",
            "165:\tlearn: 0.3549776\ttotal: 200ms\tremaining: 1s\n",
            "166:\tlearn: 0.3537887\ttotal: 201ms\tremaining: 1s\n",
            "167:\tlearn: 0.3526248\ttotal: 202ms\tremaining: 999ms\n",
            "168:\tlearn: 0.3516938\ttotal: 203ms\tremaining: 996ms\n",
            "169:\tlearn: 0.3508252\ttotal: 203ms\tremaining: 993ms\n",
            "170:\tlearn: 0.3496598\ttotal: 204ms\tremaining: 990ms\n",
            "171:\tlearn: 0.3484349\ttotal: 205ms\tremaining: 988ms\n",
            "172:\tlearn: 0.3472614\ttotal: 206ms\tremaining: 986ms\n",
            "173:\tlearn: 0.3464170\ttotal: 207ms\tremaining: 983ms\n",
            "174:\tlearn: 0.3451698\ttotal: 208ms\tremaining: 980ms\n",
            "175:\tlearn: 0.3443103\ttotal: 209ms\tremaining: 978ms\n",
            "176:\tlearn: 0.3440321\ttotal: 209ms\tremaining: 973ms\n",
            "177:\tlearn: 0.3431077\ttotal: 210ms\tremaining: 971ms\n",
            "178:\tlearn: 0.3420009\ttotal: 211ms\tremaining: 969ms\n",
            "179:\tlearn: 0.3411068\ttotal: 212ms\tremaining: 966ms\n",
            "180:\tlearn: 0.3402936\ttotal: 213ms\tremaining: 963ms\n",
            "181:\tlearn: 0.3393369\ttotal: 214ms\tremaining: 961ms\n",
            "182:\tlearn: 0.3385239\ttotal: 215ms\tremaining: 958ms\n",
            "183:\tlearn: 0.3374233\ttotal: 216ms\tremaining: 956ms\n",
            "184:\tlearn: 0.3361812\ttotal: 216ms\tremaining: 954ms\n",
            "185:\tlearn: 0.3351196\ttotal: 217ms\tremaining: 952ms\n",
            "186:\tlearn: 0.3341151\ttotal: 218ms\tremaining: 949ms\n",
            "187:\tlearn: 0.3334179\ttotal: 219ms\tremaining: 947ms\n",
            "188:\tlearn: 0.3324239\ttotal: 220ms\tremaining: 944ms\n",
            "189:\tlearn: 0.3315214\ttotal: 221ms\tremaining: 942ms\n",
            "190:\tlearn: 0.3309906\ttotal: 222ms\tremaining: 940ms\n",
            "191:\tlearn: 0.3302154\ttotal: 223ms\tremaining: 938ms\n",
            "192:\tlearn: 0.3292286\ttotal: 224ms\tremaining: 936ms\n",
            "193:\tlearn: 0.3284788\ttotal: 225ms\tremaining: 933ms\n",
            "194:\tlearn: 0.3276975\ttotal: 225ms\tremaining: 931ms\n",
            "195:\tlearn: 0.3269129\ttotal: 226ms\tremaining: 929ms\n",
            "196:\tlearn: 0.3265635\ttotal: 227ms\tremaining: 925ms\n",
            "197:\tlearn: 0.3258691\ttotal: 228ms\tremaining: 923ms\n",
            "198:\tlearn: 0.3249479\ttotal: 229ms\tremaining: 921ms\n",
            "199:\tlearn: 0.3242084\ttotal: 230ms\tremaining: 919ms\n",
            "200:\tlearn: 0.3228815\ttotal: 231ms\tremaining: 917ms\n",
            "201:\tlearn: 0.3221780\ttotal: 232ms\tremaining: 915ms\n",
            "202:\tlearn: 0.3212980\ttotal: 232ms\tremaining: 912ms\n",
            "203:\tlearn: 0.3203423\ttotal: 233ms\tremaining: 910ms\n",
            "204:\tlearn: 0.3193335\ttotal: 234ms\tremaining: 907ms\n",
            "205:\tlearn: 0.3182803\ttotal: 235ms\tremaining: 905ms\n",
            "206:\tlearn: 0.3175920\ttotal: 236ms\tremaining: 903ms\n",
            "207:\tlearn: 0.3170107\ttotal: 237ms\tremaining: 901ms\n",
            "208:\tlearn: 0.3161207\ttotal: 237ms\tremaining: 898ms\n",
            "209:\tlearn: 0.3153314\ttotal: 238ms\tremaining: 896ms\n",
            "210:\tlearn: 0.3144723\ttotal: 239ms\tremaining: 893ms\n",
            "211:\tlearn: 0.3136191\ttotal: 240ms\tremaining: 891ms\n",
            "212:\tlearn: 0.3130026\ttotal: 241ms\tremaining: 889ms\n",
            "213:\tlearn: 0.3119452\ttotal: 241ms\tremaining: 886ms\n",
            "214:\tlearn: 0.3111185\ttotal: 242ms\tremaining: 884ms\n",
            "215:\tlearn: 0.3102348\ttotal: 243ms\tremaining: 882ms\n",
            "216:\tlearn: 0.3093070\ttotal: 244ms\tremaining: 880ms\n",
            "217:\tlearn: 0.3087625\ttotal: 245ms\tremaining: 878ms\n",
            "218:\tlearn: 0.3077009\ttotal: 245ms\tremaining: 875ms\n",
            "219:\tlearn: 0.3071185\ttotal: 246ms\tremaining: 873ms\n",
            "220:\tlearn: 0.3064742\ttotal: 247ms\tremaining: 871ms\n",
            "221:\tlearn: 0.3056487\ttotal: 248ms\tremaining: 869ms\n",
            "222:\tlearn: 0.3050209\ttotal: 249ms\tremaining: 866ms\n",
            "223:\tlearn: 0.3040534\ttotal: 250ms\tremaining: 865ms\n",
            "224:\tlearn: 0.3034287\ttotal: 250ms\tremaining: 863ms\n",
            "225:\tlearn: 0.3027970\ttotal: 251ms\tremaining: 861ms\n",
            "226:\tlearn: 0.3020879\ttotal: 252ms\tremaining: 859ms\n",
            "227:\tlearn: 0.3011552\ttotal: 253ms\tremaining: 857ms\n",
            "228:\tlearn: 0.3005985\ttotal: 254ms\tremaining: 855ms\n",
            "229:\tlearn: 0.2997306\ttotal: 255ms\tremaining: 852ms\n",
            "230:\tlearn: 0.2990510\ttotal: 255ms\tremaining: 850ms\n",
            "231:\tlearn: 0.2983418\ttotal: 256ms\tremaining: 848ms\n",
            "232:\tlearn: 0.2974528\ttotal: 257ms\tremaining: 846ms\n",
            "233:\tlearn: 0.2966300\ttotal: 258ms\tremaining: 844ms\n",
            "234:\tlearn: 0.2957883\ttotal: 259ms\tremaining: 842ms\n",
            "235:\tlearn: 0.2952060\ttotal: 260ms\tremaining: 840ms\n",
            "236:\tlearn: 0.2944183\ttotal: 260ms\tremaining: 838ms\n",
            "237:\tlearn: 0.2933743\ttotal: 261ms\tremaining: 836ms\n",
            "238:\tlearn: 0.2929736\ttotal: 262ms\tremaining: 835ms\n",
            "239:\tlearn: 0.2924135\ttotal: 263ms\tremaining: 833ms\n",
            "240:\tlearn: 0.2915474\ttotal: 264ms\tremaining: 831ms\n",
            "241:\tlearn: 0.2909521\ttotal: 265ms\tremaining: 829ms\n",
            "242:\tlearn: 0.2904881\ttotal: 265ms\tremaining: 826ms\n",
            "243:\tlearn: 0.2899285\ttotal: 266ms\tremaining: 824ms\n",
            "244:\tlearn: 0.2891314\ttotal: 267ms\tremaining: 822ms\n",
            "245:\tlearn: 0.2883909\ttotal: 268ms\tremaining: 820ms\n",
            "246:\tlearn: 0.2875806\ttotal: 269ms\tremaining: 819ms\n",
            "247:\tlearn: 0.2867480\ttotal: 269ms\tremaining: 817ms\n",
            "248:\tlearn: 0.2861210\ttotal: 270ms\tremaining: 815ms\n",
            "249:\tlearn: 0.2853756\ttotal: 271ms\tremaining: 813ms\n",
            "250:\tlearn: 0.2846178\ttotal: 272ms\tremaining: 811ms\n",
            "251:\tlearn: 0.2840049\ttotal: 273ms\tremaining: 810ms\n",
            "252:\tlearn: 0.2830852\ttotal: 274ms\tremaining: 808ms\n",
            "253:\tlearn: 0.2822373\ttotal: 274ms\tremaining: 806ms\n",
            "254:\tlearn: 0.2815375\ttotal: 275ms\tremaining: 804ms\n",
            "255:\tlearn: 0.2810813\ttotal: 276ms\tremaining: 802ms\n",
            "256:\tlearn: 0.2804796\ttotal: 277ms\tremaining: 800ms\n",
            "257:\tlearn: 0.2798894\ttotal: 278ms\tremaining: 798ms\n",
            "258:\tlearn: 0.2795591\ttotal: 278ms\tremaining: 796ms\n",
            "259:\tlearn: 0.2788110\ttotal: 279ms\tremaining: 795ms\n",
            "260:\tlearn: 0.2782656\ttotal: 280ms\tremaining: 793ms\n",
            "261:\tlearn: 0.2774988\ttotal: 281ms\tremaining: 791ms\n",
            "262:\tlearn: 0.2768518\ttotal: 282ms\tremaining: 789ms\n",
            "263:\tlearn: 0.2762518\ttotal: 283ms\tremaining: 788ms\n",
            "264:\tlearn: 0.2758708\ttotal: 283ms\tremaining: 786ms\n",
            "265:\tlearn: 0.2752126\ttotal: 284ms\tremaining: 784ms\n",
            "266:\tlearn: 0.2745980\ttotal: 285ms\tremaining: 783ms\n",
            "267:\tlearn: 0.2739458\ttotal: 286ms\tremaining: 781ms\n",
            "268:\tlearn: 0.2734335\ttotal: 287ms\tremaining: 779ms\n",
            "269:\tlearn: 0.2727349\ttotal: 288ms\tremaining: 778ms\n",
            "270:\tlearn: 0.2721484\ttotal: 289ms\tremaining: 776ms\n",
            "271:\tlearn: 0.2713540\ttotal: 289ms\tremaining: 774ms\n",
            "272:\tlearn: 0.2707750\ttotal: 290ms\tremaining: 773ms\n",
            "273:\tlearn: 0.2702327\ttotal: 291ms\tremaining: 771ms\n",
            "274:\tlearn: 0.2698469\ttotal: 292ms\tremaining: 769ms\n",
            "275:\tlearn: 0.2690647\ttotal: 293ms\tremaining: 767ms\n",
            "276:\tlearn: 0.2686165\ttotal: 293ms\tremaining: 766ms\n",
            "277:\tlearn: 0.2681178\ttotal: 294ms\tremaining: 764ms\n",
            "278:\tlearn: 0.2675851\ttotal: 295ms\tremaining: 763ms\n",
            "279:\tlearn: 0.2669668\ttotal: 296ms\tremaining: 761ms\n",
            "280:\tlearn: 0.2664249\ttotal: 297ms\tremaining: 759ms\n",
            "281:\tlearn: 0.2659596\ttotal: 297ms\tremaining: 757ms\n",
            "282:\tlearn: 0.2652946\ttotal: 298ms\tremaining: 756ms\n",
            "283:\tlearn: 0.2649051\ttotal: 299ms\tremaining: 754ms\n",
            "284:\tlearn: 0.2642764\ttotal: 300ms\tremaining: 753ms\n",
            "285:\tlearn: 0.2637866\ttotal: 301ms\tremaining: 751ms\n",
            "286:\tlearn: 0.2632890\ttotal: 302ms\tremaining: 749ms\n",
            "287:\tlearn: 0.2626776\ttotal: 302ms\tremaining: 747ms\n",
            "288:\tlearn: 0.2624960\ttotal: 303ms\tremaining: 745ms\n",
            "289:\tlearn: 0.2620574\ttotal: 304ms\tremaining: 744ms\n",
            "290:\tlearn: 0.2615406\ttotal: 305ms\tremaining: 742ms\n",
            "291:\tlearn: 0.2610732\ttotal: 305ms\tremaining: 741ms\n",
            "292:\tlearn: 0.2603673\ttotal: 306ms\tremaining: 739ms\n",
            "293:\tlearn: 0.2596147\ttotal: 307ms\tremaining: 738ms\n",
            "294:\tlearn: 0.2591350\ttotal: 308ms\tremaining: 736ms\n",
            "295:\tlearn: 0.2586600\ttotal: 309ms\tremaining: 735ms\n",
            "296:\tlearn: 0.2577742\ttotal: 310ms\tremaining: 734ms\n",
            "297:\tlearn: 0.2574934\ttotal: 311ms\tremaining: 732ms\n",
            "298:\tlearn: 0.2568859\ttotal: 312ms\tremaining: 731ms\n",
            "299:\tlearn: 0.2561333\ttotal: 312ms\tremaining: 729ms\n",
            "300:\tlearn: 0.2555887\ttotal: 313ms\tremaining: 728ms\n",
            "301:\tlearn: 0.2551497\ttotal: 314ms\tremaining: 726ms\n",
            "302:\tlearn: 0.2547671\ttotal: 315ms\tremaining: 725ms\n",
            "303:\tlearn: 0.2543184\ttotal: 316ms\tremaining: 723ms\n",
            "304:\tlearn: 0.2538844\ttotal: 317ms\tremaining: 722ms\n",
            "305:\tlearn: 0.2532615\ttotal: 318ms\tremaining: 720ms\n",
            "306:\tlearn: 0.2528054\ttotal: 318ms\tremaining: 719ms\n",
            "307:\tlearn: 0.2524553\ttotal: 319ms\tremaining: 717ms\n",
            "308:\tlearn: 0.2522752\ttotal: 320ms\tremaining: 715ms\n",
            "309:\tlearn: 0.2517453\ttotal: 320ms\tremaining: 713ms\n",
            "310:\tlearn: 0.2513612\ttotal: 321ms\tremaining: 712ms\n",
            "311:\tlearn: 0.2506742\ttotal: 322ms\tremaining: 711ms\n",
            "312:\tlearn: 0.2500536\ttotal: 323ms\tremaining: 709ms\n",
            "313:\tlearn: 0.2494178\ttotal: 324ms\tremaining: 708ms\n",
            "314:\tlearn: 0.2488661\ttotal: 325ms\tremaining: 706ms\n",
            "315:\tlearn: 0.2483881\ttotal: 326ms\tremaining: 705ms\n",
            "316:\tlearn: 0.2480812\ttotal: 326ms\tremaining: 703ms\n",
            "317:\tlearn: 0.2475468\ttotal: 328ms\tremaining: 702ms\n",
            "318:\tlearn: 0.2468092\ttotal: 329ms\tremaining: 702ms\n",
            "319:\tlearn: 0.2461395\ttotal: 330ms\tremaining: 701ms\n",
            "320:\tlearn: 0.2454057\ttotal: 331ms\tremaining: 699ms\n",
            "321:\tlearn: 0.2448657\ttotal: 332ms\tremaining: 698ms\n",
            "322:\tlearn: 0.2445617\ttotal: 332ms\tremaining: 697ms\n",
            "323:\tlearn: 0.2440194\ttotal: 333ms\tremaining: 695ms\n",
            "324:\tlearn: 0.2436839\ttotal: 334ms\tremaining: 694ms\n",
            "325:\tlearn: 0.2432951\ttotal: 335ms\tremaining: 693ms\n",
            "326:\tlearn: 0.2427019\ttotal: 336ms\tremaining: 691ms\n",
            "327:\tlearn: 0.2424599\ttotal: 337ms\tremaining: 690ms\n",
            "328:\tlearn: 0.2419463\ttotal: 338ms\tremaining: 689ms\n",
            "329:\tlearn: 0.2416993\ttotal: 339ms\tremaining: 687ms\n",
            "330:\tlearn: 0.2413512\ttotal: 339ms\tremaining: 686ms\n",
            "331:\tlearn: 0.2409394\ttotal: 340ms\tremaining: 685ms\n",
            "332:\tlearn: 0.2403956\ttotal: 341ms\tremaining: 683ms\n",
            "333:\tlearn: 0.2399228\ttotal: 342ms\tremaining: 682ms\n",
            "334:\tlearn: 0.2395458\ttotal: 343ms\tremaining: 681ms\n",
            "335:\tlearn: 0.2389552\ttotal: 344ms\tremaining: 679ms\n",
            "336:\tlearn: 0.2384653\ttotal: 344ms\tremaining: 678ms\n",
            "337:\tlearn: 0.2378275\ttotal: 345ms\tremaining: 676ms\n",
            "338:\tlearn: 0.2376110\ttotal: 346ms\tremaining: 674ms\n",
            "339:\tlearn: 0.2371036\ttotal: 347ms\tremaining: 673ms\n",
            "340:\tlearn: 0.2364881\ttotal: 348ms\tremaining: 672ms\n",
            "341:\tlearn: 0.2359978\ttotal: 349ms\tremaining: 671ms\n",
            "342:\tlearn: 0.2354279\ttotal: 350ms\tremaining: 670ms\n",
            "343:\tlearn: 0.2349219\ttotal: 351ms\tremaining: 669ms\n",
            "344:\tlearn: 0.2343970\ttotal: 352ms\tremaining: 668ms\n",
            "345:\tlearn: 0.2338200\ttotal: 353ms\tremaining: 667ms\n",
            "346:\tlearn: 0.2333282\ttotal: 354ms\tremaining: 665ms\n",
            "347:\tlearn: 0.2331023\ttotal: 355ms\tremaining: 664ms\n",
            "348:\tlearn: 0.2328345\ttotal: 355ms\tremaining: 663ms\n",
            "349:\tlearn: 0.2324691\ttotal: 356ms\tremaining: 662ms\n",
            "350:\tlearn: 0.2319624\ttotal: 357ms\tremaining: 660ms\n",
            "351:\tlearn: 0.2314548\ttotal: 358ms\tremaining: 659ms\n",
            "352:\tlearn: 0.2309149\ttotal: 359ms\tremaining: 658ms\n",
            "353:\tlearn: 0.2304982\ttotal: 360ms\tremaining: 657ms\n",
            "354:\tlearn: 0.2302400\ttotal: 362ms\tremaining: 657ms\n",
            "355:\tlearn: 0.2297715\ttotal: 364ms\tremaining: 658ms\n",
            "356:\tlearn: 0.2293900\ttotal: 365ms\tremaining: 657ms\n",
            "357:\tlearn: 0.2292651\ttotal: 366ms\tremaining: 657ms\n",
            "358:\tlearn: 0.2289137\ttotal: 367ms\tremaining: 656ms\n",
            "359:\tlearn: 0.2284511\ttotal: 369ms\tremaining: 656ms\n",
            "360:\tlearn: 0.2278837\ttotal: 370ms\tremaining: 655ms\n",
            "361:\tlearn: 0.2274667\ttotal: 371ms\tremaining: 654ms\n",
            "362:\tlearn: 0.2273712\ttotal: 372ms\tremaining: 652ms\n",
            "363:\tlearn: 0.2268104\ttotal: 372ms\tremaining: 651ms\n",
            "364:\tlearn: 0.2263810\ttotal: 373ms\tremaining: 649ms\n",
            "365:\tlearn: 0.2260414\ttotal: 374ms\tremaining: 648ms\n",
            "366:\tlearn: 0.2253572\ttotal: 375ms\tremaining: 647ms\n",
            "367:\tlearn: 0.2251650\ttotal: 376ms\tremaining: 645ms\n",
            "368:\tlearn: 0.2245875\ttotal: 377ms\tremaining: 644ms\n",
            "369:\tlearn: 0.2242130\ttotal: 377ms\tremaining: 643ms\n",
            "370:\tlearn: 0.2239043\ttotal: 378ms\tremaining: 641ms\n",
            "371:\tlearn: 0.2234765\ttotal: 379ms\tremaining: 640ms\n",
            "372:\tlearn: 0.2230088\ttotal: 380ms\tremaining: 639ms\n",
            "373:\tlearn: 0.2225843\ttotal: 381ms\tremaining: 637ms\n",
            "374:\tlearn: 0.2222993\ttotal: 382ms\tremaining: 636ms\n",
            "375:\tlearn: 0.2220852\ttotal: 382ms\tremaining: 635ms\n",
            "376:\tlearn: 0.2217287\ttotal: 383ms\tremaining: 633ms\n",
            "377:\tlearn: 0.2216778\ttotal: 384ms\tremaining: 631ms\n",
            "378:\tlearn: 0.2212417\ttotal: 385ms\tremaining: 630ms\n",
            "379:\tlearn: 0.2208482\ttotal: 385ms\tremaining: 629ms\n",
            "380:\tlearn: 0.2204330\ttotal: 386ms\tremaining: 628ms\n",
            "381:\tlearn: 0.2199837\ttotal: 387ms\tremaining: 626ms\n",
            "382:\tlearn: 0.2196064\ttotal: 388ms\tremaining: 625ms\n",
            "383:\tlearn: 0.2191056\ttotal: 389ms\tremaining: 623ms\n",
            "384:\tlearn: 0.2185367\ttotal: 389ms\tremaining: 622ms\n",
            "385:\tlearn: 0.2181953\ttotal: 390ms\tremaining: 621ms\n",
            "386:\tlearn: 0.2178195\ttotal: 391ms\tremaining: 619ms\n",
            "387:\tlearn: 0.2173089\ttotal: 392ms\tremaining: 618ms\n",
            "388:\tlearn: 0.2169355\ttotal: 393ms\tremaining: 617ms\n",
            "389:\tlearn: 0.2164792\ttotal: 394ms\tremaining: 616ms\n",
            "390:\tlearn: 0.2161009\ttotal: 395ms\tremaining: 614ms\n",
            "391:\tlearn: 0.2157857\ttotal: 395ms\tremaining: 613ms\n",
            "392:\tlearn: 0.2153908\ttotal: 396ms\tremaining: 612ms\n",
            "393:\tlearn: 0.2150584\ttotal: 397ms\tremaining: 611ms\n",
            "394:\tlearn: 0.2147815\ttotal: 398ms\tremaining: 610ms\n",
            "395:\tlearn: 0.2144589\ttotal: 399ms\tremaining: 608ms\n",
            "396:\tlearn: 0.2141336\ttotal: 400ms\tremaining: 607ms\n",
            "397:\tlearn: 0.2136808\ttotal: 400ms\tremaining: 606ms\n",
            "398:\tlearn: 0.2135233\ttotal: 401ms\tremaining: 604ms\n",
            "399:\tlearn: 0.2132022\ttotal: 402ms\tremaining: 603ms\n",
            "400:\tlearn: 0.2127569\ttotal: 403ms\tremaining: 601ms\n",
            "401:\tlearn: 0.2123544\ttotal: 403ms\tremaining: 600ms\n",
            "402:\tlearn: 0.2121235\ttotal: 404ms\tremaining: 599ms\n",
            "403:\tlearn: 0.2118280\ttotal: 405ms\tremaining: 598ms\n",
            "404:\tlearn: 0.2115346\ttotal: 406ms\tremaining: 596ms\n",
            "405:\tlearn: 0.2110425\ttotal: 407ms\tremaining: 595ms\n",
            "406:\tlearn: 0.2108256\ttotal: 408ms\tremaining: 594ms\n",
            "407:\tlearn: 0.2105674\ttotal: 408ms\tremaining: 593ms\n",
            "408:\tlearn: 0.2102335\ttotal: 409ms\tremaining: 591ms\n",
            "409:\tlearn: 0.2100222\ttotal: 410ms\tremaining: 590ms\n",
            "410:\tlearn: 0.2096759\ttotal: 411ms\tremaining: 589ms\n",
            "411:\tlearn: 0.2094239\ttotal: 412ms\tremaining: 588ms\n",
            "412:\tlearn: 0.2090141\ttotal: 413ms\tremaining: 587ms\n",
            "413:\tlearn: 0.2086553\ttotal: 414ms\tremaining: 586ms\n",
            "414:\tlearn: 0.2082968\ttotal: 415ms\tremaining: 584ms\n",
            "415:\tlearn: 0.2080027\ttotal: 415ms\tremaining: 583ms\n",
            "416:\tlearn: 0.2076617\ttotal: 416ms\tremaining: 582ms\n",
            "417:\tlearn: 0.2071632\ttotal: 417ms\tremaining: 581ms\n",
            "418:\tlearn: 0.2068255\ttotal: 418ms\tremaining: 579ms\n",
            "419:\tlearn: 0.2065314\ttotal: 419ms\tremaining: 578ms\n",
            "420:\tlearn: 0.2063176\ttotal: 420ms\tremaining: 577ms\n",
            "421:\tlearn: 0.2059755\ttotal: 420ms\tremaining: 576ms\n",
            "422:\tlearn: 0.2056831\ttotal: 421ms\tremaining: 575ms\n",
            "423:\tlearn: 0.2051697\ttotal: 422ms\tremaining: 573ms\n",
            "424:\tlearn: 0.2051098\ttotal: 423ms\tremaining: 572ms\n",
            "425:\tlearn: 0.2046750\ttotal: 423ms\tremaining: 570ms\n",
            "426:\tlearn: 0.2044688\ttotal: 424ms\tremaining: 569ms\n",
            "427:\tlearn: 0.2041958\ttotal: 425ms\tremaining: 568ms\n",
            "428:\tlearn: 0.2038932\ttotal: 426ms\tremaining: 567ms\n",
            "429:\tlearn: 0.2035683\ttotal: 427ms\tremaining: 566ms\n",
            "430:\tlearn: 0.2031150\ttotal: 428ms\tremaining: 565ms\n",
            "431:\tlearn: 0.2028716\ttotal: 428ms\tremaining: 563ms\n",
            "432:\tlearn: 0.2026876\ttotal: 429ms\tremaining: 562ms\n",
            "433:\tlearn: 0.2024283\ttotal: 430ms\tremaining: 561ms\n",
            "434:\tlearn: 0.2021619\ttotal: 431ms\tremaining: 560ms\n",
            "435:\tlearn: 0.2019204\ttotal: 432ms\tremaining: 559ms\n",
            "436:\tlearn: 0.2017205\ttotal: 433ms\tremaining: 558ms\n",
            "437:\tlearn: 0.2014732\ttotal: 434ms\tremaining: 557ms\n",
            "438:\tlearn: 0.2010632\ttotal: 435ms\tremaining: 555ms\n",
            "439:\tlearn: 0.2006518\ttotal: 435ms\tremaining: 554ms\n",
            "440:\tlearn: 0.2002950\ttotal: 436ms\tremaining: 553ms\n",
            "441:\tlearn: 0.2000852\ttotal: 437ms\tremaining: 552ms\n",
            "442:\tlearn: 0.1995869\ttotal: 438ms\tremaining: 551ms\n",
            "443:\tlearn: 0.1992675\ttotal: 439ms\tremaining: 550ms\n",
            "444:\tlearn: 0.1989653\ttotal: 440ms\tremaining: 548ms\n",
            "445:\tlearn: 0.1986544\ttotal: 441ms\tremaining: 547ms\n",
            "446:\tlearn: 0.1982851\ttotal: 442ms\tremaining: 546ms\n",
            "447:\tlearn: 0.1979098\ttotal: 442ms\tremaining: 545ms\n",
            "448:\tlearn: 0.1975349\ttotal: 443ms\tremaining: 544ms\n",
            "449:\tlearn: 0.1970698\ttotal: 444ms\tremaining: 543ms\n",
            "450:\tlearn: 0.1968243\ttotal: 445ms\tremaining: 542ms\n",
            "451:\tlearn: 0.1964223\ttotal: 446ms\tremaining: 540ms\n",
            "452:\tlearn: 0.1962233\ttotal: 447ms\tremaining: 539ms\n",
            "453:\tlearn: 0.1959959\ttotal: 447ms\tremaining: 538ms\n",
            "454:\tlearn: 0.1955550\ttotal: 448ms\tremaining: 537ms\n",
            "455:\tlearn: 0.1953546\ttotal: 449ms\tremaining: 536ms\n",
            "456:\tlearn: 0.1950306\ttotal: 450ms\tremaining: 535ms\n",
            "457:\tlearn: 0.1946781\ttotal: 451ms\tremaining: 533ms\n",
            "458:\tlearn: 0.1945156\ttotal: 452ms\tremaining: 532ms\n",
            "459:\tlearn: 0.1942840\ttotal: 452ms\tremaining: 531ms\n",
            "460:\tlearn: 0.1940039\ttotal: 453ms\tremaining: 530ms\n",
            "461:\tlearn: 0.1936774\ttotal: 454ms\tremaining: 529ms\n",
            "462:\tlearn: 0.1934330\ttotal: 455ms\tremaining: 528ms\n",
            "463:\tlearn: 0.1931551\ttotal: 456ms\tremaining: 527ms\n",
            "464:\tlearn: 0.1928921\ttotal: 457ms\tremaining: 525ms\n",
            "465:\tlearn: 0.1926129\ttotal: 457ms\tremaining: 524ms\n",
            "466:\tlearn: 0.1922619\ttotal: 460ms\tremaining: 525ms\n",
            "467:\tlearn: 0.1919047\ttotal: 461ms\tremaining: 524ms\n",
            "468:\tlearn: 0.1916906\ttotal: 461ms\tremaining: 522ms\n",
            "469:\tlearn: 0.1914774\ttotal: 462ms\tremaining: 521ms\n",
            "470:\tlearn: 0.1912268\ttotal: 463ms\tremaining: 520ms\n",
            "471:\tlearn: 0.1910270\ttotal: 464ms\tremaining: 519ms\n",
            "472:\tlearn: 0.1906974\ttotal: 465ms\tremaining: 518ms\n",
            "473:\tlearn: 0.1903891\ttotal: 466ms\tremaining: 517ms\n",
            "474:\tlearn: 0.1899195\ttotal: 467ms\tremaining: 516ms\n",
            "475:\tlearn: 0.1896379\ttotal: 467ms\tremaining: 514ms\n",
            "476:\tlearn: 0.1894509\ttotal: 468ms\tremaining: 513ms\n",
            "477:\tlearn: 0.1891485\ttotal: 469ms\tremaining: 512ms\n",
            "478:\tlearn: 0.1888875\ttotal: 470ms\tremaining: 511ms\n",
            "479:\tlearn: 0.1883141\ttotal: 471ms\tremaining: 510ms\n",
            "480:\tlearn: 0.1880932\ttotal: 472ms\tremaining: 509ms\n",
            "481:\tlearn: 0.1878278\ttotal: 473ms\tremaining: 508ms\n",
            "482:\tlearn: 0.1874253\ttotal: 473ms\tremaining: 507ms\n",
            "483:\tlearn: 0.1871119\ttotal: 474ms\tremaining: 506ms\n",
            "484:\tlearn: 0.1866896\ttotal: 475ms\tremaining: 504ms\n",
            "485:\tlearn: 0.1865072\ttotal: 476ms\tremaining: 503ms\n",
            "486:\tlearn: 0.1862827\ttotal: 477ms\tremaining: 502ms\n",
            "487:\tlearn: 0.1858215\ttotal: 477ms\tremaining: 501ms\n",
            "488:\tlearn: 0.1854985\ttotal: 478ms\tremaining: 500ms\n",
            "489:\tlearn: 0.1852218\ttotal: 479ms\tremaining: 499ms\n",
            "490:\tlearn: 0.1849102\ttotal: 480ms\tremaining: 498ms\n",
            "491:\tlearn: 0.1847129\ttotal: 481ms\tremaining: 497ms\n",
            "492:\tlearn: 0.1844665\ttotal: 482ms\tremaining: 495ms\n",
            "493:\tlearn: 0.1842012\ttotal: 483ms\tremaining: 494ms\n",
            "494:\tlearn: 0.1838907\ttotal: 483ms\tremaining: 493ms\n",
            "495:\tlearn: 0.1836687\ttotal: 484ms\tremaining: 492ms\n",
            "496:\tlearn: 0.1833994\ttotal: 485ms\tremaining: 491ms\n",
            "497:\tlearn: 0.1830514\ttotal: 486ms\tremaining: 490ms\n",
            "498:\tlearn: 0.1827636\ttotal: 487ms\tremaining: 489ms\n",
            "499:\tlearn: 0.1825138\ttotal: 488ms\tremaining: 488ms\n",
            "500:\tlearn: 0.1823720\ttotal: 488ms\tremaining: 487ms\n",
            "501:\tlearn: 0.1821610\ttotal: 489ms\tremaining: 485ms\n",
            "502:\tlearn: 0.1820223\ttotal: 490ms\tremaining: 484ms\n",
            "503:\tlearn: 0.1815428\ttotal: 491ms\tremaining: 483ms\n",
            "504:\tlearn: 0.1812489\ttotal: 491ms\tremaining: 482ms\n",
            "505:\tlearn: 0.1808615\ttotal: 492ms\tremaining: 481ms\n",
            "506:\tlearn: 0.1805040\ttotal: 493ms\tremaining: 479ms\n",
            "507:\tlearn: 0.1801337\ttotal: 494ms\tremaining: 478ms\n",
            "508:\tlearn: 0.1798514\ttotal: 495ms\tremaining: 477ms\n",
            "509:\tlearn: 0.1796055\ttotal: 496ms\tremaining: 476ms\n",
            "510:\tlearn: 0.1793071\ttotal: 496ms\tremaining: 475ms\n",
            "511:\tlearn: 0.1789118\ttotal: 497ms\tremaining: 474ms\n",
            "512:\tlearn: 0.1786599\ttotal: 498ms\tremaining: 473ms\n",
            "513:\tlearn: 0.1783278\ttotal: 499ms\tremaining: 472ms\n",
            "514:\tlearn: 0.1778893\ttotal: 500ms\tremaining: 471ms\n",
            "515:\tlearn: 0.1776019\ttotal: 501ms\tremaining: 470ms\n",
            "516:\tlearn: 0.1772146\ttotal: 502ms\tremaining: 469ms\n",
            "517:\tlearn: 0.1769727\ttotal: 503ms\tremaining: 468ms\n",
            "518:\tlearn: 0.1767476\ttotal: 503ms\tremaining: 467ms\n",
            "519:\tlearn: 0.1765228\ttotal: 504ms\tremaining: 466ms\n",
            "520:\tlearn: 0.1762084\ttotal: 505ms\tremaining: 464ms\n",
            "521:\tlearn: 0.1759380\ttotal: 506ms\tremaining: 463ms\n",
            "522:\tlearn: 0.1756919\ttotal: 507ms\tremaining: 462ms\n",
            "523:\tlearn: 0.1754853\ttotal: 508ms\tremaining: 461ms\n",
            "524:\tlearn: 0.1752779\ttotal: 509ms\tremaining: 460ms\n",
            "525:\tlearn: 0.1750038\ttotal: 509ms\tremaining: 459ms\n",
            "526:\tlearn: 0.1748176\ttotal: 510ms\tremaining: 458ms\n",
            "527:\tlearn: 0.1746413\ttotal: 511ms\tremaining: 457ms\n",
            "528:\tlearn: 0.1743115\ttotal: 512ms\tremaining: 456ms\n",
            "529:\tlearn: 0.1741842\ttotal: 513ms\tremaining: 455ms\n",
            "530:\tlearn: 0.1739346\ttotal: 514ms\tremaining: 454ms\n",
            "531:\tlearn: 0.1738155\ttotal: 514ms\tremaining: 453ms\n",
            "532:\tlearn: 0.1736770\ttotal: 515ms\tremaining: 451ms\n",
            "533:\tlearn: 0.1733878\ttotal: 516ms\tremaining: 450ms\n",
            "534:\tlearn: 0.1731715\ttotal: 517ms\tremaining: 449ms\n",
            "535:\tlearn: 0.1728821\ttotal: 518ms\tremaining: 448ms\n",
            "536:\tlearn: 0.1725423\ttotal: 518ms\tremaining: 447ms\n",
            "537:\tlearn: 0.1723510\ttotal: 519ms\tremaining: 446ms\n",
            "538:\tlearn: 0.1721628\ttotal: 520ms\tremaining: 445ms\n",
            "539:\tlearn: 0.1720617\ttotal: 521ms\tremaining: 444ms\n",
            "540:\tlearn: 0.1719435\ttotal: 522ms\tremaining: 442ms\n",
            "541:\tlearn: 0.1716382\ttotal: 522ms\tremaining: 441ms\n",
            "542:\tlearn: 0.1714192\ttotal: 523ms\tremaining: 440ms\n",
            "543:\tlearn: 0.1710995\ttotal: 524ms\tremaining: 439ms\n",
            "544:\tlearn: 0.1708082\ttotal: 525ms\tremaining: 438ms\n",
            "545:\tlearn: 0.1706097\ttotal: 526ms\tremaining: 437ms\n",
            "546:\tlearn: 0.1704117\ttotal: 527ms\tremaining: 436ms\n",
            "547:\tlearn: 0.1701608\ttotal: 527ms\tremaining: 435ms\n",
            "548:\tlearn: 0.1698415\ttotal: 528ms\tremaining: 434ms\n",
            "549:\tlearn: 0.1695592\ttotal: 529ms\tremaining: 433ms\n",
            "550:\tlearn: 0.1693259\ttotal: 530ms\tremaining: 432ms\n",
            "551:\tlearn: 0.1690345\ttotal: 531ms\tremaining: 431ms\n",
            "552:\tlearn: 0.1688317\ttotal: 531ms\tremaining: 430ms\n",
            "553:\tlearn: 0.1686552\ttotal: 532ms\tremaining: 428ms\n",
            "554:\tlearn: 0.1683852\ttotal: 533ms\tremaining: 427ms\n",
            "555:\tlearn: 0.1682127\ttotal: 534ms\tremaining: 426ms\n",
            "556:\tlearn: 0.1680137\ttotal: 535ms\tremaining: 425ms\n",
            "557:\tlearn: 0.1678615\ttotal: 535ms\tremaining: 424ms\n",
            "558:\tlearn: 0.1677211\ttotal: 536ms\tremaining: 423ms\n",
            "559:\tlearn: 0.1675590\ttotal: 537ms\tremaining: 422ms\n",
            "560:\tlearn: 0.1672311\ttotal: 539ms\tremaining: 422ms\n",
            "561:\tlearn: 0.1670223\ttotal: 540ms\tremaining: 421ms\n",
            "562:\tlearn: 0.1667733\ttotal: 542ms\tremaining: 421ms\n",
            "563:\tlearn: 0.1666201\ttotal: 543ms\tremaining: 420ms\n",
            "564:\tlearn: 0.1662541\ttotal: 544ms\tremaining: 419ms\n",
            "565:\tlearn: 0.1659941\ttotal: 546ms\tremaining: 418ms\n",
            "566:\tlearn: 0.1658277\ttotal: 547ms\tremaining: 417ms\n",
            "567:\tlearn: 0.1655462\ttotal: 548ms\tremaining: 417ms\n",
            "568:\tlearn: 0.1652439\ttotal: 550ms\tremaining: 417ms\n",
            "569:\tlearn: 0.1650120\ttotal: 552ms\tremaining: 417ms\n",
            "570:\tlearn: 0.1647978\ttotal: 553ms\tremaining: 416ms\n",
            "571:\tlearn: 0.1646142\ttotal: 554ms\tremaining: 415ms\n",
            "572:\tlearn: 0.1643659\ttotal: 555ms\tremaining: 414ms\n",
            "573:\tlearn: 0.1641959\ttotal: 556ms\tremaining: 413ms\n",
            "574:\tlearn: 0.1639429\ttotal: 557ms\tremaining: 412ms\n",
            "575:\tlearn: 0.1637243\ttotal: 558ms\tremaining: 410ms\n",
            "576:\tlearn: 0.1634359\ttotal: 558ms\tremaining: 409ms\n",
            "577:\tlearn: 0.1631558\ttotal: 559ms\tremaining: 408ms\n",
            "578:\tlearn: 0.1629494\ttotal: 560ms\tremaining: 407ms\n",
            "579:\tlearn: 0.1627073\ttotal: 561ms\tremaining: 406ms\n",
            "580:\tlearn: 0.1624239\ttotal: 562ms\tremaining: 405ms\n",
            "581:\tlearn: 0.1621660\ttotal: 563ms\tremaining: 404ms\n",
            "582:\tlearn: 0.1618478\ttotal: 563ms\tremaining: 403ms\n",
            "583:\tlearn: 0.1615818\ttotal: 564ms\tremaining: 402ms\n",
            "584:\tlearn: 0.1614372\ttotal: 565ms\tremaining: 401ms\n",
            "585:\tlearn: 0.1610877\ttotal: 566ms\tremaining: 400ms\n",
            "586:\tlearn: 0.1608993\ttotal: 567ms\tremaining: 399ms\n",
            "587:\tlearn: 0.1605727\ttotal: 568ms\tremaining: 398ms\n",
            "588:\tlearn: 0.1603889\ttotal: 569ms\tremaining: 397ms\n",
            "589:\tlearn: 0.1601173\ttotal: 570ms\tremaining: 396ms\n",
            "590:\tlearn: 0.1599082\ttotal: 571ms\tremaining: 395ms\n",
            "591:\tlearn: 0.1598022\ttotal: 571ms\tremaining: 394ms\n",
            "592:\tlearn: 0.1595673\ttotal: 572ms\tremaining: 393ms\n",
            "593:\tlearn: 0.1592706\ttotal: 574ms\tremaining: 392ms\n",
            "594:\tlearn: 0.1589932\ttotal: 575ms\tremaining: 391ms\n",
            "595:\tlearn: 0.1587869\ttotal: 576ms\tremaining: 390ms\n",
            "596:\tlearn: 0.1586941\ttotal: 577ms\tremaining: 389ms\n",
            "597:\tlearn: 0.1585355\ttotal: 578ms\tremaining: 388ms\n",
            "598:\tlearn: 0.1582654\ttotal: 579ms\tremaining: 388ms\n",
            "599:\tlearn: 0.1581469\ttotal: 580ms\tremaining: 387ms\n",
            "600:\tlearn: 0.1579448\ttotal: 581ms\tremaining: 386ms\n",
            "601:\tlearn: 0.1577954\ttotal: 582ms\tremaining: 385ms\n",
            "602:\tlearn: 0.1575900\ttotal: 583ms\tremaining: 384ms\n",
            "603:\tlearn: 0.1574128\ttotal: 584ms\tremaining: 383ms\n",
            "604:\tlearn: 0.1571116\ttotal: 584ms\tremaining: 382ms\n",
            "605:\tlearn: 0.1568872\ttotal: 585ms\tremaining: 381ms\n",
            "606:\tlearn: 0.1566780\ttotal: 586ms\tremaining: 379ms\n",
            "607:\tlearn: 0.1564500\ttotal: 587ms\tremaining: 378ms\n",
            "608:\tlearn: 0.1562322\ttotal: 588ms\tremaining: 377ms\n",
            "609:\tlearn: 0.1560968\ttotal: 589ms\tremaining: 376ms\n",
            "610:\tlearn: 0.1559799\ttotal: 589ms\tremaining: 375ms\n",
            "611:\tlearn: 0.1558070\ttotal: 590ms\tremaining: 374ms\n",
            "612:\tlearn: 0.1555775\ttotal: 591ms\tremaining: 373ms\n",
            "613:\tlearn: 0.1553326\ttotal: 592ms\tremaining: 372ms\n",
            "614:\tlearn: 0.1550883\ttotal: 593ms\tremaining: 371ms\n",
            "615:\tlearn: 0.1548032\ttotal: 593ms\tremaining: 370ms\n",
            "616:\tlearn: 0.1545669\ttotal: 594ms\tremaining: 369ms\n",
            "617:\tlearn: 0.1543725\ttotal: 595ms\tremaining: 368ms\n",
            "618:\tlearn: 0.1541513\ttotal: 596ms\tremaining: 367ms\n",
            "619:\tlearn: 0.1537807\ttotal: 597ms\tremaining: 366ms\n",
            "620:\tlearn: 0.1536782\ttotal: 598ms\tremaining: 365ms\n",
            "621:\tlearn: 0.1534554\ttotal: 599ms\tremaining: 364ms\n",
            "622:\tlearn: 0.1532326\ttotal: 600ms\tremaining: 363ms\n",
            "623:\tlearn: 0.1529839\ttotal: 600ms\tremaining: 362ms\n",
            "624:\tlearn: 0.1528330\ttotal: 601ms\tremaining: 361ms\n",
            "625:\tlearn: 0.1526662\ttotal: 602ms\tremaining: 360ms\n",
            "626:\tlearn: 0.1525624\ttotal: 603ms\tremaining: 359ms\n",
            "627:\tlearn: 0.1523862\ttotal: 604ms\tremaining: 358ms\n",
            "628:\tlearn: 0.1523004\ttotal: 604ms\tremaining: 357ms\n",
            "629:\tlearn: 0.1521868\ttotal: 605ms\tremaining: 355ms\n",
            "630:\tlearn: 0.1520546\ttotal: 606ms\tremaining: 354ms\n",
            "631:\tlearn: 0.1519632\ttotal: 607ms\tremaining: 353ms\n",
            "632:\tlearn: 0.1516432\ttotal: 608ms\tremaining: 352ms\n",
            "633:\tlearn: 0.1515083\ttotal: 609ms\tremaining: 351ms\n",
            "634:\tlearn: 0.1513380\ttotal: 610ms\tremaining: 350ms\n",
            "635:\tlearn: 0.1511736\ttotal: 610ms\tremaining: 349ms\n",
            "636:\tlearn: 0.1509519\ttotal: 611ms\tremaining: 348ms\n",
            "637:\tlearn: 0.1508593\ttotal: 612ms\tremaining: 347ms\n",
            "638:\tlearn: 0.1505978\ttotal: 613ms\tremaining: 346ms\n",
            "639:\tlearn: 0.1502746\ttotal: 613ms\tremaining: 345ms\n",
            "640:\tlearn: 0.1500694\ttotal: 614ms\tremaining: 344ms\n",
            "641:\tlearn: 0.1499236\ttotal: 615ms\tremaining: 343ms\n",
            "642:\tlearn: 0.1497371\ttotal: 616ms\tremaining: 342ms\n",
            "643:\tlearn: 0.1495276\ttotal: 617ms\tremaining: 341ms\n",
            "644:\tlearn: 0.1493383\ttotal: 618ms\tremaining: 340ms\n",
            "645:\tlearn: 0.1491302\ttotal: 618ms\tremaining: 339ms\n",
            "646:\tlearn: 0.1490295\ttotal: 619ms\tremaining: 338ms\n",
            "647:\tlearn: 0.1488275\ttotal: 620ms\tremaining: 337ms\n",
            "648:\tlearn: 0.1486716\ttotal: 621ms\tremaining: 336ms\n",
            "649:\tlearn: 0.1485637\ttotal: 622ms\tremaining: 335ms\n",
            "650:\tlearn: 0.1484003\ttotal: 623ms\tremaining: 334ms\n",
            "651:\tlearn: 0.1481585\ttotal: 623ms\tremaining: 333ms\n",
            "652:\tlearn: 0.1480111\ttotal: 624ms\tremaining: 332ms\n",
            "653:\tlearn: 0.1476487\ttotal: 625ms\tremaining: 331ms\n",
            "654:\tlearn: 0.1474824\ttotal: 626ms\tremaining: 330ms\n",
            "655:\tlearn: 0.1472950\ttotal: 627ms\tremaining: 329ms\n",
            "656:\tlearn: 0.1470437\ttotal: 628ms\tremaining: 328ms\n",
            "657:\tlearn: 0.1467144\ttotal: 628ms\tremaining: 327ms\n",
            "658:\tlearn: 0.1465310\ttotal: 629ms\tremaining: 326ms\n",
            "659:\tlearn: 0.1462864\ttotal: 630ms\tremaining: 325ms\n",
            "660:\tlearn: 0.1461770\ttotal: 631ms\tremaining: 324ms\n",
            "661:\tlearn: 0.1460298\ttotal: 632ms\tremaining: 323ms\n",
            "662:\tlearn: 0.1458177\ttotal: 633ms\tremaining: 322ms\n",
            "663:\tlearn: 0.1456717\ttotal: 633ms\tremaining: 321ms\n",
            "664:\tlearn: 0.1454769\ttotal: 634ms\tremaining: 320ms\n",
            "665:\tlearn: 0.1454521\ttotal: 635ms\tremaining: 318ms\n",
            "666:\tlearn: 0.1452348\ttotal: 635ms\tremaining: 317ms\n",
            "667:\tlearn: 0.1449605\ttotal: 636ms\tremaining: 316ms\n",
            "668:\tlearn: 0.1446857\ttotal: 637ms\tremaining: 315ms\n",
            "669:\tlearn: 0.1444772\ttotal: 638ms\tremaining: 314ms\n",
            "670:\tlearn: 0.1442976\ttotal: 639ms\tremaining: 313ms\n",
            "671:\tlearn: 0.1440413\ttotal: 639ms\tremaining: 312ms\n",
            "672:\tlearn: 0.1438008\ttotal: 640ms\tremaining: 311ms\n",
            "673:\tlearn: 0.1436176\ttotal: 641ms\tremaining: 310ms\n",
            "674:\tlearn: 0.1434208\ttotal: 642ms\tremaining: 309ms\n",
            "675:\tlearn: 0.1433752\ttotal: 643ms\tremaining: 308ms\n",
            "676:\tlearn: 0.1431696\ttotal: 643ms\tremaining: 307ms\n",
            "677:\tlearn: 0.1430936\ttotal: 644ms\tremaining: 306ms\n",
            "678:\tlearn: 0.1428995\ttotal: 645ms\tremaining: 305ms\n",
            "679:\tlearn: 0.1427654\ttotal: 646ms\tremaining: 304ms\n",
            "680:\tlearn: 0.1425315\ttotal: 647ms\tremaining: 303ms\n",
            "681:\tlearn: 0.1424012\ttotal: 647ms\tremaining: 302ms\n",
            "682:\tlearn: 0.1421973\ttotal: 648ms\tremaining: 301ms\n",
            "683:\tlearn: 0.1420335\ttotal: 649ms\tremaining: 300ms\n",
            "684:\tlearn: 0.1418363\ttotal: 650ms\tremaining: 299ms\n",
            "685:\tlearn: 0.1417122\ttotal: 651ms\tremaining: 298ms\n",
            "686:\tlearn: 0.1415110\ttotal: 652ms\tremaining: 297ms\n",
            "687:\tlearn: 0.1414075\ttotal: 653ms\tremaining: 296ms\n",
            "688:\tlearn: 0.1413163\ttotal: 654ms\tremaining: 295ms\n",
            "689:\tlearn: 0.1409514\ttotal: 655ms\tremaining: 294ms\n",
            "690:\tlearn: 0.1408293\ttotal: 656ms\tremaining: 293ms\n",
            "691:\tlearn: 0.1406268\ttotal: 657ms\tremaining: 292ms\n",
            "692:\tlearn: 0.1404694\ttotal: 658ms\tremaining: 291ms\n",
            "693:\tlearn: 0.1403511\ttotal: 659ms\tremaining: 291ms\n",
            "694:\tlearn: 0.1401134\ttotal: 660ms\tremaining: 290ms\n",
            "695:\tlearn: 0.1399898\ttotal: 661ms\tremaining: 289ms\n",
            "696:\tlearn: 0.1398411\ttotal: 662ms\tremaining: 288ms\n",
            "697:\tlearn: 0.1395983\ttotal: 663ms\tremaining: 287ms\n",
            "698:\tlearn: 0.1394946\ttotal: 664ms\tremaining: 286ms\n",
            "699:\tlearn: 0.1393963\ttotal: 665ms\tremaining: 285ms\n",
            "700:\tlearn: 0.1392850\ttotal: 665ms\tremaining: 284ms\n",
            "701:\tlearn: 0.1390642\ttotal: 666ms\tremaining: 283ms\n",
            "702:\tlearn: 0.1388469\ttotal: 667ms\tremaining: 282ms\n",
            "703:\tlearn: 0.1385883\ttotal: 668ms\tremaining: 281ms\n",
            "704:\tlearn: 0.1383662\ttotal: 669ms\tremaining: 280ms\n",
            "705:\tlearn: 0.1382184\ttotal: 670ms\tremaining: 279ms\n",
            "706:\tlearn: 0.1379823\ttotal: 671ms\tremaining: 278ms\n",
            "707:\tlearn: 0.1377562\ttotal: 672ms\tremaining: 277ms\n",
            "708:\tlearn: 0.1376296\ttotal: 673ms\tremaining: 276ms\n",
            "709:\tlearn: 0.1374112\ttotal: 674ms\tremaining: 275ms\n",
            "710:\tlearn: 0.1373175\ttotal: 675ms\tremaining: 274ms\n",
            "711:\tlearn: 0.1371212\ttotal: 676ms\tremaining: 273ms\n",
            "712:\tlearn: 0.1368474\ttotal: 677ms\tremaining: 272ms\n",
            "713:\tlearn: 0.1366880\ttotal: 678ms\tremaining: 271ms\n",
            "714:\tlearn: 0.1365108\ttotal: 679ms\tremaining: 270ms\n",
            "715:\tlearn: 0.1363716\ttotal: 680ms\tremaining: 270ms\n",
            "716:\tlearn: 0.1362282\ttotal: 681ms\tremaining: 269ms\n",
            "717:\tlearn: 0.1361053\ttotal: 682ms\tremaining: 268ms\n",
            "718:\tlearn: 0.1359047\ttotal: 682ms\tremaining: 267ms\n",
            "719:\tlearn: 0.1357381\ttotal: 683ms\tremaining: 266ms\n",
            "720:\tlearn: 0.1355418\ttotal: 684ms\tremaining: 265ms\n",
            "721:\tlearn: 0.1353233\ttotal: 685ms\tremaining: 264ms\n",
            "722:\tlearn: 0.1351208\ttotal: 686ms\tremaining: 263ms\n",
            "723:\tlearn: 0.1347669\ttotal: 687ms\tremaining: 262ms\n",
            "724:\tlearn: 0.1345944\ttotal: 687ms\tremaining: 261ms\n",
            "725:\tlearn: 0.1344504\ttotal: 688ms\tremaining: 260ms\n",
            "726:\tlearn: 0.1341767\ttotal: 689ms\tremaining: 259ms\n",
            "727:\tlearn: 0.1340640\ttotal: 690ms\tremaining: 258ms\n",
            "728:\tlearn: 0.1340164\ttotal: 691ms\tremaining: 257ms\n",
            "729:\tlearn: 0.1338437\ttotal: 692ms\tremaining: 256ms\n",
            "730:\tlearn: 0.1335893\ttotal: 693ms\tremaining: 255ms\n",
            "731:\tlearn: 0.1333763\ttotal: 694ms\tremaining: 254ms\n",
            "732:\tlearn: 0.1332229\ttotal: 695ms\tremaining: 253ms\n",
            "733:\tlearn: 0.1330845\ttotal: 696ms\tremaining: 252ms\n",
            "734:\tlearn: 0.1330089\ttotal: 696ms\tremaining: 251ms\n",
            "735:\tlearn: 0.1328217\ttotal: 697ms\tremaining: 250ms\n",
            "736:\tlearn: 0.1327441\ttotal: 698ms\tremaining: 249ms\n",
            "737:\tlearn: 0.1324423\ttotal: 699ms\tremaining: 248ms\n",
            "738:\tlearn: 0.1322543\ttotal: 700ms\tremaining: 247ms\n",
            "739:\tlearn: 0.1320149\ttotal: 701ms\tremaining: 246ms\n",
            "740:\tlearn: 0.1318956\ttotal: 701ms\tremaining: 245ms\n",
            "741:\tlearn: 0.1317830\ttotal: 702ms\tremaining: 244ms\n",
            "742:\tlearn: 0.1316156\ttotal: 703ms\tremaining: 243ms\n",
            "743:\tlearn: 0.1314518\ttotal: 704ms\tremaining: 242ms\n",
            "744:\tlearn: 0.1313621\ttotal: 705ms\tremaining: 241ms\n",
            "745:\tlearn: 0.1312447\ttotal: 706ms\tremaining: 240ms\n",
            "746:\tlearn: 0.1311068\ttotal: 706ms\tremaining: 239ms\n",
            "747:\tlearn: 0.1310564\ttotal: 707ms\tremaining: 238ms\n",
            "748:\tlearn: 0.1309065\ttotal: 708ms\tremaining: 237ms\n",
            "749:\tlearn: 0.1307033\ttotal: 709ms\tremaining: 236ms\n",
            "750:\tlearn: 0.1304816\ttotal: 710ms\tremaining: 235ms\n",
            "751:\tlearn: 0.1303413\ttotal: 710ms\tremaining: 234ms\n",
            "752:\tlearn: 0.1301209\ttotal: 711ms\tremaining: 233ms\n",
            "753:\tlearn: 0.1300412\ttotal: 712ms\tremaining: 232ms\n",
            "754:\tlearn: 0.1299030\ttotal: 713ms\tremaining: 231ms\n",
            "755:\tlearn: 0.1296979\ttotal: 714ms\tremaining: 231ms\n",
            "756:\tlearn: 0.1295058\ttotal: 716ms\tremaining: 230ms\n",
            "757:\tlearn: 0.1293979\ttotal: 718ms\tremaining: 229ms\n",
            "758:\tlearn: 0.1291377\ttotal: 724ms\tremaining: 230ms\n",
            "759:\tlearn: 0.1290709\ttotal: 725ms\tremaining: 229ms\n",
            "760:\tlearn: 0.1289863\ttotal: 726ms\tremaining: 228ms\n",
            "761:\tlearn: 0.1288854\ttotal: 727ms\tremaining: 227ms\n",
            "762:\tlearn: 0.1287866\ttotal: 729ms\tremaining: 226ms\n",
            "763:\tlearn: 0.1286355\ttotal: 730ms\tremaining: 225ms\n",
            "764:\tlearn: 0.1284855\ttotal: 732ms\tremaining: 225ms\n",
            "765:\tlearn: 0.1283893\ttotal: 733ms\tremaining: 224ms\n",
            "766:\tlearn: 0.1282884\ttotal: 734ms\tremaining: 223ms\n",
            "767:\tlearn: 0.1281646\ttotal: 735ms\tremaining: 222ms\n",
            "768:\tlearn: 0.1279613\ttotal: 736ms\tremaining: 221ms\n",
            "769:\tlearn: 0.1277714\ttotal: 737ms\tremaining: 220ms\n",
            "770:\tlearn: 0.1275764\ttotal: 738ms\tremaining: 219ms\n",
            "771:\tlearn: 0.1274056\ttotal: 739ms\tremaining: 218ms\n",
            "772:\tlearn: 0.1271186\ttotal: 740ms\tremaining: 217ms\n",
            "773:\tlearn: 0.1269246\ttotal: 741ms\tremaining: 216ms\n",
            "774:\tlearn: 0.1267424\ttotal: 742ms\tremaining: 215ms\n",
            "775:\tlearn: 0.1264728\ttotal: 743ms\tremaining: 214ms\n",
            "776:\tlearn: 0.1263982\ttotal: 744ms\tremaining: 213ms\n",
            "777:\tlearn: 0.1262567\ttotal: 744ms\tremaining: 212ms\n",
            "778:\tlearn: 0.1260732\ttotal: 745ms\tremaining: 211ms\n",
            "779:\tlearn: 0.1259384\ttotal: 746ms\tremaining: 210ms\n",
            "780:\tlearn: 0.1259120\ttotal: 747ms\tremaining: 209ms\n",
            "781:\tlearn: 0.1258009\ttotal: 748ms\tremaining: 208ms\n",
            "782:\tlearn: 0.1257304\ttotal: 749ms\tremaining: 207ms\n",
            "783:\tlearn: 0.1256534\ttotal: 749ms\tremaining: 206ms\n",
            "784:\tlearn: 0.1254453\ttotal: 750ms\tremaining: 206ms\n",
            "785:\tlearn: 0.1251972\ttotal: 751ms\tremaining: 205ms\n",
            "786:\tlearn: 0.1251062\ttotal: 752ms\tremaining: 204ms\n",
            "787:\tlearn: 0.1249776\ttotal: 753ms\tremaining: 203ms\n",
            "788:\tlearn: 0.1248055\ttotal: 754ms\tremaining: 202ms\n",
            "789:\tlearn: 0.1246996\ttotal: 755ms\tremaining: 201ms\n",
            "790:\tlearn: 0.1245864\ttotal: 756ms\tremaining: 200ms\n",
            "791:\tlearn: 0.1244936\ttotal: 757ms\tremaining: 199ms\n",
            "792:\tlearn: 0.1243774\ttotal: 758ms\tremaining: 198ms\n",
            "793:\tlearn: 0.1242079\ttotal: 759ms\tremaining: 197ms\n",
            "794:\tlearn: 0.1239789\ttotal: 760ms\tremaining: 196ms\n",
            "795:\tlearn: 0.1238168\ttotal: 760ms\tremaining: 195ms\n",
            "796:\tlearn: 0.1235661\ttotal: 761ms\tremaining: 194ms\n",
            "797:\tlearn: 0.1234213\ttotal: 762ms\tremaining: 193ms\n",
            "798:\tlearn: 0.1232528\ttotal: 763ms\tremaining: 192ms\n",
            "799:\tlearn: 0.1231509\ttotal: 764ms\tremaining: 191ms\n",
            "800:\tlearn: 0.1229481\ttotal: 765ms\tremaining: 190ms\n",
            "801:\tlearn: 0.1227631\ttotal: 766ms\tremaining: 189ms\n",
            "802:\tlearn: 0.1226264\ttotal: 767ms\tremaining: 188ms\n",
            "803:\tlearn: 0.1225146\ttotal: 768ms\tremaining: 187ms\n",
            "804:\tlearn: 0.1223977\ttotal: 768ms\tremaining: 186ms\n",
            "805:\tlearn: 0.1222434\ttotal: 769ms\tremaining: 185ms\n",
            "806:\tlearn: 0.1221429\ttotal: 770ms\tremaining: 184ms\n",
            "807:\tlearn: 0.1220493\ttotal: 771ms\tremaining: 183ms\n",
            "808:\tlearn: 0.1219379\ttotal: 772ms\tremaining: 182ms\n",
            "809:\tlearn: 0.1218908\ttotal: 773ms\tremaining: 181ms\n",
            "810:\tlearn: 0.1216973\ttotal: 774ms\tremaining: 180ms\n",
            "811:\tlearn: 0.1215094\ttotal: 775ms\tremaining: 179ms\n",
            "812:\tlearn: 0.1214218\ttotal: 776ms\tremaining: 178ms\n",
            "813:\tlearn: 0.1213176\ttotal: 776ms\tremaining: 177ms\n",
            "814:\tlearn: 0.1211291\ttotal: 777ms\tremaining: 176ms\n",
            "815:\tlearn: 0.1210415\ttotal: 778ms\tremaining: 175ms\n",
            "816:\tlearn: 0.1208844\ttotal: 779ms\tremaining: 175ms\n",
            "817:\tlearn: 0.1207215\ttotal: 780ms\tremaining: 174ms\n",
            "818:\tlearn: 0.1206370\ttotal: 781ms\tremaining: 173ms\n",
            "819:\tlearn: 0.1204994\ttotal: 782ms\tremaining: 172ms\n",
            "820:\tlearn: 0.1203602\ttotal: 783ms\tremaining: 171ms\n",
            "821:\tlearn: 0.1202700\ttotal: 784ms\tremaining: 170ms\n",
            "822:\tlearn: 0.1201577\ttotal: 785ms\tremaining: 169ms\n",
            "823:\tlearn: 0.1198896\ttotal: 786ms\tremaining: 168ms\n",
            "824:\tlearn: 0.1197509\ttotal: 787ms\tremaining: 167ms\n",
            "825:\tlearn: 0.1196457\ttotal: 787ms\tremaining: 166ms\n",
            "826:\tlearn: 0.1195015\ttotal: 788ms\tremaining: 165ms\n",
            "827:\tlearn: 0.1194105\ttotal: 789ms\tremaining: 164ms\n",
            "828:\tlearn: 0.1192370\ttotal: 790ms\tremaining: 163ms\n",
            "829:\tlearn: 0.1189976\ttotal: 791ms\tremaining: 162ms\n",
            "830:\tlearn: 0.1188478\ttotal: 792ms\tremaining: 161ms\n",
            "831:\tlearn: 0.1186485\ttotal: 793ms\tremaining: 160ms\n",
            "832:\tlearn: 0.1184564\ttotal: 794ms\tremaining: 159ms\n",
            "833:\tlearn: 0.1183133\ttotal: 795ms\tremaining: 158ms\n",
            "834:\tlearn: 0.1181548\ttotal: 796ms\tremaining: 157ms\n",
            "835:\tlearn: 0.1180112\ttotal: 796ms\tremaining: 156ms\n",
            "836:\tlearn: 0.1178563\ttotal: 797ms\tremaining: 155ms\n",
            "837:\tlearn: 0.1177162\ttotal: 798ms\tremaining: 154ms\n",
            "838:\tlearn: 0.1175398\ttotal: 799ms\tremaining: 153ms\n",
            "839:\tlearn: 0.1174558\ttotal: 800ms\tremaining: 152ms\n",
            "840:\tlearn: 0.1173921\ttotal: 801ms\tremaining: 151ms\n",
            "841:\tlearn: 0.1172140\ttotal: 802ms\tremaining: 150ms\n",
            "842:\tlearn: 0.1171059\ttotal: 803ms\tremaining: 149ms\n",
            "843:\tlearn: 0.1169218\ttotal: 803ms\tremaining: 149ms\n",
            "844:\tlearn: 0.1168153\ttotal: 804ms\tremaining: 148ms\n",
            "845:\tlearn: 0.1167009\ttotal: 805ms\tremaining: 147ms\n",
            "846:\tlearn: 0.1165337\ttotal: 806ms\tremaining: 146ms\n",
            "847:\tlearn: 0.1164082\ttotal: 807ms\tremaining: 145ms\n",
            "848:\tlearn: 0.1162537\ttotal: 808ms\tremaining: 144ms\n",
            "849:\tlearn: 0.1161631\ttotal: 809ms\tremaining: 143ms\n",
            "850:\tlearn: 0.1160011\ttotal: 810ms\tremaining: 142ms\n",
            "851:\tlearn: 0.1158091\ttotal: 811ms\tremaining: 141ms\n",
            "852:\tlearn: 0.1157389\ttotal: 811ms\tremaining: 140ms\n",
            "853:\tlearn: 0.1155165\ttotal: 812ms\tremaining: 139ms\n",
            "854:\tlearn: 0.1153142\ttotal: 813ms\tremaining: 138ms\n",
            "855:\tlearn: 0.1150350\ttotal: 814ms\tremaining: 137ms\n",
            "856:\tlearn: 0.1148590\ttotal: 815ms\tremaining: 136ms\n",
            "857:\tlearn: 0.1147740\ttotal: 816ms\tremaining: 135ms\n",
            "858:\tlearn: 0.1145756\ttotal: 816ms\tremaining: 134ms\n",
            "859:\tlearn: 0.1144775\ttotal: 817ms\tremaining: 133ms\n",
            "860:\tlearn: 0.1144032\ttotal: 818ms\tremaining: 132ms\n",
            "861:\tlearn: 0.1142389\ttotal: 819ms\tremaining: 131ms\n",
            "862:\tlearn: 0.1140826\ttotal: 820ms\tremaining: 130ms\n",
            "863:\tlearn: 0.1139743\ttotal: 821ms\tremaining: 129ms\n",
            "864:\tlearn: 0.1138263\ttotal: 821ms\tremaining: 128ms\n",
            "865:\tlearn: 0.1136412\ttotal: 822ms\tremaining: 127ms\n",
            "866:\tlearn: 0.1134730\ttotal: 823ms\tremaining: 126ms\n",
            "867:\tlearn: 0.1133537\ttotal: 824ms\tremaining: 125ms\n",
            "868:\tlearn: 0.1131856\ttotal: 825ms\tremaining: 124ms\n",
            "869:\tlearn: 0.1130620\ttotal: 826ms\tremaining: 123ms\n",
            "870:\tlearn: 0.1129328\ttotal: 826ms\tremaining: 122ms\n",
            "871:\tlearn: 0.1128028\ttotal: 827ms\tremaining: 121ms\n",
            "872:\tlearn: 0.1126608\ttotal: 828ms\tremaining: 120ms\n",
            "873:\tlearn: 0.1125637\ttotal: 829ms\tremaining: 120ms\n",
            "874:\tlearn: 0.1124534\ttotal: 830ms\tremaining: 119ms\n",
            "875:\tlearn: 0.1123026\ttotal: 831ms\tremaining: 118ms\n",
            "876:\tlearn: 0.1121115\ttotal: 832ms\tremaining: 117ms\n",
            "877:\tlearn: 0.1120289\ttotal: 832ms\tremaining: 116ms\n",
            "878:\tlearn: 0.1119351\ttotal: 833ms\tremaining: 115ms\n",
            "879:\tlearn: 0.1118535\ttotal: 834ms\tremaining: 114ms\n",
            "880:\tlearn: 0.1117442\ttotal: 835ms\tremaining: 113ms\n",
            "881:\tlearn: 0.1115578\ttotal: 836ms\tremaining: 112ms\n",
            "882:\tlearn: 0.1114526\ttotal: 837ms\tremaining: 111ms\n",
            "883:\tlearn: 0.1113464\ttotal: 837ms\tremaining: 110ms\n",
            "884:\tlearn: 0.1112496\ttotal: 838ms\tremaining: 109ms\n",
            "885:\tlearn: 0.1111400\ttotal: 839ms\tremaining: 108ms\n",
            "886:\tlearn: 0.1109845\ttotal: 840ms\tremaining: 107ms\n",
            "887:\tlearn: 0.1108225\ttotal: 841ms\tremaining: 106ms\n",
            "888:\tlearn: 0.1106532\ttotal: 842ms\tremaining: 105ms\n",
            "889:\tlearn: 0.1104674\ttotal: 842ms\tremaining: 104ms\n",
            "890:\tlearn: 0.1103534\ttotal: 843ms\tremaining: 103ms\n",
            "891:\tlearn: 0.1101932\ttotal: 844ms\tremaining: 102ms\n",
            "892:\tlearn: 0.1100183\ttotal: 845ms\tremaining: 101ms\n",
            "893:\tlearn: 0.1099134\ttotal: 846ms\tremaining: 100ms\n",
            "894:\tlearn: 0.1097581\ttotal: 847ms\tremaining: 99.3ms\n",
            "895:\tlearn: 0.1096003\ttotal: 847ms\tremaining: 98.4ms\n",
            "896:\tlearn: 0.1094348\ttotal: 848ms\tremaining: 97.4ms\n",
            "897:\tlearn: 0.1093314\ttotal: 849ms\tremaining: 96.4ms\n",
            "898:\tlearn: 0.1091473\ttotal: 850ms\tremaining: 95.5ms\n",
            "899:\tlearn: 0.1090053\ttotal: 851ms\tremaining: 94.5ms\n",
            "900:\tlearn: 0.1089133\ttotal: 851ms\tremaining: 93.6ms\n",
            "901:\tlearn: 0.1087693\ttotal: 852ms\tremaining: 92.6ms\n",
            "902:\tlearn: 0.1086810\ttotal: 853ms\tremaining: 91.6ms\n",
            "903:\tlearn: 0.1085276\ttotal: 854ms\tremaining: 90.7ms\n",
            "904:\tlearn: 0.1083580\ttotal: 855ms\tremaining: 89.7ms\n",
            "905:\tlearn: 0.1082475\ttotal: 856ms\tremaining: 88.8ms\n",
            "906:\tlearn: 0.1081708\ttotal: 856ms\tremaining: 87.8ms\n",
            "907:\tlearn: 0.1080711\ttotal: 857ms\tremaining: 86.9ms\n",
            "908:\tlearn: 0.1079839\ttotal: 858ms\tremaining: 85.9ms\n",
            "909:\tlearn: 0.1078587\ttotal: 859ms\tremaining: 85ms\n",
            "910:\tlearn: 0.1077692\ttotal: 860ms\tremaining: 84ms\n",
            "911:\tlearn: 0.1075306\ttotal: 861ms\tremaining: 83ms\n",
            "912:\tlearn: 0.1074036\ttotal: 861ms\tremaining: 82.1ms\n",
            "913:\tlearn: 0.1072638\ttotal: 862ms\tremaining: 81.1ms\n",
            "914:\tlearn: 0.1071088\ttotal: 863ms\tremaining: 80.2ms\n",
            "915:\tlearn: 0.1069997\ttotal: 864ms\tremaining: 79.2ms\n",
            "916:\tlearn: 0.1068156\ttotal: 865ms\tremaining: 78.3ms\n",
            "917:\tlearn: 0.1066954\ttotal: 866ms\tremaining: 77.3ms\n",
            "918:\tlearn: 0.1066069\ttotal: 866ms\tremaining: 76.4ms\n",
            "919:\tlearn: 0.1064619\ttotal: 867ms\tremaining: 75.4ms\n",
            "920:\tlearn: 0.1063784\ttotal: 868ms\tremaining: 74.5ms\n",
            "921:\tlearn: 0.1062862\ttotal: 869ms\tremaining: 73.5ms\n",
            "922:\tlearn: 0.1061775\ttotal: 870ms\tremaining: 72.6ms\n",
            "923:\tlearn: 0.1061126\ttotal: 871ms\tremaining: 71.6ms\n",
            "924:\tlearn: 0.1060138\ttotal: 872ms\tremaining: 70.7ms\n",
            "925:\tlearn: 0.1059004\ttotal: 872ms\tremaining: 69.7ms\n",
            "926:\tlearn: 0.1058797\ttotal: 873ms\tremaining: 68.8ms\n",
            "927:\tlearn: 0.1057978\ttotal: 874ms\tremaining: 67.8ms\n",
            "928:\tlearn: 0.1056256\ttotal: 875ms\tremaining: 66.9ms\n",
            "929:\tlearn: 0.1055724\ttotal: 876ms\tremaining: 65.9ms\n",
            "930:\tlearn: 0.1055202\ttotal: 877ms\tremaining: 65ms\n",
            "931:\tlearn: 0.1053662\ttotal: 877ms\tremaining: 64ms\n",
            "932:\tlearn: 0.1052598\ttotal: 878ms\tremaining: 63.1ms\n",
            "933:\tlearn: 0.1051689\ttotal: 879ms\tremaining: 62.1ms\n",
            "934:\tlearn: 0.1050312\ttotal: 880ms\tremaining: 61.2ms\n",
            "935:\tlearn: 0.1049074\ttotal: 881ms\tremaining: 60.2ms\n",
            "936:\tlearn: 0.1047964\ttotal: 882ms\tremaining: 59.3ms\n",
            "937:\tlearn: 0.1047438\ttotal: 884ms\tremaining: 58.4ms\n",
            "938:\tlearn: 0.1045920\ttotal: 885ms\tremaining: 57.5ms\n",
            "939:\tlearn: 0.1044409\ttotal: 886ms\tremaining: 56.6ms\n",
            "940:\tlearn: 0.1043722\ttotal: 887ms\tremaining: 55.6ms\n",
            "941:\tlearn: 0.1042275\ttotal: 888ms\tremaining: 54.7ms\n",
            "942:\tlearn: 0.1041939\ttotal: 889ms\tremaining: 53.7ms\n",
            "943:\tlearn: 0.1040397\ttotal: 890ms\tremaining: 52.8ms\n",
            "944:\tlearn: 0.1038342\ttotal: 891ms\tremaining: 51.8ms\n",
            "945:\tlearn: 0.1037827\ttotal: 891ms\tremaining: 50.9ms\n",
            "946:\tlearn: 0.1037049\ttotal: 892ms\tremaining: 49.9ms\n",
            "947:\tlearn: 0.1035981\ttotal: 893ms\tremaining: 49ms\n",
            "948:\tlearn: 0.1034888\ttotal: 894ms\tremaining: 48ms\n",
            "949:\tlearn: 0.1033277\ttotal: 895ms\tremaining: 47.1ms\n",
            "950:\tlearn: 0.1031957\ttotal: 896ms\tremaining: 46.1ms\n",
            "951:\tlearn: 0.1030825\ttotal: 896ms\tremaining: 45.2ms\n",
            "952:\tlearn: 0.1029915\ttotal: 897ms\tremaining: 44.3ms\n",
            "953:\tlearn: 0.1028597\ttotal: 898ms\tremaining: 43.3ms\n",
            "954:\tlearn: 0.1027756\ttotal: 899ms\tremaining: 42.4ms\n",
            "955:\tlearn: 0.1026997\ttotal: 901ms\tremaining: 41.4ms\n",
            "956:\tlearn: 0.1026033\ttotal: 901ms\tremaining: 40.5ms\n",
            "957:\tlearn: 0.1025355\ttotal: 903ms\tremaining: 39.6ms\n",
            "958:\tlearn: 0.1024831\ttotal: 904ms\tremaining: 38.7ms\n",
            "959:\tlearn: 0.1024219\ttotal: 905ms\tremaining: 37.7ms\n",
            "960:\tlearn: 0.1023224\ttotal: 907ms\tremaining: 36.8ms\n",
            "961:\tlearn: 0.1022353\ttotal: 915ms\tremaining: 36.2ms\n",
            "962:\tlearn: 0.1020562\ttotal: 918ms\tremaining: 35.3ms\n",
            "963:\tlearn: 0.1019030\ttotal: 920ms\tremaining: 34.4ms\n",
            "964:\tlearn: 0.1017624\ttotal: 921ms\tremaining: 33.4ms\n",
            "965:\tlearn: 0.1016613\ttotal: 922ms\tremaining: 32.4ms\n",
            "966:\tlearn: 0.1015980\ttotal: 922ms\tremaining: 31.5ms\n",
            "967:\tlearn: 0.1014623\ttotal: 923ms\tremaining: 30.5ms\n",
            "968:\tlearn: 0.1013569\ttotal: 924ms\tremaining: 29.6ms\n",
            "969:\tlearn: 0.1012484\ttotal: 925ms\tremaining: 28.6ms\n",
            "970:\tlearn: 0.1011315\ttotal: 925ms\tremaining: 27.6ms\n",
            "971:\tlearn: 0.1009829\ttotal: 926ms\tremaining: 26.7ms\n",
            "972:\tlearn: 0.1009013\ttotal: 927ms\tremaining: 25.7ms\n",
            "973:\tlearn: 0.1007567\ttotal: 928ms\tremaining: 24.8ms\n",
            "974:\tlearn: 0.1006450\ttotal: 928ms\tremaining: 23.8ms\n",
            "975:\tlearn: 0.1005078\ttotal: 929ms\tremaining: 22.8ms\n",
            "976:\tlearn: 0.1003976\ttotal: 930ms\tremaining: 21.9ms\n",
            "977:\tlearn: 0.1002514\ttotal: 931ms\tremaining: 20.9ms\n",
            "978:\tlearn: 0.1000575\ttotal: 931ms\tremaining: 20ms\n",
            "979:\tlearn: 0.0998938\ttotal: 932ms\tremaining: 19ms\n",
            "980:\tlearn: 0.0997587\ttotal: 933ms\tremaining: 18.1ms\n",
            "981:\tlearn: 0.0996823\ttotal: 933ms\tremaining: 17.1ms\n",
            "982:\tlearn: 0.0996337\ttotal: 934ms\tremaining: 16.2ms\n",
            "983:\tlearn: 0.0995244\ttotal: 935ms\tremaining: 15.2ms\n",
            "984:\tlearn: 0.0993378\ttotal: 936ms\tremaining: 14.2ms\n",
            "985:\tlearn: 0.0992860\ttotal: 936ms\tremaining: 13.3ms\n",
            "986:\tlearn: 0.0991958\ttotal: 937ms\tremaining: 12.3ms\n",
            "987:\tlearn: 0.0991342\ttotal: 938ms\tremaining: 11.4ms\n",
            "988:\tlearn: 0.0990440\ttotal: 939ms\tremaining: 10.4ms\n",
            "989:\tlearn: 0.0989423\ttotal: 939ms\tremaining: 9.49ms\n",
            "990:\tlearn: 0.0988054\ttotal: 940ms\tremaining: 8.54ms\n",
            "991:\tlearn: 0.0987033\ttotal: 941ms\tremaining: 7.59ms\n",
            "992:\tlearn: 0.0985580\ttotal: 942ms\tremaining: 6.64ms\n",
            "993:\tlearn: 0.0984766\ttotal: 942ms\tremaining: 5.69ms\n",
            "994:\tlearn: 0.0983664\ttotal: 943ms\tremaining: 4.74ms\n",
            "995:\tlearn: 0.0982974\ttotal: 944ms\tremaining: 3.79ms\n",
            "996:\tlearn: 0.0981614\ttotal: 945ms\tremaining: 2.84ms\n",
            "997:\tlearn: 0.0980018\ttotal: 945ms\tremaining: 1.89ms\n",
            "998:\tlearn: 0.0978449\ttotal: 946ms\tremaining: 947us\n",
            "999:\tlearn: 0.0977494\ttotal: 947ms\tremaining: 0us\n"
          ],
          "name": "stdout"
        },
        {
          "output_type": "execute_result",
          "data": {
            "text/plain": [
              "0.8636363636363636"
            ]
          },
          "metadata": {
            "tags": []
          },
          "execution_count": 43
        }
      ]
    },
    {
      "cell_type": "markdown",
      "metadata": {
        "id": "oYmicAgEbEDc"
      },
      "source": [
        "## Evaluate the model using F1 Score"
      ]
    },
    {
      "cell_type": "code",
      "metadata": {
        "id": "-0okvhuAbGzS",
        "colab": {
          "base_uri": "https://localhost:8080/"
        },
        "outputId": "1bbf5ae7-6363-4172-952a-8d0a74457947"
      },
      "source": [
        "f1_score(y_test, lr_pred)"
      ],
      "execution_count": 15,
      "outputs": [
        {
          "output_type": "execute_result",
          "data": {
            "text/plain": [
              "0.8399999999999999"
            ]
          },
          "metadata": {
            "tags": []
          },
          "execution_count": 15
        }
      ]
    },
    {
      "cell_type": "code",
      "metadata": {
        "id": "yElzJbFYpbOY"
      },
      "source": [
        "test_data = pd.read_csv('https://raw.githubusercontent.com/dphi-official/Datasets/master/Heart_Disease/Testing_set_heart.csv')"
      ],
      "execution_count": 16,
      "outputs": []
    },
    {
      "cell_type": "code",
      "metadata": {
        "id": "W5olVedS40up"
      },
      "source": [
        "test_sc = std.fit_transform(test_data)"
      ],
      "execution_count": 46,
      "outputs": []
    },
    {
      "cell_type": "code",
      "metadata": {
        "id": "h1EdPpt85a3L"
      },
      "source": [
        "test_sca = pd.DataFrame(test_sc)\r\n",
        "test_sca.columns = test_data.columns"
      ],
      "execution_count": 52,
      "outputs": []
    },
    {
      "cell_type": "code",
      "metadata": {
        "colab": {
          "base_uri": "https://localhost:8080/"
        },
        "id": "_zrkrDkf5o65",
        "outputId": "4ef0667c-dec6-4768-a1ec-3dbba26fa289"
      },
      "source": [
        "test_sc"
      ],
      "execution_count": 51,
      "outputs": [
        {
          "output_type": "execute_result",
          "data": {
            "text/plain": [
              "array([[-0.98535511, -1.42594998, -1.01136312, ..., -0.45069391,\n",
              "        -0.67133102, -0.56619826],\n",
              "       [-1.10989305, -1.42594998, -1.01136312, ..., -0.45069391,\n",
              "        -0.67133102, -0.56619826],\n",
              "       [ 0.63363808,  0.70128687,  1.7775473 , ...,  1.12673477,\n",
              "        -0.67133102, -0.56619826],\n",
              "       ...,\n",
              "       [ 0.26002427,  0.70128687, -0.08172631, ..., -2.02812259,\n",
              "        -0.67133102, -0.56619826],\n",
              "       [ 1.25632777, -1.42594998, -1.01136312, ...,  1.12673477,\n",
              "        -0.67133102, -0.56619826],\n",
              "       [ 0.50910014, -1.42594998,  0.84791049, ...,  1.12673477,\n",
              "        -0.67133102, -0.56619826]])"
            ]
          },
          "metadata": {
            "tags": []
          },
          "execution_count": 51
        }
      ]
    },
    {
      "cell_type": "code",
      "metadata": {
        "id": "pDmm2hvQpl6I"
      },
      "source": [
        "test_pred = lr.predict(test_data)"
      ],
      "execution_count": 17,
      "outputs": []
    },
    {
      "cell_type": "code",
      "metadata": {
        "id": "uorjpsKnqxbX"
      },
      "source": [
        "test_pred1 = xgb.predict(test_data)\r\n"
      ],
      "execution_count": 18,
      "outputs": []
    },
    {
      "cell_type": "code",
      "metadata": {
        "id": "pcGEijtkq0u5"
      },
      "source": [
        "test_pred2 = lgb.predict(test_data)\r\n"
      ],
      "execution_count": 19,
      "outputs": []
    },
    {
      "cell_type": "code",
      "metadata": {
        "id": "FzL7-4HI4jyn"
      },
      "source": [
        "test_pred5 = cat.predict(test_data)\r\n"
      ],
      "execution_count": 44,
      "outputs": []
    },
    {
      "cell_type": "code",
      "metadata": {
        "id": "haZHotCN5CYK"
      },
      "source": [
        "test_pred6 = cat.predict(test_sca) #best submission\r\n",
        "test_pred7 = lgb.predict(test_sca)\r\n",
        "test_pred8 = xgb.predict(test_sca)\r\n",
        "test_pred9 = lr.predict(test_sca)"
      ],
      "execution_count": 53,
      "outputs": []
    },
    {
      "cell_type": "code",
      "metadata": {
        "id": "74rS_Jgr_CG9"
      },
      "source": [
        "from sklearn.model_selection import KFold, StratifiedKFold, cross_val_score"
      ],
      "execution_count": 55,
      "outputs": []
    },
    {
      "cell_type": "code",
      "metadata": {
        "id": "uZoLcTTU_QR3"
      },
      "source": [
        "K"
      ],
      "execution_count": null,
      "outputs": []
    },
    {
      "cell_type": "code",
      "metadata": {
        "id": "s4o1XQ_M57gi"
      },
      "source": [
        "pd.Series(test_pred6).to_csv('test_sub6.csv', index=False, header=['prediction'] )\r\n",
        "pd.Series(test_pred7).to_csv('test_sub7.csv', index=False, header=['prediction'] )\r\n",
        "pd.Series(test_pred8).to_csv('test_sub8.csv', index=False, header=['prediction'] )\r\n",
        "pd.Series(test_pred9).to_csv('test_sub9csv', index=False, header=['prediction'] )\r\n",
        "\r\n",
        "\r\n",
        "\r\n"
      ],
      "execution_count": 54,
      "outputs": []
    },
    {
      "cell_type": "code",
      "metadata": {
        "id": "HkMCrsSB-_s5"
      },
      "source": [
        ""
      ],
      "execution_count": null,
      "outputs": []
    },
    {
      "cell_type": "code",
      "metadata": {
        "colab": {
          "base_uri": "https://localhost:8080/"
        },
        "id": "a2engJWezo2T",
        "outputId": "21dc5b9c-c91d-4cae-d72d-4b3e58176bcf"
      },
      "source": [
        "test_pred1.shape"
      ],
      "execution_count": 27,
      "outputs": [
        {
          "output_type": "execute_result",
          "data": {
            "text/plain": [
              "(91,)"
            ]
          },
          "metadata": {
            "tags": []
          },
          "execution_count": 27
        }
      ]
    },
    {
      "cell_type": "code",
      "metadata": {
        "id": "JZtcQeIIpuQQ"
      },
      "source": [
        "pd.Series(test_pred).to_csv('test_sub.csv', index=False, header='prediction')"
      ],
      "execution_count": 16,
      "outputs": []
    },
    {
      "cell_type": "code",
      "metadata": {
        "id": "KCSVqB8Hp8_P"
      },
      "source": [
        "pd.Series(test_pred1).to_csv('test_sub3.csv', index=False, header=['prediction'] )\r\n"
      ],
      "execution_count": 36,
      "outputs": []
    },
    {
      "cell_type": "code",
      "metadata": {
        "id": "j_RetUcq4o72"
      },
      "source": [
        "pd.Series(test_pred5).to_csv('test_sub5.csv', index=False, header=['prediction'] )\r\n"
      ],
      "execution_count": 45,
      "outputs": []
    },
    {
      "cell_type": "code",
      "metadata": {
        "colab": {
          "base_uri": "https://localhost:8080/"
        },
        "id": "5c89gypK1We_",
        "outputId": "16e24a3e-0a79-488d-bf3d-629991988156"
      },
      "source": [
        "pd.Series(test_pred1).to_csv?"
      ],
      "execution_count": 32,
      "outputs": [
        {
          "output_type": "stream",
          "text": [
            "Object `to_csv` not found.\n"
          ],
          "name": "stdout"
        }
      ]
    },
    {
      "cell_type": "code",
      "metadata": {
        "colab": {
          "base_uri": "https://localhost:8080/",
          "height": 202
        },
        "id": "tpaTFyxR0_uZ",
        "outputId": "c58431ee-dcf3-4a1e-fba3-1dfb96f0b230"
      },
      "source": [
        "new = pd.read_csv('/content/test_sub3.csv')\r\n",
        "new.head()"
      ],
      "execution_count": 37,
      "outputs": [
        {
          "output_type": "execute_result",
          "data": {
            "text/html": [
              "<div>\n",
              "<style scoped>\n",
              "    .dataframe tbody tr th:only-of-type {\n",
              "        vertical-align: middle;\n",
              "    }\n",
              "\n",
              "    .dataframe tbody tr th {\n",
              "        vertical-align: top;\n",
              "    }\n",
              "\n",
              "    .dataframe thead th {\n",
              "        text-align: right;\n",
              "    }\n",
              "</style>\n",
              "<table border=\"1\" class=\"dataframe\">\n",
              "  <thead>\n",
              "    <tr style=\"text-align: right;\">\n",
              "      <th></th>\n",
              "      <th>prediction</th>\n",
              "    </tr>\n",
              "  </thead>\n",
              "  <tbody>\n",
              "    <tr>\n",
              "      <th>0</th>\n",
              "      <td>0</td>\n",
              "    </tr>\n",
              "    <tr>\n",
              "      <th>1</th>\n",
              "      <td>0</td>\n",
              "    </tr>\n",
              "    <tr>\n",
              "      <th>2</th>\n",
              "      <td>1</td>\n",
              "    </tr>\n",
              "    <tr>\n",
              "      <th>3</th>\n",
              "      <td>1</td>\n",
              "    </tr>\n",
              "    <tr>\n",
              "      <th>4</th>\n",
              "      <td>1</td>\n",
              "    </tr>\n",
              "  </tbody>\n",
              "</table>\n",
              "</div>"
            ],
            "text/plain": [
              "   prediction\n",
              "0           0\n",
              "1           0\n",
              "2           1\n",
              "3           1\n",
              "4           1"
            ]
          },
          "metadata": {
            "tags": []
          },
          "execution_count": 37
        }
      ]
    },
    {
      "cell_type": "code",
      "metadata": {
        "id": "YQSn02KJq88A"
      },
      "source": [
        "pd.Series(test_pred2).to_csv('test_sub4.csv', index=False, header=['prediction'])\r\n"
      ],
      "execution_count": 39,
      "outputs": []
    },
    {
      "cell_type": "code",
      "metadata": {
        "colab": {
          "base_uri": "https://localhost:8080/"
        },
        "id": "XrRpXc7Rq_IA",
        "outputId": "a7c68ded-cc11-4dfc-8cf5-e582c2ecf909"
      },
      "source": [
        "test_data.shape"
      ],
      "execution_count": 25,
      "outputs": [
        {
          "output_type": "execute_result",
          "data": {
            "text/plain": [
              "(91, 13)"
            ]
          },
          "metadata": {
            "tags": []
          },
          "execution_count": 25
        }
      ]
    },
    {
      "cell_type": "code",
      "metadata": {
        "colab": {
          "base_uri": "https://localhost:8080/"
        },
        "id": "fcsTyvWk0hOt",
        "outputId": "32805d20-e37f-4344-b4a8-a15ae0d358db"
      },
      "source": [
        "X_train.shape"
      ],
      "execution_count": 26,
      "outputs": [
        {
          "output_type": "execute_result",
          "data": {
            "text/plain": [
              "(169, 13)"
            ]
          },
          "metadata": {
            "tags": []
          },
          "execution_count": 26
        }
      ]
    },
    {
      "cell_type": "code",
      "metadata": {
        "id": "0ygMuPp80m2c"
      },
      "source": [
        ""
      ],
      "execution_count": null,
      "outputs": []
    }
  ]
}