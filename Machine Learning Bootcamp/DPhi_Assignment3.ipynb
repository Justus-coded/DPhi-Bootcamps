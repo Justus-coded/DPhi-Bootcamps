{
  "nbformat": 4,
  "nbformat_minor": 0,
  "metadata": {
    "colab": {
      "name": "DPhi_Assignment3.ipynb",
      "provenance": [],
      "authorship_tag": "ABX9TyMOhXdXLIAH+Kwc0oodMXUb",
      "include_colab_link": true
    },
    "kernelspec": {
      "name": "python3",
      "display_name": "Python 3"
    },
    "accelerator": "GPU"
  },
  "cells": [
    {
      "cell_type": "markdown",
      "metadata": {
        "id": "view-in-github",
        "colab_type": "text"
      },
      "source": [
        "<a href=\"https://colab.research.google.com/github/Justus-coded/DPhi-Bootcamps/blob/master/Machine%20Learning%20Bootcamp/DPhi_Assignment3.ipynb\" target=\"_parent\"><img src=\"https://colab.research.google.com/assets/colab-badge.svg\" alt=\"Open In Colab\"/></a>"
      ]
    },
    {
      "cell_type": "code",
      "metadata": {
        "id": "xNKgZRoDZajz"
      },
      "source": [
        "import numpy as np\r\n",
        "import pandas as pd\r\n",
        "from statistics import mean \r\n",
        "\r\n",
        "import seaborn as sns\r\n",
        "import matplotlib.pyplot as plt\r\n",
        "\r\n",
        "from xgboost import XGBClassifier\r\n",
        "from sklearn.pipeline import Pipeline\r\n",
        "from sklearn.datasets import make_classification\r\n",
        "from sklearn.preprocessing import StandardScaler\r\n",
        "from sklearn.metrics import classification_report, confusion_matrix, accuracy_score, f1_score, r2_score, mean_squared_error\r\n",
        "from sklearn.model_selection import train_test_split, cross_val_score, RandomizedSearchCV, GridSearchCV"
      ],
      "execution_count": 1,
      "outputs": []
    },
    {
      "cell_type": "code",
      "metadata": {
        "id": "SLRdPAZOaQpn"
      },
      "source": [
        "loan_data  = pd.read_csv(\"https://raw.githubusercontent.com/dphi-official/Datasets/master/Loan_Data/loan_train.csv\" )"
      ],
      "execution_count": 2,
      "outputs": []
    },
    {
      "cell_type": "code",
      "metadata": {
        "colab": {
          "base_uri": "https://localhost:8080/",
          "height": 416
        },
        "id": "xrYOLcQPaRog",
        "outputId": "6091764a-1015-42b9-eeef-19092e36d960"
      },
      "source": [
        "loan_data"
      ],
      "execution_count": 3,
      "outputs": [
        {
          "output_type": "execute_result",
          "data": {
            "text/html": [
              "<div>\n",
              "<style scoped>\n",
              "    .dataframe tbody tr th:only-of-type {\n",
              "        vertical-align: middle;\n",
              "    }\n",
              "\n",
              "    .dataframe tbody tr th {\n",
              "        vertical-align: top;\n",
              "    }\n",
              "\n",
              "    .dataframe thead th {\n",
              "        text-align: right;\n",
              "    }\n",
              "</style>\n",
              "<table border=\"1\" class=\"dataframe\">\n",
              "  <thead>\n",
              "    <tr style=\"text-align: right;\">\n",
              "      <th></th>\n",
              "      <th>Unnamed: 0</th>\n",
              "      <th>Loan_ID</th>\n",
              "      <th>Gender</th>\n",
              "      <th>Married</th>\n",
              "      <th>Dependents</th>\n",
              "      <th>Education</th>\n",
              "      <th>Self_Employed</th>\n",
              "      <th>ApplicantIncome</th>\n",
              "      <th>CoapplicantIncome</th>\n",
              "      <th>LoanAmount</th>\n",
              "      <th>Loan_Amount_Term</th>\n",
              "      <th>Credit_History</th>\n",
              "      <th>Property_Area</th>\n",
              "      <th>Loan_Status</th>\n",
              "    </tr>\n",
              "  </thead>\n",
              "  <tbody>\n",
              "    <tr>\n",
              "      <th>0</th>\n",
              "      <td>0</td>\n",
              "      <td>LP002305</td>\n",
              "      <td>Female</td>\n",
              "      <td>No</td>\n",
              "      <td>0</td>\n",
              "      <td>Graduate</td>\n",
              "      <td>No</td>\n",
              "      <td>4547</td>\n",
              "      <td>0.0</td>\n",
              "      <td>115.0</td>\n",
              "      <td>360.0</td>\n",
              "      <td>1.0</td>\n",
              "      <td>Semiurban</td>\n",
              "      <td>1</td>\n",
              "    </tr>\n",
              "    <tr>\n",
              "      <th>1</th>\n",
              "      <td>1</td>\n",
              "      <td>LP001715</td>\n",
              "      <td>Male</td>\n",
              "      <td>Yes</td>\n",
              "      <td>3+</td>\n",
              "      <td>Not Graduate</td>\n",
              "      <td>Yes</td>\n",
              "      <td>5703</td>\n",
              "      <td>0.0</td>\n",
              "      <td>130.0</td>\n",
              "      <td>360.0</td>\n",
              "      <td>1.0</td>\n",
              "      <td>Rural</td>\n",
              "      <td>1</td>\n",
              "    </tr>\n",
              "    <tr>\n",
              "      <th>2</th>\n",
              "      <td>2</td>\n",
              "      <td>LP002086</td>\n",
              "      <td>Female</td>\n",
              "      <td>Yes</td>\n",
              "      <td>0</td>\n",
              "      <td>Graduate</td>\n",
              "      <td>No</td>\n",
              "      <td>4333</td>\n",
              "      <td>2451.0</td>\n",
              "      <td>110.0</td>\n",
              "      <td>360.0</td>\n",
              "      <td>1.0</td>\n",
              "      <td>Urban</td>\n",
              "      <td>0</td>\n",
              "    </tr>\n",
              "    <tr>\n",
              "      <th>3</th>\n",
              "      <td>3</td>\n",
              "      <td>LP001136</td>\n",
              "      <td>Male</td>\n",
              "      <td>Yes</td>\n",
              "      <td>0</td>\n",
              "      <td>Not Graduate</td>\n",
              "      <td>Yes</td>\n",
              "      <td>4695</td>\n",
              "      <td>0.0</td>\n",
              "      <td>96.0</td>\n",
              "      <td>NaN</td>\n",
              "      <td>1.0</td>\n",
              "      <td>Urban</td>\n",
              "      <td>1</td>\n",
              "    </tr>\n",
              "    <tr>\n",
              "      <th>4</th>\n",
              "      <td>4</td>\n",
              "      <td>LP002529</td>\n",
              "      <td>Male</td>\n",
              "      <td>Yes</td>\n",
              "      <td>2</td>\n",
              "      <td>Graduate</td>\n",
              "      <td>No</td>\n",
              "      <td>6700</td>\n",
              "      <td>1750.0</td>\n",
              "      <td>230.0</td>\n",
              "      <td>300.0</td>\n",
              "      <td>1.0</td>\n",
              "      <td>Semiurban</td>\n",
              "      <td>1</td>\n",
              "    </tr>\n",
              "    <tr>\n",
              "      <th>...</th>\n",
              "      <td>...</td>\n",
              "      <td>...</td>\n",
              "      <td>...</td>\n",
              "      <td>...</td>\n",
              "      <td>...</td>\n",
              "      <td>...</td>\n",
              "      <td>...</td>\n",
              "      <td>...</td>\n",
              "      <td>...</td>\n",
              "      <td>...</td>\n",
              "      <td>...</td>\n",
              "      <td>...</td>\n",
              "      <td>...</td>\n",
              "      <td>...</td>\n",
              "    </tr>\n",
              "    <tr>\n",
              "      <th>486</th>\n",
              "      <td>486</td>\n",
              "      <td>LP002103</td>\n",
              "      <td>NaN</td>\n",
              "      <td>Yes</td>\n",
              "      <td>1</td>\n",
              "      <td>Graduate</td>\n",
              "      <td>Yes</td>\n",
              "      <td>9833</td>\n",
              "      <td>1833.0</td>\n",
              "      <td>182.0</td>\n",
              "      <td>180.0</td>\n",
              "      <td>1.0</td>\n",
              "      <td>Urban</td>\n",
              "      <td>1</td>\n",
              "    </tr>\n",
              "    <tr>\n",
              "      <th>487</th>\n",
              "      <td>487</td>\n",
              "      <td>LP001790</td>\n",
              "      <td>Female</td>\n",
              "      <td>No</td>\n",
              "      <td>1</td>\n",
              "      <td>Graduate</td>\n",
              "      <td>No</td>\n",
              "      <td>3812</td>\n",
              "      <td>0.0</td>\n",
              "      <td>112.0</td>\n",
              "      <td>360.0</td>\n",
              "      <td>1.0</td>\n",
              "      <td>Rural</td>\n",
              "      <td>1</td>\n",
              "    </tr>\n",
              "    <tr>\n",
              "      <th>488</th>\n",
              "      <td>488</td>\n",
              "      <td>LP001401</td>\n",
              "      <td>Male</td>\n",
              "      <td>Yes</td>\n",
              "      <td>1</td>\n",
              "      <td>Graduate</td>\n",
              "      <td>No</td>\n",
              "      <td>14583</td>\n",
              "      <td>0.0</td>\n",
              "      <td>185.0</td>\n",
              "      <td>180.0</td>\n",
              "      <td>1.0</td>\n",
              "      <td>Rural</td>\n",
              "      <td>1</td>\n",
              "    </tr>\n",
              "    <tr>\n",
              "      <th>489</th>\n",
              "      <td>489</td>\n",
              "      <td>LP002893</td>\n",
              "      <td>Male</td>\n",
              "      <td>No</td>\n",
              "      <td>0</td>\n",
              "      <td>Graduate</td>\n",
              "      <td>No</td>\n",
              "      <td>1836</td>\n",
              "      <td>33837.0</td>\n",
              "      <td>90.0</td>\n",
              "      <td>360.0</td>\n",
              "      <td>1.0</td>\n",
              "      <td>Urban</td>\n",
              "      <td>0</td>\n",
              "    </tr>\n",
              "    <tr>\n",
              "      <th>490</th>\n",
              "      <td>490</td>\n",
              "      <td>LP002777</td>\n",
              "      <td>Male</td>\n",
              "      <td>Yes</td>\n",
              "      <td>0</td>\n",
              "      <td>Graduate</td>\n",
              "      <td>No</td>\n",
              "      <td>2785</td>\n",
              "      <td>2016.0</td>\n",
              "      <td>110.0</td>\n",
              "      <td>360.0</td>\n",
              "      <td>1.0</td>\n",
              "      <td>Rural</td>\n",
              "      <td>1</td>\n",
              "    </tr>\n",
              "  </tbody>\n",
              "</table>\n",
              "<p>491 rows × 14 columns</p>\n",
              "</div>"
            ],
            "text/plain": [
              "     Unnamed: 0   Loan_ID  Gender  ... Credit_History Property_Area Loan_Status\n",
              "0             0  LP002305  Female  ...            1.0     Semiurban           1\n",
              "1             1  LP001715    Male  ...            1.0         Rural           1\n",
              "2             2  LP002086  Female  ...            1.0         Urban           0\n",
              "3             3  LP001136    Male  ...            1.0         Urban           1\n",
              "4             4  LP002529    Male  ...            1.0     Semiurban           1\n",
              "..          ...       ...     ...  ...            ...           ...         ...\n",
              "486         486  LP002103     NaN  ...            1.0         Urban           1\n",
              "487         487  LP001790  Female  ...            1.0         Rural           1\n",
              "488         488  LP001401    Male  ...            1.0         Rural           1\n",
              "489         489  LP002893    Male  ...            1.0         Urban           0\n",
              "490         490  LP002777    Male  ...            1.0         Rural           1\n",
              "\n",
              "[491 rows x 14 columns]"
            ]
          },
          "metadata": {
            "tags": []
          },
          "execution_count": 3
        }
      ]
    },
    {
      "cell_type": "code",
      "metadata": {
        "colab": {
          "base_uri": "https://localhost:8080/"
        },
        "id": "PoJ_rBm5aV-s",
        "outputId": "8d09392c-7cae-4c7b-fffb-2ba243f161c2"
      },
      "source": [
        "loan_data.apply(lambda x: x.nunique())"
      ],
      "execution_count": 7,
      "outputs": [
        {
          "output_type": "execute_result",
          "data": {
            "text/plain": [
              "Unnamed: 0           491\n",
              "Loan_ID              491\n",
              "Gender                 2\n",
              "Married                2\n",
              "Dependents             4\n",
              "Education              2\n",
              "Self_Employed          2\n",
              "ApplicantIncome      408\n",
              "CoapplicantIncome    239\n",
              "LoanAmount           176\n",
              "Loan_Amount_Term      10\n",
              "Credit_History         2\n",
              "Property_Area          3\n",
              "Loan_Status            2\n",
              "dtype: int64"
            ]
          },
          "metadata": {
            "tags": []
          },
          "execution_count": 7
        }
      ]
    },
    {
      "cell_type": "code",
      "metadata": {
        "id": "BnDpVPoQaoow"
      },
      "source": [
        "loan = loan_data.drop(columns=['Unnamed: 0','Loan_ID'])"
      ],
      "execution_count": 8,
      "outputs": []
    },
    {
      "cell_type": "code",
      "metadata": {
        "colab": {
          "base_uri": "https://localhost:8080/"
        },
        "id": "VsVavuhzclve",
        "outputId": "e72249e3-021c-48c1-acf2-30be8422c899"
      },
      "source": [
        "loan.info()"
      ],
      "execution_count": 10,
      "outputs": [
        {
          "output_type": "stream",
          "text": [
            "<class 'pandas.core.frame.DataFrame'>\n",
            "RangeIndex: 491 entries, 0 to 490\n",
            "Data columns (total 12 columns):\n",
            " #   Column             Non-Null Count  Dtype  \n",
            "---  ------             --------------  -----  \n",
            " 0   Gender             481 non-null    object \n",
            " 1   Married            490 non-null    object \n",
            " 2   Dependents         482 non-null    object \n",
            " 3   Education          491 non-null    object \n",
            " 4   Self_Employed      462 non-null    object \n",
            " 5   ApplicantIncome    491 non-null    int64  \n",
            " 6   CoapplicantIncome  491 non-null    float64\n",
            " 7   LoanAmount         475 non-null    float64\n",
            " 8   Loan_Amount_Term   478 non-null    float64\n",
            " 9   Credit_History     448 non-null    float64\n",
            " 10  Property_Area      491 non-null    object \n",
            " 11  Loan_Status        491 non-null    int64  \n",
            "dtypes: float64(4), int64(2), object(6)\n",
            "memory usage: 46.2+ KB\n"
          ],
          "name": "stdout"
        }
      ]
    },
    {
      "cell_type": "code",
      "metadata": {
        "colab": {
          "base_uri": "https://localhost:8080/",
          "height": 294
        },
        "id": "ZxKhSj6Kcm4B",
        "outputId": "dcdd0c53-d623-482a-acd8-54c4515ff4bb"
      },
      "source": [
        "loan.describe()"
      ],
      "execution_count": 11,
      "outputs": [
        {
          "output_type": "execute_result",
          "data": {
            "text/html": [
              "<div>\n",
              "<style scoped>\n",
              "    .dataframe tbody tr th:only-of-type {\n",
              "        vertical-align: middle;\n",
              "    }\n",
              "\n",
              "    .dataframe tbody tr th {\n",
              "        vertical-align: top;\n",
              "    }\n",
              "\n",
              "    .dataframe thead th {\n",
              "        text-align: right;\n",
              "    }\n",
              "</style>\n",
              "<table border=\"1\" class=\"dataframe\">\n",
              "  <thead>\n",
              "    <tr style=\"text-align: right;\">\n",
              "      <th></th>\n",
              "      <th>ApplicantIncome</th>\n",
              "      <th>CoapplicantIncome</th>\n",
              "      <th>LoanAmount</th>\n",
              "      <th>Loan_Amount_Term</th>\n",
              "      <th>Credit_History</th>\n",
              "      <th>Loan_Status</th>\n",
              "    </tr>\n",
              "  </thead>\n",
              "  <tbody>\n",
              "    <tr>\n",
              "      <th>count</th>\n",
              "      <td>491.000000</td>\n",
              "      <td>491.000000</td>\n",
              "      <td>475.000000</td>\n",
              "      <td>478.000000</td>\n",
              "      <td>448.000000</td>\n",
              "      <td>491.000000</td>\n",
              "    </tr>\n",
              "    <tr>\n",
              "      <th>mean</th>\n",
              "      <td>5401.189409</td>\n",
              "      <td>1589.730998</td>\n",
              "      <td>145.014737</td>\n",
              "      <td>341.297071</td>\n",
              "      <td>0.848214</td>\n",
              "      <td>0.698574</td>\n",
              "    </tr>\n",
              "    <tr>\n",
              "      <th>std</th>\n",
              "      <td>6419.427177</td>\n",
              "      <td>2919.320624</td>\n",
              "      <td>86.310534</td>\n",
              "      <td>66.964051</td>\n",
              "      <td>0.359214</td>\n",
              "      <td>0.459345</td>\n",
              "    </tr>\n",
              "    <tr>\n",
              "      <th>min</th>\n",
              "      <td>150.000000</td>\n",
              "      <td>0.000000</td>\n",
              "      <td>17.000000</td>\n",
              "      <td>12.000000</td>\n",
              "      <td>0.000000</td>\n",
              "      <td>0.000000</td>\n",
              "    </tr>\n",
              "    <tr>\n",
              "      <th>25%</th>\n",
              "      <td>2923.500000</td>\n",
              "      <td>0.000000</td>\n",
              "      <td>100.000000</td>\n",
              "      <td>360.000000</td>\n",
              "      <td>1.000000</td>\n",
              "      <td>0.000000</td>\n",
              "    </tr>\n",
              "    <tr>\n",
              "      <th>50%</th>\n",
              "      <td>3865.000000</td>\n",
              "      <td>1229.000000</td>\n",
              "      <td>126.000000</td>\n",
              "      <td>360.000000</td>\n",
              "      <td>1.000000</td>\n",
              "      <td>1.000000</td>\n",
              "    </tr>\n",
              "    <tr>\n",
              "      <th>75%</th>\n",
              "      <td>5705.500000</td>\n",
              "      <td>2251.500000</td>\n",
              "      <td>162.000000</td>\n",
              "      <td>360.000000</td>\n",
              "      <td>1.000000</td>\n",
              "      <td>1.000000</td>\n",
              "    </tr>\n",
              "    <tr>\n",
              "      <th>max</th>\n",
              "      <td>81000.000000</td>\n",
              "      <td>41667.000000</td>\n",
              "      <td>700.000000</td>\n",
              "      <td>480.000000</td>\n",
              "      <td>1.000000</td>\n",
              "      <td>1.000000</td>\n",
              "    </tr>\n",
              "  </tbody>\n",
              "</table>\n",
              "</div>"
            ],
            "text/plain": [
              "       ApplicantIncome  CoapplicantIncome  ...  Credit_History  Loan_Status\n",
              "count       491.000000         491.000000  ...      448.000000   491.000000\n",
              "mean       5401.189409        1589.730998  ...        0.848214     0.698574\n",
              "std        6419.427177        2919.320624  ...        0.359214     0.459345\n",
              "min         150.000000           0.000000  ...        0.000000     0.000000\n",
              "25%        2923.500000           0.000000  ...        1.000000     0.000000\n",
              "50%        3865.000000        1229.000000  ...        1.000000     1.000000\n",
              "75%        5705.500000        2251.500000  ...        1.000000     1.000000\n",
              "max       81000.000000       41667.000000  ...        1.000000     1.000000\n",
              "\n",
              "[8 rows x 6 columns]"
            ]
          },
          "metadata": {
            "tags": []
          },
          "execution_count": 11
        }
      ]
    },
    {
      "cell_type": "code",
      "metadata": {
        "id": "Ajo0ma0hcxEK"
      },
      "source": [
        "loan.Dependents = loan.Dependents.replace('3+', 3)"
      ],
      "execution_count": 12,
      "outputs": []
    },
    {
      "cell_type": "code",
      "metadata": {
        "colab": {
          "base_uri": "https://localhost:8080/"
        },
        "id": "d9osZqTLc9mX",
        "outputId": "a5e76035-fc40-42b3-81e0-3b0f0a18d399"
      },
      "source": [
        "loan.Dependents.value_counts()"
      ],
      "execution_count": 13,
      "outputs": [
        {
          "output_type": "execute_result",
          "data": {
            "text/plain": [
              "0    276\n",
              "1     85\n",
              "2     78\n",
              "3     43\n",
              "Name: Dependents, dtype: int64"
            ]
          },
          "metadata": {
            "tags": []
          },
          "execution_count": 13
        }
      ]
    },
    {
      "cell_type": "code",
      "metadata": {
        "id": "ytsQU8j7hWDY"
      },
      "source": [
        "loan1 = loan.dropna()"
      ],
      "execution_count": 39,
      "outputs": []
    },
    {
      "cell_type": "code",
      "metadata": {
        "colab": {
          "base_uri": "https://localhost:8080/"
        },
        "id": "ag0pDtMcfxko",
        "outputId": "2601c75f-9df6-4a00-ab62-1f45fa86f2d8"
      },
      "source": [
        "loan1.Dependents = loan1.Dependents.astype(int)"
      ],
      "execution_count": 40,
      "outputs": [
        {
          "output_type": "stream",
          "text": [
            "/usr/local/lib/python3.6/dist-packages/pandas/core/generic.py:5170: SettingWithCopyWarning: \n",
            "A value is trying to be set on a copy of a slice from a DataFrame.\n",
            "Try using .loc[row_indexer,col_indexer] = value instead\n",
            "\n",
            "See the caveats in the documentation: https://pandas.pydata.org/pandas-docs/stable/user_guide/indexing.html#returning-a-view-versus-a-copy\n",
            "  self[name] = value\n"
          ],
          "name": "stderr"
        }
      ]
    },
    {
      "cell_type": "code",
      "metadata": {
        "colab": {
          "base_uri": "https://localhost:8080/"
        },
        "id": "UiKuoZgmf05b",
        "outputId": "faeb5d3f-939c-414f-96ab-bfeaaebca6bf"
      },
      "source": [
        "loan1.info()"
      ],
      "execution_count": 41,
      "outputs": [
        {
          "output_type": "stream",
          "text": [
            "<class 'pandas.core.frame.DataFrame'>\n",
            "Int64Index: 381 entries, 0 to 490\n",
            "Data columns (total 12 columns):\n",
            " #   Column             Non-Null Count  Dtype  \n",
            "---  ------             --------------  -----  \n",
            " 0   Gender             381 non-null    object \n",
            " 1   Married            381 non-null    object \n",
            " 2   Dependents         381 non-null    int64  \n",
            " 3   Education          381 non-null    object \n",
            " 4   Self_Employed      381 non-null    object \n",
            " 5   ApplicantIncome    381 non-null    int64  \n",
            " 6   CoapplicantIncome  381 non-null    float64\n",
            " 7   LoanAmount         381 non-null    float64\n",
            " 8   Loan_Amount_Term   381 non-null    float64\n",
            " 9   Credit_History     381 non-null    float64\n",
            " 10  Property_Area      381 non-null    object \n",
            " 11  Loan_Status        381 non-null    int64  \n",
            "dtypes: float64(4), int64(3), object(5)\n",
            "memory usage: 38.7+ KB\n"
          ],
          "name": "stdout"
        }
      ]
    },
    {
      "cell_type": "code",
      "metadata": {
        "id": "iMaIV3bdhsYi"
      },
      "source": [
        "cat_cols = loan.select_dtypes(include = 'O')"
      ],
      "execution_count": 23,
      "outputs": []
    },
    {
      "cell_type": "code",
      "metadata": {
        "id": "glT4Zw6DiANT"
      },
      "source": [
        "loan2 = pd.get_dummies(loan1)"
      ],
      "execution_count": 43,
      "outputs": []
    },
    {
      "cell_type": "code",
      "metadata": {
        "id": "U5i3rcSQiRG0"
      },
      "source": [
        "std = StandardScaler()"
      ],
      "execution_count": 25,
      "outputs": []
    },
    {
      "cell_type": "code",
      "metadata": {
        "id": "gjsE-mfjie9s"
      },
      "source": [
        "loan3 = std.fit_transform(loan2)"
      ],
      "execution_count": 44,
      "outputs": []
    },
    {
      "cell_type": "code",
      "metadata": {
        "colab": {
          "base_uri": "https://localhost:8080/",
          "height": 453
        },
        "id": "ORMcDbRPikjR",
        "outputId": "ecb434f0-2e24-4d70-9f83-9e21af2db240"
      },
      "source": [
        "loan4 = pd.DataFrame(loan3)\r\n",
        "loan4.columns = loan2.columns\r\n",
        "loan4"
      ],
      "execution_count": 45,
      "outputs": [
        {
          "output_type": "execute_result",
          "data": {
            "text/html": [
              "<div>\n",
              "<style scoped>\n",
              "    .dataframe tbody tr th:only-of-type {\n",
              "        vertical-align: middle;\n",
              "    }\n",
              "\n",
              "    .dataframe tbody tr th {\n",
              "        vertical-align: top;\n",
              "    }\n",
              "\n",
              "    .dataframe thead th {\n",
              "        text-align: right;\n",
              "    }\n",
              "</style>\n",
              "<table border=\"1\" class=\"dataframe\">\n",
              "  <thead>\n",
              "    <tr style=\"text-align: right;\">\n",
              "      <th></th>\n",
              "      <th>Dependents</th>\n",
              "      <th>ApplicantIncome</th>\n",
              "      <th>CoapplicantIncome</th>\n",
              "      <th>LoanAmount</th>\n",
              "      <th>Loan_Amount_Term</th>\n",
              "      <th>Credit_History</th>\n",
              "      <th>Loan_Status</th>\n",
              "      <th>Gender_Female</th>\n",
              "      <th>Gender_Male</th>\n",
              "      <th>Married_No</th>\n",
              "      <th>Married_Yes</th>\n",
              "      <th>Education_Graduate</th>\n",
              "      <th>Education_Not Graduate</th>\n",
              "      <th>Self_Employed_No</th>\n",
              "      <th>Self_Employed_Yes</th>\n",
              "      <th>Property_Area_Rural</th>\n",
              "      <th>Property_Area_Semiurban</th>\n",
              "      <th>Property_Area_Urban</th>\n",
              "    </tr>\n",
              "  </thead>\n",
              "  <tbody>\n",
              "    <tr>\n",
              "      <th>0</th>\n",
              "      <td>-0.775394</td>\n",
              "      <td>-0.128827</td>\n",
              "      <td>-0.618017</td>\n",
              "      <td>-0.344181</td>\n",
              "      <td>0.273943</td>\n",
              "      <td>0.397561</td>\n",
              "      <td>0.637106</td>\n",
              "      <td>2.107809</td>\n",
              "      <td>-2.107809</td>\n",
              "      <td>1.389521</td>\n",
              "      <td>-1.389521</td>\n",
              "      <td>0.490961</td>\n",
              "      <td>-0.490961</td>\n",
              "      <td>0.401977</td>\n",
              "      <td>-0.401977</td>\n",
              "      <td>-0.665719</td>\n",
              "      <td>1.214095</td>\n",
              "      <td>-0.637106</td>\n",
              "    </tr>\n",
              "    <tr>\n",
              "      <th>1</th>\n",
              "      <td>2.139986</td>\n",
              "      <td>0.069110</td>\n",
              "      <td>-0.618017</td>\n",
              "      <td>-0.155736</td>\n",
              "      <td>0.273943</td>\n",
              "      <td>0.397561</td>\n",
              "      <td>0.637106</td>\n",
              "      <td>-0.474426</td>\n",
              "      <td>0.474426</td>\n",
              "      <td>-0.719672</td>\n",
              "      <td>0.719672</td>\n",
              "      <td>-2.036823</td>\n",
              "      <td>2.036823</td>\n",
              "      <td>-2.487706</td>\n",
              "      <td>2.487706</td>\n",
              "      <td>1.502135</td>\n",
              "      <td>-0.823659</td>\n",
              "      <td>-0.637106</td>\n",
              "    </tr>\n",
              "    <tr>\n",
              "      <th>2</th>\n",
              "      <td>-0.775394</td>\n",
              "      <td>-0.165469</td>\n",
              "      <td>0.390262</td>\n",
              "      <td>-0.406997</td>\n",
              "      <td>0.273943</td>\n",
              "      <td>0.397561</td>\n",
              "      <td>-1.569598</td>\n",
              "      <td>2.107809</td>\n",
              "      <td>-2.107809</td>\n",
              "      <td>-0.719672</td>\n",
              "      <td>0.719672</td>\n",
              "      <td>0.490961</td>\n",
              "      <td>-0.490961</td>\n",
              "      <td>0.401977</td>\n",
              "      <td>-0.401977</td>\n",
              "      <td>-0.665719</td>\n",
              "      <td>-0.823659</td>\n",
              "      <td>1.569598</td>\n",
              "    </tr>\n",
              "    <tr>\n",
              "      <th>3</th>\n",
              "      <td>1.168193</td>\n",
              "      <td>0.239822</td>\n",
              "      <td>0.101888</td>\n",
              "      <td>1.100569</td>\n",
              "      <td>-0.636809</td>\n",
              "      <td>0.397561</td>\n",
              "      <td>0.637106</td>\n",
              "      <td>-0.474426</td>\n",
              "      <td>0.474426</td>\n",
              "      <td>-0.719672</td>\n",
              "      <td>0.719672</td>\n",
              "      <td>0.490961</td>\n",
              "      <td>-0.490961</td>\n",
              "      <td>0.401977</td>\n",
              "      <td>-0.401977</td>\n",
              "      <td>-0.665719</td>\n",
              "      <td>1.214095</td>\n",
              "      <td>-0.637106</td>\n",
              "    </tr>\n",
              "    <tr>\n",
              "      <th>4</th>\n",
              "      <td>-0.775394</td>\n",
              "      <td>-0.163586</td>\n",
              "      <td>-0.315246</td>\n",
              "      <td>-0.695947</td>\n",
              "      <td>0.273943</td>\n",
              "      <td>0.397561</td>\n",
              "      <td>-1.569598</td>\n",
              "      <td>-0.474426</td>\n",
              "      <td>0.474426</td>\n",
              "      <td>-0.719672</td>\n",
              "      <td>0.719672</td>\n",
              "      <td>-2.036823</td>\n",
              "      <td>2.036823</td>\n",
              "      <td>-2.487706</td>\n",
              "      <td>2.487706</td>\n",
              "      <td>-0.665719</td>\n",
              "      <td>1.214095</td>\n",
              "      <td>-0.637106</td>\n",
              "    </tr>\n",
              "    <tr>\n",
              "      <th>...</th>\n",
              "      <td>...</td>\n",
              "      <td>...</td>\n",
              "      <td>...</td>\n",
              "      <td>...</td>\n",
              "      <td>...</td>\n",
              "      <td>...</td>\n",
              "      <td>...</td>\n",
              "      <td>...</td>\n",
              "      <td>...</td>\n",
              "      <td>...</td>\n",
              "      <td>...</td>\n",
              "      <td>...</td>\n",
              "      <td>...</td>\n",
              "      <td>...</td>\n",
              "      <td>...</td>\n",
              "      <td>...</td>\n",
              "      <td>...</td>\n",
              "      <td>...</td>\n",
              "    </tr>\n",
              "    <tr>\n",
              "      <th>376</th>\n",
              "      <td>-0.775394</td>\n",
              "      <td>-0.280704</td>\n",
              "      <td>1.465183</td>\n",
              "      <td>0.560358</td>\n",
              "      <td>0.273943</td>\n",
              "      <td>0.397561</td>\n",
              "      <td>0.637106</td>\n",
              "      <td>-0.474426</td>\n",
              "      <td>0.474426</td>\n",
              "      <td>1.389521</td>\n",
              "      <td>-1.389521</td>\n",
              "      <td>0.490961</td>\n",
              "      <td>-0.490961</td>\n",
              "      <td>0.401977</td>\n",
              "      <td>-0.401977</td>\n",
              "      <td>-0.665719</td>\n",
              "      <td>1.214095</td>\n",
              "      <td>-0.637106</td>\n",
              "    </tr>\n",
              "    <tr>\n",
              "      <th>377</th>\n",
              "      <td>0.196399</td>\n",
              "      <td>-0.254678</td>\n",
              "      <td>-0.618017</td>\n",
              "      <td>-0.381870</td>\n",
              "      <td>0.273943</td>\n",
              "      <td>0.397561</td>\n",
              "      <td>0.637106</td>\n",
              "      <td>2.107809</td>\n",
              "      <td>-2.107809</td>\n",
              "      <td>1.389521</td>\n",
              "      <td>-1.389521</td>\n",
              "      <td>0.490961</td>\n",
              "      <td>-0.490961</td>\n",
              "      <td>0.401977</td>\n",
              "      <td>-0.401977</td>\n",
              "      <td>1.502135</td>\n",
              "      <td>-0.823659</td>\n",
              "      <td>-0.637106</td>\n",
              "    </tr>\n",
              "    <tr>\n",
              "      <th>378</th>\n",
              "      <td>0.196399</td>\n",
              "      <td>1.589593</td>\n",
              "      <td>-0.618017</td>\n",
              "      <td>0.535232</td>\n",
              "      <td>-2.458314</td>\n",
              "      <td>0.397561</td>\n",
              "      <td>0.637106</td>\n",
              "      <td>-0.474426</td>\n",
              "      <td>0.474426</td>\n",
              "      <td>-0.719672</td>\n",
              "      <td>0.719672</td>\n",
              "      <td>0.490961</td>\n",
              "      <td>-0.490961</td>\n",
              "      <td>0.401977</td>\n",
              "      <td>-0.401977</td>\n",
              "      <td>1.502135</td>\n",
              "      <td>-0.823659</td>\n",
              "      <td>-0.637106</td>\n",
              "    </tr>\n",
              "    <tr>\n",
              "      <th>379</th>\n",
              "      <td>-0.775394</td>\n",
              "      <td>-0.593019</td>\n",
              "      <td>13.301659</td>\n",
              "      <td>-0.658258</td>\n",
              "      <td>0.273943</td>\n",
              "      <td>0.397561</td>\n",
              "      <td>-1.569598</td>\n",
              "      <td>-0.474426</td>\n",
              "      <td>0.474426</td>\n",
              "      <td>1.389521</td>\n",
              "      <td>-1.389521</td>\n",
              "      <td>0.490961</td>\n",
              "      <td>-0.490961</td>\n",
              "      <td>0.401977</td>\n",
              "      <td>-0.401977</td>\n",
              "      <td>-0.665719</td>\n",
              "      <td>-0.823659</td>\n",
              "      <td>1.569598</td>\n",
              "    </tr>\n",
              "    <tr>\n",
              "      <th>380</th>\n",
              "      <td>-0.775394</td>\n",
              "      <td>-0.430526</td>\n",
              "      <td>0.211314</td>\n",
              "      <td>-0.406997</td>\n",
              "      <td>0.273943</td>\n",
              "      <td>0.397561</td>\n",
              "      <td>0.637106</td>\n",
              "      <td>-0.474426</td>\n",
              "      <td>0.474426</td>\n",
              "      <td>-0.719672</td>\n",
              "      <td>0.719672</td>\n",
              "      <td>0.490961</td>\n",
              "      <td>-0.490961</td>\n",
              "      <td>0.401977</td>\n",
              "      <td>-0.401977</td>\n",
              "      <td>1.502135</td>\n",
              "      <td>-0.823659</td>\n",
              "      <td>-0.637106</td>\n",
              "    </tr>\n",
              "  </tbody>\n",
              "</table>\n",
              "<p>381 rows × 18 columns</p>\n",
              "</div>"
            ],
            "text/plain": [
              "     Dependents  ApplicantIncome  ...  Property_Area_Semiurban  Property_Area_Urban\n",
              "0     -0.775394        -0.128827  ...                 1.214095            -0.637106\n",
              "1      2.139986         0.069110  ...                -0.823659            -0.637106\n",
              "2     -0.775394        -0.165469  ...                -0.823659             1.569598\n",
              "3      1.168193         0.239822  ...                 1.214095            -0.637106\n",
              "4     -0.775394        -0.163586  ...                 1.214095            -0.637106\n",
              "..          ...              ...  ...                      ...                  ...\n",
              "376   -0.775394        -0.280704  ...                 1.214095            -0.637106\n",
              "377    0.196399        -0.254678  ...                -0.823659            -0.637106\n",
              "378    0.196399         1.589593  ...                -0.823659            -0.637106\n",
              "379   -0.775394        -0.593019  ...                -0.823659             1.569598\n",
              "380   -0.775394        -0.430526  ...                -0.823659            -0.637106\n",
              "\n",
              "[381 rows x 18 columns]"
            ]
          },
          "metadata": {
            "tags": []
          },
          "execution_count": 45
        }
      ]
    },
    {
      "cell_type": "code",
      "metadata": {
        "id": "fDbG0O-0imhw"
      },
      "source": [
        "X = loan4.drop(['Loan_Status'], axis=1)\r\n",
        "y = loan1['Loan_Status']"
      ],
      "execution_count": 46,
      "outputs": []
    },
    {
      "cell_type": "code",
      "metadata": {
        "id": "P69NJq9BjQvO"
      },
      "source": [
        "from sklearn.model_selection import train_test_split"
      ],
      "execution_count": 31,
      "outputs": []
    },
    {
      "cell_type": "code",
      "metadata": {
        "id": "20OnqJi6jBbq"
      },
      "source": [
        "X_train, X_test, y_train, y_test = train_test_split(X, y, test_size=0.2, random_state=42)"
      ],
      "execution_count": 48,
      "outputs": []
    },
    {
      "cell_type": "code",
      "metadata": {
        "id": "fTRZguYmjee3"
      },
      "source": [
        "from lightgbm import LGBMClassifier"
      ],
      "execution_count": 33,
      "outputs": []
    },
    {
      "cell_type": "code",
      "metadata": {
        "id": "UCXF_HnNjv6j"
      },
      "source": [
        "xgb = XGBClassifier()\r\n",
        "lgb = LGBMClassifier()"
      ],
      "execution_count": 34,
      "outputs": []
    },
    {
      "cell_type": "code",
      "metadata": {
        "colab": {
          "base_uri": "https://localhost:8080/"
        },
        "id": "mI_knfQNkG_s",
        "outputId": "991e619f-8373-4c49-a174-314096bc685c"
      },
      "source": [
        "y.value_counts()"
      ],
      "execution_count": 49,
      "outputs": [
        {
          "output_type": "execute_result",
          "data": {
            "text/plain": [
              "1    271\n",
              "0    110\n",
              "Name: Loan_Status, dtype: int64"
            ]
          },
          "metadata": {
            "tags": []
          },
          "execution_count": 49
        }
      ]
    },
    {
      "cell_type": "code",
      "metadata": {
        "colab": {
          "base_uri": "https://localhost:8080/"
        },
        "id": "5lEOzz-gjzcF",
        "outputId": "682afb74-63c9-4f4e-d1ff-3c78fa2c4a8a"
      },
      "source": [
        "xgb = XGBClassifier()\r\n",
        "xgb.fit(X_train, y_train)\r\n",
        "xgb_pred = xgb.predict(X_test)\r\n",
        "f1_score(y_test, xgb_pred)"
      ],
      "execution_count": 50,
      "outputs": [
        {
          "output_type": "execute_result",
          "data": {
            "text/plain": [
              "0.8709677419354839"
            ]
          },
          "metadata": {
            "tags": []
          },
          "execution_count": 50
        }
      ]
    },
    {
      "cell_type": "code",
      "metadata": {
        "colab": {
          "base_uri": "https://localhost:8080/"
        },
        "id": "L5Wz6ZWLj_d0",
        "outputId": "6dbe7a98-9147-40bc-ae79-1c7bf80d20b2"
      },
      "source": [
        "lgb = LGBMClassifier()\r\n",
        "lgb.fit(X_train, y_train)\r\n",
        "lgb_pred = lgb.predict(X_test)\r\n",
        "f1_score(y_test, lgb_pred)"
      ],
      "execution_count": 51,
      "outputs": [
        {
          "output_type": "execute_result",
          "data": {
            "text/plain": [
              "0.8333333333333334"
            ]
          },
          "metadata": {
            "tags": []
          },
          "execution_count": 51
        }
      ]
    },
    {
      "cell_type": "code",
      "metadata": {
        "id": "jj_zy3H8lMGt"
      },
      "source": [
        "test_data = pd.read_csv('https://raw.githubusercontent.com/dphi-official/Datasets/master/Loan_Data/loan_test.csv')"
      ],
      "execution_count": 64,
      "outputs": []
    },
    {
      "cell_type": "code",
      "metadata": {
        "colab": {
          "base_uri": "https://localhost:8080/",
          "height": 141
        },
        "id": "huDRGt4doF3j",
        "outputId": "c5366bba-c778-4a3b-cb78-d957926fa5a8"
      },
      "source": [
        "test_data.head(3)"
      ],
      "execution_count": 75,
      "outputs": [
        {
          "output_type": "execute_result",
          "data": {
            "text/html": [
              "<div>\n",
              "<style scoped>\n",
              "    .dataframe tbody tr th:only-of-type {\n",
              "        vertical-align: middle;\n",
              "    }\n",
              "\n",
              "    .dataframe tbody tr th {\n",
              "        vertical-align: top;\n",
              "    }\n",
              "\n",
              "    .dataframe thead th {\n",
              "        text-align: right;\n",
              "    }\n",
              "</style>\n",
              "<table border=\"1\" class=\"dataframe\">\n",
              "  <thead>\n",
              "    <tr style=\"text-align: right;\">\n",
              "      <th></th>\n",
              "      <th>Loan_ID</th>\n",
              "      <th>Gender</th>\n",
              "      <th>Married</th>\n",
              "      <th>Dependents</th>\n",
              "      <th>Education</th>\n",
              "      <th>Self_Employed</th>\n",
              "      <th>ApplicantIncome</th>\n",
              "      <th>CoapplicantIncome</th>\n",
              "      <th>LoanAmount</th>\n",
              "      <th>Loan_Amount_Term</th>\n",
              "      <th>Credit_History</th>\n",
              "      <th>Property_Area</th>\n",
              "    </tr>\n",
              "  </thead>\n",
              "  <tbody>\n",
              "    <tr>\n",
              "      <th>0</th>\n",
              "      <td>LP001116</td>\n",
              "      <td>Male</td>\n",
              "      <td>No</td>\n",
              "      <td>0</td>\n",
              "      <td>Not Graduate</td>\n",
              "      <td>No</td>\n",
              "      <td>3748</td>\n",
              "      <td>1668.0</td>\n",
              "      <td>110.0</td>\n",
              "      <td>360.0</td>\n",
              "      <td>1.0</td>\n",
              "      <td>Semiurban</td>\n",
              "    </tr>\n",
              "    <tr>\n",
              "      <th>1</th>\n",
              "      <td>LP001488</td>\n",
              "      <td>Male</td>\n",
              "      <td>Yes</td>\n",
              "      <td>3+</td>\n",
              "      <td>Graduate</td>\n",
              "      <td>No</td>\n",
              "      <td>4000</td>\n",
              "      <td>7750.0</td>\n",
              "      <td>290.0</td>\n",
              "      <td>360.0</td>\n",
              "      <td>1.0</td>\n",
              "      <td>Semiurban</td>\n",
              "    </tr>\n",
              "    <tr>\n",
              "      <th>2</th>\n",
              "      <td>LP002138</td>\n",
              "      <td>Male</td>\n",
              "      <td>Yes</td>\n",
              "      <td>0</td>\n",
              "      <td>Graduate</td>\n",
              "      <td>No</td>\n",
              "      <td>2625</td>\n",
              "      <td>6250.0</td>\n",
              "      <td>187.0</td>\n",
              "      <td>360.0</td>\n",
              "      <td>1.0</td>\n",
              "      <td>Rural</td>\n",
              "    </tr>\n",
              "  </tbody>\n",
              "</table>\n",
              "</div>"
            ],
            "text/plain": [
              "    Loan_ID Gender Married  ... Loan_Amount_Term Credit_History Property_Area\n",
              "0  LP001116   Male      No  ...            360.0            1.0     Semiurban\n",
              "1  LP001488   Male     Yes  ...            360.0            1.0     Semiurban\n",
              "2  LP002138   Male     Yes  ...            360.0            1.0         Rural\n",
              "\n",
              "[3 rows x 12 columns]"
            ]
          },
          "metadata": {
            "tags": []
          },
          "execution_count": 75
        }
      ]
    },
    {
      "cell_type": "code",
      "metadata": {
        "id": "-khkZSKJoLpS"
      },
      "source": [
        "test_data1 = test_data.copy()"
      ],
      "execution_count": 76,
      "outputs": []
    },
    {
      "cell_type": "code",
      "metadata": {
        "colab": {
          "base_uri": "https://localhost:8080/"
        },
        "id": "9_AB4mwBoSyR",
        "outputId": "e806294b-4920-4699-ece8-99ae95f7a169"
      },
      "source": [
        "test_data1.Gender.value_counts()"
      ],
      "execution_count": 77,
      "outputs": [
        {
          "output_type": "execute_result",
          "data": {
            "text/plain": [
              "Male      96\n",
              "Female    24\n",
              "Name: Gender, dtype: int64"
            ]
          },
          "metadata": {
            "tags": []
          },
          "execution_count": 77
        }
      ]
    },
    {
      "cell_type": "code",
      "metadata": {
        "id": "Tp1Qv8g2oSrh"
      },
      "source": [
        "test_data1.Gender = test_data1.Gender.fillna('Male')"
      ],
      "execution_count": 78,
      "outputs": []
    },
    {
      "cell_type": "code",
      "metadata": {
        "colab": {
          "base_uri": "https://localhost:8080/"
        },
        "id": "B0WFjrAtolOt",
        "outputId": "25173966-be43-4123-9245-908f323ba865"
      },
      "source": [
        "test_data1.Married.value_counts()"
      ],
      "execution_count": 81,
      "outputs": [
        {
          "output_type": "execute_result",
          "data": {
            "text/plain": [
              "Yes    74\n",
              "No     47\n",
              "Name: Married, dtype: int64"
            ]
          },
          "metadata": {
            "tags": []
          },
          "execution_count": 81
        }
      ]
    },
    {
      "cell_type": "code",
      "metadata": {
        "id": "bHFo-LGyopox"
      },
      "source": [
        "test_data1.Married = test_data1.Married.fillna('Yes')\r\n"
      ],
      "execution_count": 82,
      "outputs": []
    },
    {
      "cell_type": "code",
      "metadata": {
        "colab": {
          "base_uri": "https://localhost:8080/"
        },
        "id": "EDfQcViwowMA",
        "outputId": "41e5fea2-e362-4538-c7a3-b87c3c43fe59"
      },
      "source": [
        "test_data1.Dependents.value_counts()"
      ],
      "execution_count": 83,
      "outputs": [
        {
          "output_type": "execute_result",
          "data": {
            "text/plain": [
              "0     69\n",
              "2     23\n",
              "1     17\n",
              "3+     8\n",
              "Name: Dependents, dtype: int64"
            ]
          },
          "metadata": {
            "tags": []
          },
          "execution_count": 83
        }
      ]
    },
    {
      "cell_type": "code",
      "metadata": {
        "id": "9ebvL-Fyo2q0"
      },
      "source": [
        "test_data1.Dependents = test_data1.Dependents.fillna(0)"
      ],
      "execution_count": 84,
      "outputs": []
    },
    {
      "cell_type": "code",
      "metadata": {
        "colab": {
          "base_uri": "https://localhost:8080/"
        },
        "id": "hn3FsAuQpAlT",
        "outputId": "6923ff10-956a-488f-f9b0-a04451c49bd2"
      },
      "source": [
        "test_data1.Self_Employed.value_counts()"
      ],
      "execution_count": 85,
      "outputs": [
        {
          "output_type": "execute_result",
          "data": {
            "text/plain": [
              "No     102\n",
              "Yes     18\n",
              "Name: Self_Employed, dtype: int64"
            ]
          },
          "metadata": {
            "tags": []
          },
          "execution_count": 85
        }
      ]
    },
    {
      "cell_type": "code",
      "metadata": {
        "id": "fPfY4Cx8pSWK"
      },
      "source": [
        "test_data1.Self_Employed= test_data1.Self_Employed.fillna('No')"
      ],
      "execution_count": 86,
      "outputs": []
    },
    {
      "cell_type": "code",
      "metadata": {
        "colab": {
          "base_uri": "https://localhost:8080/"
        },
        "id": "mom_bjStpfA7",
        "outputId": "a230fd5f-1d67-4cba-f62c-fc33c10a9e93"
      },
      "source": [
        "test_data1.LoanAmount.describe()"
      ],
      "execution_count": 87,
      "outputs": [
        {
          "output_type": "execute_result",
          "data": {
            "text/plain": [
              "count    117.000000\n",
              "mean     152.085470\n",
              "std       82.703623\n",
              "min        9.000000\n",
              "25%      104.000000\n",
              "50%      131.000000\n",
              "75%      180.000000\n",
              "max      570.000000\n",
              "Name: LoanAmount, dtype: float64"
            ]
          },
          "metadata": {
            "tags": []
          },
          "execution_count": 87
        }
      ]
    },
    {
      "cell_type": "code",
      "metadata": {
        "id": "dC5YDMjWpv1Q"
      },
      "source": [
        "test_data1.LoanAmount = test_data1.LoanAmount.fillna(152)"
      ],
      "execution_count": 88,
      "outputs": []
    },
    {
      "cell_type": "code",
      "metadata": {
        "colab": {
          "base_uri": "https://localhost:8080/"
        },
        "id": "o8bhqr5_p8RH",
        "outputId": "e5821396-fd1c-4467-bec8-b011610aa224"
      },
      "source": [
        "test_data1.Loan_Amount_Term.describe()"
      ],
      "execution_count": 90,
      "outputs": [
        {
          "output_type": "execute_result",
          "data": {
            "text/plain": [
              "count    122.000000\n",
              "mean     344.754098\n",
              "std       57.499021\n",
              "min       60.000000\n",
              "25%      360.000000\n",
              "50%      360.000000\n",
              "75%      360.000000\n",
              "max      480.000000\n",
              "Name: Loan_Amount_Term, dtype: float64"
            ]
          },
          "metadata": {
            "tags": []
          },
          "execution_count": 90
        }
      ]
    },
    {
      "cell_type": "code",
      "metadata": {
        "id": "qNz0McFuqHQd"
      },
      "source": [
        "test_data1.Loan_Amount_Term = test_data1.Loan_Amount_Term.fillna(360)"
      ],
      "execution_count": 91,
      "outputs": []
    },
    {
      "cell_type": "code",
      "metadata": {
        "colab": {
          "base_uri": "https://localhost:8080/"
        },
        "id": "kcc-kOdfqORa",
        "outputId": "b026ec92-8838-4293-ac91-fcf96df91427"
      },
      "source": [
        "test_data1.Credit_History.value_counts()"
      ],
      "execution_count": 92,
      "outputs": [
        {
          "output_type": "execute_result",
          "data": {
            "text/plain": [
              "1.0    95\n",
              "0.0    21\n",
              "Name: Credit_History, dtype: int64"
            ]
          },
          "metadata": {
            "tags": []
          },
          "execution_count": 92
        }
      ]
    },
    {
      "cell_type": "code",
      "metadata": {
        "id": "96Loo5GOqVWF"
      },
      "source": [
        "test_data1.Credit_History= test_data1.Credit_History.fillna(1.0)\r\n"
      ],
      "execution_count": 93,
      "outputs": []
    },
    {
      "cell_type": "code",
      "metadata": {
        "colab": {
          "base_uri": "https://localhost:8080/"
        },
        "id": "JQBuFniblShc",
        "outputId": "9d2adf98-57e0-4139-c0c9-f6b946de5f42"
      },
      "source": [
        "test_data1.isnull().sum()"
      ],
      "execution_count": 94,
      "outputs": [
        {
          "output_type": "execute_result",
          "data": {
            "text/plain": [
              "Loan_ID              0\n",
              "Gender               0\n",
              "Married              0\n",
              "Dependents           0\n",
              "Education            0\n",
              "Self_Employed        0\n",
              "ApplicantIncome      0\n",
              "CoapplicantIncome    0\n",
              "LoanAmount           0\n",
              "Loan_Amount_Term     0\n",
              "Credit_History       0\n",
              "Property_Area        0\n",
              "dtype: int64"
            ]
          },
          "metadata": {
            "tags": []
          },
          "execution_count": 94
        }
      ]
    },
    {
      "cell_type": "code",
      "metadata": {
        "id": "yR93QepQlWN8"
      },
      "source": [
        "#test = test_data1.dropna()\r\n",
        "test = test_data1.drop(['Loan_ID'], axis=1)"
      ],
      "execution_count": 95,
      "outputs": []
    },
    {
      "cell_type": "code",
      "metadata": {
        "id": "9S69sA8Ymca0"
      },
      "source": [
        "test.Dependents = test.Dependents.replace('3+', 3)"
      ],
      "execution_count": 96,
      "outputs": []
    },
    {
      "cell_type": "code",
      "metadata": {
        "id": "o7GUC0_Hmca2"
      },
      "source": [
        "test.Dependents = test.Dependents.astype(int)"
      ],
      "execution_count": 97,
      "outputs": []
    },
    {
      "cell_type": "code",
      "metadata": {
        "id": "ta7BLHY2laLt"
      },
      "source": [
        "test1 = pd.get_dummies(test)"
      ],
      "execution_count": 98,
      "outputs": []
    },
    {
      "cell_type": "code",
      "metadata": {
        "colab": {
          "base_uri": "https://localhost:8080/",
          "height": 178
        },
        "id": "FbUjsqKblf04",
        "outputId": "5cbb9c1c-a7b3-418c-b472-1a6951c2499e"
      },
      "source": [
        "test2 = std.fit_transform(test1)\r\n",
        "test2 = pd.DataFrame(test2)\r\n",
        "test2.columns = test1.columns\r\n",
        "test2.head(3)"
      ],
      "execution_count": 99,
      "outputs": [
        {
          "output_type": "execute_result",
          "data": {
            "text/html": [
              "<div>\n",
              "<style scoped>\n",
              "    .dataframe tbody tr th:only-of-type {\n",
              "        vertical-align: middle;\n",
              "    }\n",
              "\n",
              "    .dataframe tbody tr th {\n",
              "        vertical-align: top;\n",
              "    }\n",
              "\n",
              "    .dataframe thead th {\n",
              "        text-align: right;\n",
              "    }\n",
              "</style>\n",
              "<table border=\"1\" class=\"dataframe\">\n",
              "  <thead>\n",
              "    <tr style=\"text-align: right;\">\n",
              "      <th></th>\n",
              "      <th>Dependents</th>\n",
              "      <th>ApplicantIncome</th>\n",
              "      <th>CoapplicantIncome</th>\n",
              "      <th>LoanAmount</th>\n",
              "      <th>Loan_Amount_Term</th>\n",
              "      <th>Credit_History</th>\n",
              "      <th>Gender_Female</th>\n",
              "      <th>Gender_Male</th>\n",
              "      <th>Married_No</th>\n",
              "      <th>Married_Yes</th>\n",
              "      <th>Education_Graduate</th>\n",
              "      <th>Education_Not Graduate</th>\n",
              "      <th>Self_Employed_No</th>\n",
              "      <th>Self_Employed_Yes</th>\n",
              "      <th>Property_Area_Rural</th>\n",
              "      <th>Property_Area_Semiurban</th>\n",
              "      <th>Property_Area_Urban</th>\n",
              "    </tr>\n",
              "  </thead>\n",
              "  <tbody>\n",
              "    <tr>\n",
              "      <th>0</th>\n",
              "      <td>-0.717710</td>\n",
              "      <td>-0.356265</td>\n",
              "      <td>-0.026793</td>\n",
              "      <td>-0.523948</td>\n",
              "      <td>0.265083</td>\n",
              "      <td>0.453743</td>\n",
              "      <td>-0.492366</td>\n",
              "      <td>0.492366</td>\n",
              "      <td>1.271622</td>\n",
              "      <td>-1.271622</td>\n",
              "      <td>-1.722714</td>\n",
              "      <td>1.722714</td>\n",
              "      <td>0.414039</td>\n",
              "      <td>-0.414039</td>\n",
              "      <td>-0.555437</td>\n",
              "      <td>1.271622</td>\n",
              "      <td>-0.786398</td>\n",
              "    </tr>\n",
              "    <tr>\n",
              "      <th>1</th>\n",
              "      <td>2.326372</td>\n",
              "      <td>-0.302328</td>\n",
              "      <td>2.034669</td>\n",
              "      <td>1.717205</td>\n",
              "      <td>0.265083</td>\n",
              "      <td>0.453743</td>\n",
              "      <td>-0.492366</td>\n",
              "      <td>0.492366</td>\n",
              "      <td>-0.786398</td>\n",
              "      <td>0.786398</td>\n",
              "      <td>0.580480</td>\n",
              "      <td>-0.580480</td>\n",
              "      <td>0.414039</td>\n",
              "      <td>-0.414039</td>\n",
              "      <td>-0.555437</td>\n",
              "      <td>1.271622</td>\n",
              "      <td>-0.786398</td>\n",
              "    </tr>\n",
              "    <tr>\n",
              "      <th>2</th>\n",
              "      <td>-0.717710</td>\n",
              "      <td>-0.596626</td>\n",
              "      <td>1.526252</td>\n",
              "      <td>0.434768</td>\n",
              "      <td>0.265083</td>\n",
              "      <td>0.453743</td>\n",
              "      <td>-0.492366</td>\n",
              "      <td>0.492366</td>\n",
              "      <td>-0.786398</td>\n",
              "      <td>0.786398</td>\n",
              "      <td>0.580480</td>\n",
              "      <td>-0.580480</td>\n",
              "      <td>0.414039</td>\n",
              "      <td>-0.414039</td>\n",
              "      <td>1.800383</td>\n",
              "      <td>-0.786398</td>\n",
              "      <td>-0.786398</td>\n",
              "    </tr>\n",
              "  </tbody>\n",
              "</table>\n",
              "</div>"
            ],
            "text/plain": [
              "   Dependents  ApplicantIncome  ...  Property_Area_Semiurban  Property_Area_Urban\n",
              "0   -0.717710        -0.356265  ...                 1.271622            -0.786398\n",
              "1    2.326372        -0.302328  ...                 1.271622            -0.786398\n",
              "2   -0.717710        -0.596626  ...                -0.786398            -0.786398\n",
              "\n",
              "[3 rows x 17 columns]"
            ]
          },
          "metadata": {
            "tags": []
          },
          "execution_count": 99
        }
      ]
    },
    {
      "cell_type": "code",
      "metadata": {
        "colab": {
          "base_uri": "https://localhost:8080/"
        },
        "id": "X6L5ZV3VlmgZ",
        "outputId": "9c694c0b-d8a8-4669-a287-124a34039761"
      },
      "source": [
        "test2.shape"
      ],
      "execution_count": 100,
      "outputs": [
        {
          "output_type": "execute_result",
          "data": {
            "text/plain": [
              "(123, 17)"
            ]
          },
          "metadata": {
            "tags": []
          },
          "execution_count": 100
        }
      ]
    },
    {
      "cell_type": "code",
      "metadata": {
        "colab": {
          "base_uri": "https://localhost:8080/"
        },
        "id": "dNUumdFxmtgU",
        "outputId": "88ccba52-10a8-4fd9-98ed-eca5dfc432d8"
      },
      "source": [
        "X_train.shape"
      ],
      "execution_count": 101,
      "outputs": [
        {
          "output_type": "execute_result",
          "data": {
            "text/plain": [
              "(304, 17)"
            ]
          },
          "metadata": {
            "tags": []
          },
          "execution_count": 101
        }
      ]
    },
    {
      "cell_type": "code",
      "metadata": {
        "id": "XeHvSW4Hmwyf"
      },
      "source": [
        "test_pred = xgb.predict(test2)\r\n",
        "pd.Series(test_pred).to_csv('ass4.csv', index=False, header=['prediction'] )"
      ],
      "execution_count": 102,
      "outputs": []
    },
    {
      "cell_type": "code",
      "metadata": {
        "colab": {
          "base_uri": "https://localhost:8080/"
        },
        "id": "1hOTUlGnnLxu",
        "outputId": "370a9f01-bbb9-4f7b-aead-b4fe31620e5b"
      },
      "source": [
        "pip install catboost"
      ],
      "execution_count": 103,
      "outputs": [
        {
          "output_type": "stream",
          "text": [
            "Collecting catboost\n",
            "\u001b[?25l  Downloading https://files.pythonhosted.org/packages/7e/c1/c1c4707013f9e2f8a96899dd3a87f66c9167d6d776a6dc8fe7ec8678d446/catboost-0.24.3-cp36-none-manylinux1_x86_64.whl (66.3MB)\n",
            "\u001b[K     |████████████████████████████████| 66.3MB 50kB/s \n",
            "\u001b[?25hRequirement already satisfied: six in /usr/local/lib/python3.6/dist-packages (from catboost) (1.15.0)\n",
            "Requirement already satisfied: scipy in /usr/local/lib/python3.6/dist-packages (from catboost) (1.4.1)\n",
            "Requirement already satisfied: plotly in /usr/local/lib/python3.6/dist-packages (from catboost) (4.4.1)\n",
            "Requirement already satisfied: pandas>=0.24.0 in /usr/local/lib/python3.6/dist-packages (from catboost) (1.1.5)\n",
            "Requirement already satisfied: numpy>=1.16.0 in /usr/local/lib/python3.6/dist-packages (from catboost) (1.19.4)\n",
            "Requirement already satisfied: matplotlib in /usr/local/lib/python3.6/dist-packages (from catboost) (3.2.2)\n",
            "Requirement already satisfied: graphviz in /usr/local/lib/python3.6/dist-packages (from catboost) (0.10.1)\n",
            "Requirement already satisfied: retrying>=1.3.3 in /usr/local/lib/python3.6/dist-packages (from plotly->catboost) (1.3.3)\n",
            "Requirement already satisfied: python-dateutil>=2.7.3 in /usr/local/lib/python3.6/dist-packages (from pandas>=0.24.0->catboost) (2.8.1)\n",
            "Requirement already satisfied: pytz>=2017.2 in /usr/local/lib/python3.6/dist-packages (from pandas>=0.24.0->catboost) (2018.9)\n",
            "Requirement already satisfied: cycler>=0.10 in /usr/local/lib/python3.6/dist-packages (from matplotlib->catboost) (0.10.0)\n",
            "Requirement already satisfied: kiwisolver>=1.0.1 in /usr/local/lib/python3.6/dist-packages (from matplotlib->catboost) (1.3.1)\n",
            "Requirement already satisfied: pyparsing!=2.0.4,!=2.1.2,!=2.1.6,>=2.0.1 in /usr/local/lib/python3.6/dist-packages (from matplotlib->catboost) (2.4.7)\n",
            "Installing collected packages: catboost\n",
            "Successfully installed catboost-0.24.3\n"
          ],
          "name": "stdout"
        }
      ]
    },
    {
      "cell_type": "code",
      "metadata": {
        "id": "TcyPDUdnrf-B"
      },
      "source": [
        "from catboost import CatBoostClassifier"
      ],
      "execution_count": 104,
      "outputs": []
    },
    {
      "cell_type": "code",
      "metadata": {
        "id": "mgGl3Uu7rZhR"
      },
      "source": [
        "cat = CatBoostClassifier(task_type='GPU')"
      ],
      "execution_count": 106,
      "outputs": []
    },
    {
      "cell_type": "code",
      "metadata": {
        "colab": {
          "base_uri": "https://localhost:8080/"
        },
        "id": "SEH8DtDjrkkj",
        "outputId": "37f4e818-32b0-430b-fee5-a0369db0f857"
      },
      "source": [
        "cat.fit(X_train, y_train, verbose=0)\r\n",
        "cat_pred = cat.predict(X_test)\r\n",
        "f1_score(y_test, cat_pred)"
      ],
      "execution_count": 107,
      "outputs": [
        {
          "output_type": "execute_result",
          "data": {
            "text/plain": [
              "0.8617886178861788"
            ]
          },
          "metadata": {
            "tags": []
          },
          "execution_count": 107
        }
      ]
    },
    {
      "cell_type": "code",
      "metadata": {
        "id": "JY-bYKGor0SS"
      },
      "source": [
        "test_pred1 = cat.predict(test2)\r\n",
        "pd.Series(test_pred1).to_csv('ass5.csv', index=False, header=['prediction'] )"
      ],
      "execution_count": 108,
      "outputs": []
    },
    {
      "cell_type": "code",
      "metadata": {
        "id": "q4STTo5dsOfc"
      },
      "source": [
        ""
      ],
      "execution_count": null,
      "outputs": []
    }
  ]
}