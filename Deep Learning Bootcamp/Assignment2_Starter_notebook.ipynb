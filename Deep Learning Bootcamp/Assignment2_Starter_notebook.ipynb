{
  "nbformat": 4,
  "nbformat_minor": 0,
  "metadata": {
    "colab": {
      "name": "Assignment2_Starter_notebook.ipynb",
      "provenance": [],
      "include_colab_link": true
    },
    "kernelspec": {
      "name": "python3",
      "display_name": "Python 3"
    },
    "accelerator": "GPU"
  },
  "cells": [
    {
      "cell_type": "markdown",
      "metadata": {
        "id": "view-in-github",
        "colab_type": "text"
      },
      "source": [
        "<a href=\"https://colab.research.google.com/github/Justus-coded/DPhi-Deep-Learning-Bootcamp/blob/master/Assignment2_Starter_notebook.ipynb\" target=\"_parent\"><img src=\"https://colab.research.google.com/assets/colab-badge.svg\" alt=\"Open In Colab\"/></a>"
      ]
    },
    {
      "cell_type": "markdown",
      "metadata": {
        "id": "01quEXe2_bkz",
        "colab_type": "text"
      },
      "source": [
        "**Please follow the below instructions to load the dataset in Notebook.**"
      ]
    },
    {
      "cell_type": "markdown",
      "metadata": {
        "id": "SD3WuCgn_rTe",
        "colab_type": "text"
      },
      "source": [
        "## Download Data From GitHub\n",
        "First we need to get the data. We have given the GitHub link under the '[Data](https://dphi.tech/practice/challenge/34#data)' section of the [problem page](https://dphi.tech/practice/challenge/34) which has all the required train images (to build the model) and test datat images for which one need to predict the labels (animal specie) and submit the predictions on the [DPhi platform](https://dphi.tech/practice/challenge/34#submission). "
      ]
    },
    {
      "cell_type": "markdown",
      "metadata": {
        "id": "EedDDfzVA6vW",
        "colab_type": "text"
      },
      "source": [
        "#### Download GitHub Repository\n",
        "The first step is to download the repository 'Datasets' to the colab files. We can achieve this by executing the below code."
      ]
    },
    {
      "cell_type": "code",
      "metadata": {
        "id": "h2TWoO5-bIyL",
        "colab_type": "code",
        "colab": {
          "base_uri": "https://localhost:8080/",
          "height": 123
        },
        "outputId": "12c45f93-30fd-4af9-f9d4-54c3399181eb"
      },
      "source": [
        "!git clone 'https://github.com/dphi-official/Datasets/'"
      ],
      "execution_count": 1,
      "outputs": [
        {
          "output_type": "stream",
          "text": [
            "Cloning into 'Datasets'...\n",
            "remote: Enumerating objects: 9874, done.\u001b[K\n",
            "remote: Total 9874 (delta 0), reused 0 (delta 0), pack-reused 9874\u001b[K\n",
            "Receiving objects: 100% (9874/9874), 427.70 MiB | 39.65 MiB/s, done.\n",
            "Resolving deltas: 100% (102/102), done.\n",
            "Checking out files: 100% (9345/9345), done.\n"
          ],
          "name": "stdout"
        }
      ]
    },
    {
      "cell_type": "markdown",
      "metadata": {
        "id": "c5pIwErRBzRR",
        "colab_type": "text"
      },
      "source": [
        "Now if you check the colab files, you have everything that was available in the 'Datasets' repository.\n",
        "\n",
        "![image](https://github.com/dphi-official/Deep_Learning_Bootcamp/blob/master/Assignment_2/beg_ass_2_gsc.jpg?raw=true)\n",
        "\n",
        "**Note:** These files will be available in colab files for significant (not sure but 12 to 24 hours maybe) amount of time."
      ]
    },
    {
      "cell_type": "markdown",
      "metadata": {
        "id": "6fNZAB84I7-8",
        "colab_type": "text"
      },
      "source": [
        "The files inside 'animal_data' folder looks like this:\n",
        "\n",
        "![image2](https://github.com/dphi-official/Deep_Learning_Bootcamp/blob/master/Assignment_2/beg_ass_2_gsc_1.jpg?raw=true)"
      ]
    },
    {
      "cell_type": "markdown",
      "metadata": {
        "id": "qEbMvCc8JJRR",
        "colab_type": "text"
      },
      "source": [
        "We need to extract the two zip files 'test_beg.zip' which contains testing images and 'train_beg.zip' contains images for training the model. To extract these zip files execute below code."
      ]
    },
    {
      "cell_type": "code",
      "metadata": {
        "id": "riW3f4ifJiAa",
        "colab_type": "code",
        "colab": {
          "base_uri": "https://localhost:8080/",
          "height": 1000
        },
        "outputId": "abc1854c-dee9-4793-979e-8969fc70dff9"
      },
      "source": [
        "# To unzip train_beg.zip\n",
        "!unzip /content/Datasets/animal_data/train_beg.zip \n",
        "\n",
        "# To unzip test_beg.zip\n",
        "!unzip /content/Datasets/animal_data/test_beg.zip"
      ],
      "execution_count": 2,
      "outputs": [
        {
          "output_type": "stream",
          "text": [
            "Archive:  /content/Datasets/animal_data/train_beg.zip\n",
            "   creating: train_beg/\n",
            "  inflating: train_beg/Image_1.jpg   \n",
            "  inflating: train_beg/Image_10.jpg  \n",
            "  inflating: train_beg/Image_100.jpg  \n",
            "  inflating: train_beg/Image_1000.jpg  \n",
            "  inflating: train_beg/Image_1001.jpg  \n",
            "  inflating: train_beg/Image_1002.jpg  \n",
            "  inflating: train_beg/Image_1003.jpg  \n",
            "  inflating: train_beg/Image_1004.jpg  \n",
            "  inflating: train_beg/Image_1005.jpg  \n",
            "  inflating: train_beg/Image_1006.jpg  \n",
            "  inflating: train_beg/Image_1007.jpg  \n",
            "  inflating: train_beg/Image_1008.jpg  \n",
            "  inflating: train_beg/Image_1009.jpg  \n",
            "  inflating: train_beg/Image_101.jpg  \n",
            "  inflating: train_beg/Image_1010.jpg  \n",
            "  inflating: train_beg/Image_1011.jpg  \n",
            "  inflating: train_beg/Image_1012.jpg  \n",
            "  inflating: train_beg/Image_1013.jpg  \n",
            "  inflating: train_beg/Image_1014.jpg  \n",
            "  inflating: train_beg/Image_1015.jpg  \n",
            "  inflating: train_beg/Image_1016.jpg  \n",
            "  inflating: train_beg/Image_1017.jpg  \n",
            "  inflating: train_beg/Image_1018.jpg  \n",
            "  inflating: train_beg/Image_1019.jpg  \n",
            "  inflating: train_beg/Image_102.jpg  \n",
            "  inflating: train_beg/Image_1020.jpg  \n",
            "  inflating: train_beg/Image_1021.jpg  \n",
            "  inflating: train_beg/Image_1022.jpg  \n",
            "  inflating: train_beg/Image_1023.jpg  \n",
            "  inflating: train_beg/Image_1024.jpg  \n",
            "  inflating: train_beg/Image_1025.jpg  \n",
            "  inflating: train_beg/Image_1026.jpg  \n",
            "  inflating: train_beg/Image_1027.jpg  \n",
            "  inflating: train_beg/Image_1028.jpg  \n",
            "  inflating: train_beg/Image_1029.jpg  \n",
            "  inflating: train_beg/Image_103.jpg  \n",
            "  inflating: train_beg/Image_1030.jpg  \n",
            "  inflating: train_beg/Image_1031.jpg  \n",
            "  inflating: train_beg/Image_1032.jpg  \n",
            "  inflating: train_beg/Image_1033.jpg  \n",
            "  inflating: train_beg/Image_1034.jpg  \n",
            "  inflating: train_beg/Image_1035.jpg  \n",
            "  inflating: train_beg/Image_1036.jpg  \n",
            "  inflating: train_beg/Image_1037.jpg  \n",
            "  inflating: train_beg/Image_1038.jpg  \n",
            "  inflating: train_beg/Image_1039.jpg  \n",
            "  inflating: train_beg/Image_104.jpg  \n",
            "  inflating: train_beg/Image_1040.jpg  \n",
            "  inflating: train_beg/Image_1041.jpg  \n",
            "  inflating: train_beg/Image_1042.jpg  \n",
            "  inflating: train_beg/Image_1043.jpg  \n",
            "  inflating: train_beg/Image_1044.jpg  \n",
            "  inflating: train_beg/Image_1045.jpg  \n",
            "  inflating: train_beg/Image_1046.jpg  \n",
            "  inflating: train_beg/Image_1047.jpg  \n",
            "  inflating: train_beg/Image_1048.jpg  \n",
            "  inflating: train_beg/Image_1049.jpg  \n",
            "  inflating: train_beg/Image_105.jpg  \n",
            "  inflating: train_beg/Image_1050.jpg  \n",
            "  inflating: train_beg/Image_1051.jpg  \n",
            "  inflating: train_beg/Image_1052.jpg  \n",
            "  inflating: train_beg/Image_1053.jpg  \n",
            "  inflating: train_beg/Image_1054.jpg  \n",
            "  inflating: train_beg/Image_1055.jpg  \n",
            "  inflating: train_beg/Image_1056.jpg  \n",
            "  inflating: train_beg/Image_1057.jpg  \n",
            "  inflating: train_beg/Image_1058.jpg  \n",
            "  inflating: train_beg/Image_1059.jpg  \n",
            "  inflating: train_beg/Image_106.jpg  \n",
            "  inflating: train_beg/Image_1060.jpg  \n",
            "  inflating: train_beg/Image_1061.jpg  \n",
            "  inflating: train_beg/Image_1062.jpg  \n",
            "  inflating: train_beg/Image_1063.jpg  \n",
            "  inflating: train_beg/Image_1064.jpg  \n",
            "  inflating: train_beg/Image_1065.jpg  \n",
            "  inflating: train_beg/Image_1066.jpg  \n",
            "  inflating: train_beg/Image_1067.jpg  \n",
            "  inflating: train_beg/Image_1068.jpg  \n",
            "  inflating: train_beg/Image_1069.jpg  \n",
            "  inflating: train_beg/Image_107.jpg  \n",
            "  inflating: train_beg/Image_1070.jpg  \n",
            "  inflating: train_beg/Image_1071.jpg  \n",
            "  inflating: train_beg/Image_1072.jpg  \n",
            "  inflating: train_beg/Image_1073.jpg  \n",
            "  inflating: train_beg/Image_1074.jpg  \n",
            "  inflating: train_beg/Image_1075.jpg  \n",
            "  inflating: train_beg/Image_1076.jpg  \n",
            "  inflating: train_beg/Image_1077.jpg  \n",
            "  inflating: train_beg/Image_1078.jpg  \n",
            "  inflating: train_beg/Image_1079.jpg  \n",
            "  inflating: train_beg/Image_108.jpg  \n",
            "  inflating: train_beg/Image_1080.jpg  \n",
            "  inflating: train_beg/Image_1081.jpg  \n",
            "  inflating: train_beg/Image_1082.jpg  \n",
            "  inflating: train_beg/Image_1083.jpg  \n",
            "  inflating: train_beg/Image_1084.jpg  \n",
            "  inflating: train_beg/Image_1085.jpg  \n",
            "  inflating: train_beg/Image_1086.jpg  \n",
            "  inflating: train_beg/Image_1087.jpg  \n",
            "  inflating: train_beg/Image_1088.jpg  \n",
            "  inflating: train_beg/Image_1089.jpg  \n",
            "  inflating: train_beg/Image_109.jpg  \n",
            "  inflating: train_beg/Image_1090.jpg  \n",
            "  inflating: train_beg/Image_1091.jpg  \n",
            "  inflating: train_beg/Image_1092.jpg  \n",
            "  inflating: train_beg/Image_1093.jpg  \n",
            "  inflating: train_beg/Image_1094.jpg  \n",
            "  inflating: train_beg/Image_1095.jpg  \n",
            "  inflating: train_beg/Image_1096.jpg  \n",
            "  inflating: train_beg/Image_1097.jpg  \n",
            "  inflating: train_beg/Image_1098.jpg  \n",
            "  inflating: train_beg/Image_1099.jpg  \n",
            "  inflating: train_beg/Image_11.jpg  \n",
            "  inflating: train_beg/Image_110.jpg  \n",
            "  inflating: train_beg/Image_1100.jpg  \n",
            "  inflating: train_beg/Image_1101.jpg  \n",
            "  inflating: train_beg/Image_1102.jpg  \n",
            "  inflating: train_beg/Image_1103.jpg  \n",
            "  inflating: train_beg/Image_1104.jpg  \n",
            "  inflating: train_beg/Image_1105.jpg  \n",
            "  inflating: train_beg/Image_1106.jpg  \n",
            "  inflating: train_beg/Image_1107.jpg  \n",
            "  inflating: train_beg/Image_1108.jpg  \n",
            "  inflating: train_beg/Image_1109.jpg  \n",
            "  inflating: train_beg/Image_111.jpg  \n",
            "  inflating: train_beg/Image_1110.jpg  \n",
            "  inflating: train_beg/Image_1111.jpg  \n",
            "  inflating: train_beg/Image_1112.jpg  \n",
            "  inflating: train_beg/Image_1113.jpg  \n",
            "  inflating: train_beg/Image_1114.jpg  \n",
            "  inflating: train_beg/Image_1115.jpg  \n",
            "  inflating: train_beg/Image_1116.jpg  \n",
            "  inflating: train_beg/Image_1117.jpg  \n",
            "  inflating: train_beg/Image_1118.jpg  \n",
            "  inflating: train_beg/Image_1119.jpg  \n",
            "  inflating: train_beg/Image_112.jpg  \n",
            "  inflating: train_beg/Image_1120.jpg  \n",
            "  inflating: train_beg/Image_1121.jpg  \n",
            "  inflating: train_beg/Image_1122.jpg  \n",
            "  inflating: train_beg/Image_1123.jpg  \n",
            "  inflating: train_beg/Image_1124.jpg  \n",
            "  inflating: train_beg/Image_1125.jpg  \n",
            "  inflating: train_beg/Image_1126.jpg  \n",
            "  inflating: train_beg/Image_1127.jpg  \n",
            "  inflating: train_beg/Image_1128.jpg  \n",
            "  inflating: train_beg/Image_1129.jpg  \n",
            "  inflating: train_beg/Image_113.jpg  \n",
            "  inflating: train_beg/Image_1130.jpg  \n",
            "  inflating: train_beg/Image_1131.jpg  \n",
            "  inflating: train_beg/Image_1132.jpg  \n",
            "  inflating: train_beg/Image_1133.jpg  \n",
            "  inflating: train_beg/Image_1134.jpg  \n",
            "  inflating: train_beg/Image_1135.jpg  \n",
            "  inflating: train_beg/Image_1136.jpg  \n",
            "  inflating: train_beg/Image_1137.jpg  \n",
            "  inflating: train_beg/Image_1138.jpg  \n",
            "  inflating: train_beg/Image_1139.jpg  \n",
            "  inflating: train_beg/Image_114.jpg  \n",
            "  inflating: train_beg/Image_1140.jpg  \n",
            "  inflating: train_beg/Image_1141.jpg  \n",
            "  inflating: train_beg/Image_1142.jpg  \n",
            "  inflating: train_beg/Image_1143.jpg  \n",
            "  inflating: train_beg/Image_1144.jpg  \n",
            "  inflating: train_beg/Image_1145.jpg  \n",
            "  inflating: train_beg/Image_1146.jpg  \n",
            "  inflating: train_beg/Image_1147.jpg  \n",
            "  inflating: train_beg/Image_1148.jpg  \n",
            "  inflating: train_beg/Image_1149.jpg  \n",
            "  inflating: train_beg/Image_115.jpg  \n",
            "  inflating: train_beg/Image_1150.jpg  \n",
            "  inflating: train_beg/Image_1151.jpg  \n",
            "  inflating: train_beg/Image_1152.jpg  \n",
            "  inflating: train_beg/Image_1153.jpg  \n",
            "  inflating: train_beg/Image_1154.jpg  \n",
            "  inflating: train_beg/Image_1155.jpg  \n",
            "  inflating: train_beg/Image_1156.jpg  \n",
            "  inflating: train_beg/Image_1157.jpg  \n",
            "  inflating: train_beg/Image_1158.jpg  \n",
            "  inflating: train_beg/Image_1159.jpg  \n",
            "  inflating: train_beg/Image_116.jpg  \n",
            "  inflating: train_beg/Image_1160.jpg  \n",
            "  inflating: train_beg/Image_1161.jpg  \n",
            "  inflating: train_beg/Image_1162.jpg  \n",
            "  inflating: train_beg/Image_1163.jpg  \n",
            "  inflating: train_beg/Image_1164.jpg  \n",
            "  inflating: train_beg/Image_1165.jpg  \n",
            "  inflating: train_beg/Image_1166.jpg  \n",
            "  inflating: train_beg/Image_1167.jpg  \n",
            "  inflating: train_beg/Image_1168.jpg  \n",
            "  inflating: train_beg/Image_1169.jpg  \n",
            "  inflating: train_beg/Image_117.jpg  \n",
            "  inflating: train_beg/Image_1170.jpg  \n",
            "  inflating: train_beg/Image_1171.jpg  \n",
            "  inflating: train_beg/Image_1172.jpg  \n",
            "  inflating: train_beg/Image_1173.jpg  \n",
            "  inflating: train_beg/Image_1174.jpg  \n",
            "  inflating: train_beg/Image_1175.jpg  \n",
            "  inflating: train_beg/Image_1176.jpg  \n",
            "  inflating: train_beg/Image_1177.jpg  \n",
            "  inflating: train_beg/Image_1178.jpg  \n",
            "  inflating: train_beg/Image_1179.jpg  \n",
            "  inflating: train_beg/Image_118.jpg  \n",
            "  inflating: train_beg/Image_1180.jpg  \n",
            "  inflating: train_beg/Image_1181.jpg  \n",
            "  inflating: train_beg/Image_1182.jpg  \n",
            "  inflating: train_beg/Image_1183.jpg  \n",
            "  inflating: train_beg/Image_1184.jpg  \n",
            "  inflating: train_beg/Image_1185.jpg  \n",
            "  inflating: train_beg/Image_1186.jpg  \n",
            "  inflating: train_beg/Image_1187.jpg  \n",
            "  inflating: train_beg/Image_1188.jpg  \n",
            "  inflating: train_beg/Image_1189.jpg  \n",
            "  inflating: train_beg/Image_119.jpg  \n",
            "  inflating: train_beg/Image_1190.jpg  \n",
            "  inflating: train_beg/Image_1191.jpg  \n",
            "  inflating: train_beg/Image_1192.jpg  \n",
            "  inflating: train_beg/Image_1193.jpg  \n",
            "  inflating: train_beg/Image_1194.jpg  \n",
            "  inflating: train_beg/Image_1195.jpg  \n",
            "  inflating: train_beg/Image_1196.jpg  \n",
            "  inflating: train_beg/Image_1197.jpg  \n",
            "  inflating: train_beg/Image_1198.jpg  \n",
            "  inflating: train_beg/Image_1199.jpg  \n",
            "  inflating: train_beg/Image_12.jpg  \n",
            "  inflating: train_beg/Image_120.jpg  \n",
            "  inflating: train_beg/Image_1200.jpg  \n",
            "  inflating: train_beg/Image_121.jpg  \n",
            "  inflating: train_beg/Image_122.jpg  \n",
            "  inflating: train_beg/Image_123.jpg  \n",
            "  inflating: train_beg/Image_124.jpg  \n",
            "  inflating: train_beg/Image_125.jpg  \n",
            "  inflating: train_beg/Image_126.jpg  \n",
            "  inflating: train_beg/Image_127.jpg  \n",
            "  inflating: train_beg/Image_128.jpg  \n",
            "  inflating: train_beg/Image_129.jpg  \n",
            "  inflating: train_beg/Image_13.jpg  \n",
            "  inflating: train_beg/Image_130.jpg  \n",
            "  inflating: train_beg/Image_131.jpg  \n",
            "  inflating: train_beg/Image_132.jpg  \n",
            "  inflating: train_beg/Image_133.jpg  \n",
            "  inflating: train_beg/Image_134.jpg  \n",
            "  inflating: train_beg/Image_135.jpg  \n",
            "  inflating: train_beg/Image_136.jpg  \n",
            "  inflating: train_beg/Image_137.jpg  \n",
            "  inflating: train_beg/Image_138.jpg  \n",
            "  inflating: train_beg/Image_139.jpg  \n",
            "  inflating: train_beg/Image_14.jpg  \n",
            "  inflating: train_beg/Image_140.jpg  \n",
            "  inflating: train_beg/Image_141.jpg  \n",
            "  inflating: train_beg/Image_142.jpg  \n",
            "  inflating: train_beg/Image_143.jpg  \n",
            "  inflating: train_beg/Image_144.jpg  \n",
            "  inflating: train_beg/Image_145.jpg  \n",
            "  inflating: train_beg/Image_146.jpg  \n",
            "  inflating: train_beg/Image_147.jpg  \n",
            "  inflating: train_beg/Image_148.jpg  \n",
            "  inflating: train_beg/Image_149.jpg  \n",
            "  inflating: train_beg/Image_15.jpg  \n",
            "  inflating: train_beg/Image_150.jpg  \n",
            "  inflating: train_beg/Image_151.jpg  \n",
            "  inflating: train_beg/Image_152.jpg  \n",
            "  inflating: train_beg/Image_153.jpg  \n",
            "  inflating: train_beg/Image_154.jpg  \n",
            "  inflating: train_beg/Image_155.jpg  \n",
            "  inflating: train_beg/Image_156.jpg  \n",
            "  inflating: train_beg/Image_157.jpg  \n",
            "  inflating: train_beg/Image_158.jpg  \n",
            "  inflating: train_beg/Image_159.jpg  \n",
            "  inflating: train_beg/Image_16.jpg  \n",
            "  inflating: train_beg/Image_160.jpg  \n",
            "  inflating: train_beg/Image_161.jpg  \n",
            "  inflating: train_beg/Image_162.jpg  \n",
            "  inflating: train_beg/Image_163.jpg  \n",
            "  inflating: train_beg/Image_164.jpg  \n",
            "  inflating: train_beg/Image_165.jpg  \n",
            "  inflating: train_beg/Image_166.jpg  \n",
            "  inflating: train_beg/Image_167.jpg  \n",
            "  inflating: train_beg/Image_168.jpg  \n",
            "  inflating: train_beg/Image_169.jpg  \n",
            "  inflating: train_beg/Image_17.jpg  \n",
            "  inflating: train_beg/Image_170.jpg  \n",
            "  inflating: train_beg/Image_171.jpg  \n",
            "  inflating: train_beg/Image_172.jpg  \n",
            "  inflating: train_beg/Image_173.jpg  \n",
            "  inflating: train_beg/Image_174.jpg  \n",
            "  inflating: train_beg/Image_175.jpg  \n",
            "  inflating: train_beg/Image_176.jpg  \n",
            "  inflating: train_beg/Image_177.jpg  \n",
            "  inflating: train_beg/Image_178.jpg  \n",
            "  inflating: train_beg/Image_179.jpg  \n",
            "  inflating: train_beg/Image_18.jpg  \n",
            "  inflating: train_beg/Image_180.jpg  \n",
            "  inflating: train_beg/Image_181.jpg  \n",
            "  inflating: train_beg/Image_182.jpg  \n",
            "  inflating: train_beg/Image_183.jpg  \n",
            "  inflating: train_beg/Image_184.jpg  \n",
            "  inflating: train_beg/Image_185.jpg  \n",
            "  inflating: train_beg/Image_186.jpg  \n",
            "  inflating: train_beg/Image_187.jpg  \n",
            "  inflating: train_beg/Image_188.jpg  \n",
            "  inflating: train_beg/Image_189.jpg  \n",
            "  inflating: train_beg/Image_19.jpg  \n",
            "  inflating: train_beg/Image_190.jpg  \n",
            "  inflating: train_beg/Image_191.jpg  \n",
            "  inflating: train_beg/Image_192.jpg  \n",
            "  inflating: train_beg/Image_193.jpg  \n",
            "  inflating: train_beg/Image_194.jpg  \n",
            "  inflating: train_beg/Image_195.jpg  \n",
            "  inflating: train_beg/Image_196.jpg  \n",
            "  inflating: train_beg/Image_197.jpg  \n",
            "  inflating: train_beg/Image_198.jpg  \n",
            "  inflating: train_beg/Image_199.jpg  \n",
            "  inflating: train_beg/Image_2.jpg   \n",
            "  inflating: train_beg/Image_20.jpg  \n",
            "  inflating: train_beg/Image_200.jpg  \n",
            "  inflating: train_beg/Image_201.jpg  \n",
            "  inflating: train_beg/Image_202.jpg  \n",
            "  inflating: train_beg/Image_203.jpg  \n",
            "  inflating: train_beg/Image_204.jpg  \n",
            "  inflating: train_beg/Image_205.jpg  \n",
            "  inflating: train_beg/Image_206.jpg  \n",
            "  inflating: train_beg/Image_207.jpg  \n",
            "  inflating: train_beg/Image_208.jpg  \n",
            "  inflating: train_beg/Image_209.jpg  \n",
            "  inflating: train_beg/Image_21.jpg  \n",
            "  inflating: train_beg/Image_210.jpg  \n",
            "  inflating: train_beg/Image_211.jpg  \n",
            "  inflating: train_beg/Image_212.jpg  \n",
            "  inflating: train_beg/Image_213.jpg  \n",
            "  inflating: train_beg/Image_214.jpg  \n",
            "  inflating: train_beg/Image_215.jpg  \n",
            "  inflating: train_beg/Image_216.jpg  \n",
            "  inflating: train_beg/Image_217.jpg  \n",
            "  inflating: train_beg/Image_218.jpg  \n",
            "  inflating: train_beg/Image_219.jpg  \n",
            "  inflating: train_beg/Image_22.jpg  \n",
            "  inflating: train_beg/Image_220.jpg  \n",
            "  inflating: train_beg/Image_221.jpg  \n",
            "  inflating: train_beg/Image_222.jpg  \n",
            "  inflating: train_beg/Image_223.jpg  \n",
            "  inflating: train_beg/Image_224.jpg  \n",
            "  inflating: train_beg/Image_225.jpg  \n",
            "  inflating: train_beg/Image_226.jpg  \n",
            "  inflating: train_beg/Image_227.jpg  \n",
            "  inflating: train_beg/Image_228.jpg  \n",
            "  inflating: train_beg/Image_229.jpg  \n",
            "  inflating: train_beg/Image_23.jpg  \n",
            "  inflating: train_beg/Image_230.jpg  \n",
            "  inflating: train_beg/Image_231.jpg  \n",
            "  inflating: train_beg/Image_232.jpg  \n",
            "  inflating: train_beg/Image_233.jpg  \n",
            "  inflating: train_beg/Image_234.jpg  \n",
            "  inflating: train_beg/Image_235.jpg  \n",
            "  inflating: train_beg/Image_236.jpg  \n",
            "  inflating: train_beg/Image_237.jpg  \n",
            "  inflating: train_beg/Image_238.jpg  \n",
            "  inflating: train_beg/Image_239.jpg  \n",
            "  inflating: train_beg/Image_24.jpg  \n",
            "  inflating: train_beg/Image_240.jpg  \n",
            "  inflating: train_beg/Image_241.jpg  \n",
            "  inflating: train_beg/Image_242.jpg  \n",
            "  inflating: train_beg/Image_243.jpg  \n",
            "  inflating: train_beg/Image_244.jpg  \n",
            "  inflating: train_beg/Image_245.jpg  \n",
            "  inflating: train_beg/Image_246.jpg  \n",
            "  inflating: train_beg/Image_247.jpg  \n",
            "  inflating: train_beg/Image_248.jpg  \n",
            "  inflating: train_beg/Image_249.jpg  \n",
            "  inflating: train_beg/Image_25.jpg  \n",
            "  inflating: train_beg/Image_250.jpg  \n",
            "  inflating: train_beg/Image_251.jpg  \n",
            "  inflating: train_beg/Image_252.jpg  \n",
            "  inflating: train_beg/Image_253.jpg  \n",
            "  inflating: train_beg/Image_254.jpg  \n",
            "  inflating: train_beg/Image_255.jpg  \n",
            "  inflating: train_beg/Image_256.jpg  \n",
            "  inflating: train_beg/Image_257.jpg  \n",
            "  inflating: train_beg/Image_258.jpg  \n",
            "  inflating: train_beg/Image_259.jpg  \n",
            "  inflating: train_beg/Image_26.jpg  \n",
            "  inflating: train_beg/Image_260.jpg  \n",
            "  inflating: train_beg/Image_261.jpg  \n",
            "  inflating: train_beg/Image_262.jpg  \n",
            "  inflating: train_beg/Image_263.jpg  \n",
            "  inflating: train_beg/Image_264.jpg  \n",
            "  inflating: train_beg/Image_265.jpg  \n",
            "  inflating: train_beg/Image_266.jpg  \n",
            "  inflating: train_beg/Image_267.jpg  \n",
            "  inflating: train_beg/Image_268.jpg  \n",
            "  inflating: train_beg/Image_269.jpg  \n",
            "  inflating: train_beg/Image_27.jpg  \n",
            "  inflating: train_beg/Image_270.jpg  \n",
            "  inflating: train_beg/Image_271.jpg  \n",
            "  inflating: train_beg/Image_272.jpg  \n",
            "  inflating: train_beg/Image_273.jpg  \n",
            "  inflating: train_beg/Image_274.jpg  \n",
            "  inflating: train_beg/Image_275.jpg  \n",
            "  inflating: train_beg/Image_276.jpg  \n",
            "  inflating: train_beg/Image_277.jpg  \n",
            "  inflating: train_beg/Image_278.jpg  \n",
            "  inflating: train_beg/Image_279.jpg  \n",
            "  inflating: train_beg/Image_28.jpg  \n",
            "  inflating: train_beg/Image_280.jpg  \n",
            "  inflating: train_beg/Image_281.jpg  \n",
            "  inflating: train_beg/Image_282.jpg  \n",
            "  inflating: train_beg/Image_283.jpg  \n",
            "  inflating: train_beg/Image_284.jpg  \n",
            "  inflating: train_beg/Image_285.jpg  \n",
            "  inflating: train_beg/Image_286.jpg  \n",
            "  inflating: train_beg/Image_287.jpg  \n",
            "  inflating: train_beg/Image_288.jpg  \n",
            "  inflating: train_beg/Image_289.jpg  \n",
            "  inflating: train_beg/Image_29.jpg  \n",
            "  inflating: train_beg/Image_290.jpg  \n",
            "  inflating: train_beg/Image_291.jpg  \n",
            "  inflating: train_beg/Image_292.jpg  \n",
            "  inflating: train_beg/Image_293.jpg  \n",
            "  inflating: train_beg/Image_294.jpg  \n",
            "  inflating: train_beg/Image_295.jpg  \n",
            "  inflating: train_beg/Image_296.jpg  \n",
            "  inflating: train_beg/Image_297.jpg  \n",
            "  inflating: train_beg/Image_298.jpg  \n",
            "  inflating: train_beg/Image_299.jpg  \n",
            "  inflating: train_beg/Image_3.jpg   \n",
            "  inflating: train_beg/Image_30.jpg  \n",
            "  inflating: train_beg/Image_300.jpg  \n",
            "  inflating: train_beg/Image_301.jpg  \n",
            "  inflating: train_beg/Image_302.jpg  \n",
            "  inflating: train_beg/Image_303.jpg  \n",
            "  inflating: train_beg/Image_304.jpg  \n",
            "  inflating: train_beg/Image_305.jpg  \n",
            "  inflating: train_beg/Image_306.jpg  \n",
            "  inflating: train_beg/Image_307.jpg  \n",
            "  inflating: train_beg/Image_308.jpg  \n",
            "  inflating: train_beg/Image_309.jpg  \n",
            "  inflating: train_beg/Image_31.jpg  \n",
            "  inflating: train_beg/Image_310.jpg  \n",
            "  inflating: train_beg/Image_311.jpg  \n",
            "  inflating: train_beg/Image_312.jpg  \n",
            "  inflating: train_beg/Image_313.jpg  \n",
            "  inflating: train_beg/Image_314.jpg  \n",
            "  inflating: train_beg/Image_315.jpg  \n",
            "  inflating: train_beg/Image_316.jpg  \n",
            "  inflating: train_beg/Image_317.jpg  \n",
            "  inflating: train_beg/Image_318.jpg  \n",
            "  inflating: train_beg/Image_319.jpg  \n",
            "  inflating: train_beg/Image_32.jpg  \n",
            "  inflating: train_beg/Image_320.jpg  \n",
            "  inflating: train_beg/Image_321.jpg  \n",
            "  inflating: train_beg/Image_322.jpg  \n",
            "  inflating: train_beg/Image_323.jpg  \n",
            "  inflating: train_beg/Image_324.jpg  \n",
            "  inflating: train_beg/Image_325.jpg  \n",
            "  inflating: train_beg/Image_326.jpg  \n",
            "  inflating: train_beg/Image_327.jpg  \n",
            "  inflating: train_beg/Image_328.jpg  \n",
            "  inflating: train_beg/Image_329.jpg  \n",
            "  inflating: train_beg/Image_33.jpg  \n",
            "  inflating: train_beg/Image_330.jpg  \n",
            "  inflating: train_beg/Image_331.jpg  \n",
            "  inflating: train_beg/Image_332.jpg  \n",
            "  inflating: train_beg/Image_333.jpg  \n",
            "  inflating: train_beg/Image_334.jpg  \n",
            "  inflating: train_beg/Image_335.jpg  \n",
            "  inflating: train_beg/Image_336.jpg  \n",
            "  inflating: train_beg/Image_337.jpg  \n",
            "  inflating: train_beg/Image_338.jpg  \n",
            "  inflating: train_beg/Image_339.jpg  \n",
            "  inflating: train_beg/Image_34.jpg  \n",
            "  inflating: train_beg/Image_340.jpg  \n",
            "  inflating: train_beg/Image_341.jpg  \n",
            "  inflating: train_beg/Image_342.jpg  \n",
            "  inflating: train_beg/Image_343.jpg  \n",
            "  inflating: train_beg/Image_344.jpg  \n",
            "  inflating: train_beg/Image_345.jpg  \n",
            "  inflating: train_beg/Image_346.jpg  \n",
            "  inflating: train_beg/Image_347.jpg  \n",
            "  inflating: train_beg/Image_348.jpg  \n",
            "  inflating: train_beg/Image_349.jpg  \n",
            "  inflating: train_beg/Image_35.jpg  \n",
            "  inflating: train_beg/Image_350.jpg  \n",
            "  inflating: train_beg/Image_351.jpg  \n",
            "  inflating: train_beg/Image_352.jpg  \n",
            "  inflating: train_beg/Image_353.jpg  \n",
            "  inflating: train_beg/Image_354.jpg  \n",
            "  inflating: train_beg/Image_355.jpg  \n",
            "  inflating: train_beg/Image_356.jpg  \n",
            "  inflating: train_beg/Image_357.jpg  \n",
            "  inflating: train_beg/Image_358.jpg  \n",
            "  inflating: train_beg/Image_359.jpg  \n",
            "  inflating: train_beg/Image_36.jpg  \n",
            "  inflating: train_beg/Image_360.jpg  \n",
            "  inflating: train_beg/Image_361.jpg  \n",
            "  inflating: train_beg/Image_362.jpg  \n",
            "  inflating: train_beg/Image_363.jpg  \n",
            "  inflating: train_beg/Image_364.jpg  \n",
            "  inflating: train_beg/Image_365.jpg  \n",
            "  inflating: train_beg/Image_366.jpg  \n",
            "  inflating: train_beg/Image_367.jpg  \n",
            "  inflating: train_beg/Image_368.jpg  \n",
            "  inflating: train_beg/Image_369.jpg  \n",
            "  inflating: train_beg/Image_37.jpg  \n",
            "  inflating: train_beg/Image_370.jpg  \n",
            "  inflating: train_beg/Image_371.jpg  \n",
            "  inflating: train_beg/Image_372.jpg  \n",
            "  inflating: train_beg/Image_373.jpg  \n",
            "  inflating: train_beg/Image_374.jpg  \n",
            "  inflating: train_beg/Image_375.jpg  \n",
            "  inflating: train_beg/Image_376.jpg  \n",
            "  inflating: train_beg/Image_377.jpg  \n",
            "  inflating: train_beg/Image_378.jpg  \n",
            "  inflating: train_beg/Image_379.jpg  \n",
            "  inflating: train_beg/Image_38.jpg  \n",
            "  inflating: train_beg/Image_380.jpg  \n",
            "  inflating: train_beg/Image_381.jpg  \n",
            "  inflating: train_beg/Image_382.jpg  \n",
            "  inflating: train_beg/Image_383.jpg  \n",
            "  inflating: train_beg/Image_384.jpg  \n",
            "  inflating: train_beg/Image_385.jpg  \n",
            "  inflating: train_beg/Image_386.jpg  \n",
            "  inflating: train_beg/Image_387.jpg  \n",
            "  inflating: train_beg/Image_388.jpg  \n",
            "  inflating: train_beg/Image_389.jpg  \n",
            "  inflating: train_beg/Image_39.jpg  \n",
            "  inflating: train_beg/Image_390.jpg  \n",
            "  inflating: train_beg/Image_391.jpg  \n",
            "  inflating: train_beg/Image_392.jpg  \n",
            "  inflating: train_beg/Image_393.jpg  \n",
            "  inflating: train_beg/Image_394.jpg  \n",
            "  inflating: train_beg/Image_395.jpg  \n",
            "  inflating: train_beg/Image_396.jpg  \n",
            "  inflating: train_beg/Image_397.jpg  \n",
            "  inflating: train_beg/Image_398.jpg  \n",
            "  inflating: train_beg/Image_399.jpg  \n",
            "  inflating: train_beg/Image_4.jpg   \n",
            "  inflating: train_beg/Image_40.jpg  \n",
            "  inflating: train_beg/Image_400.jpg  \n",
            "  inflating: train_beg/Image_401.jpg  \n",
            "  inflating: train_beg/Image_402.jpg  \n",
            "  inflating: train_beg/Image_403.jpg  \n",
            "  inflating: train_beg/Image_404.jpg  \n",
            "  inflating: train_beg/Image_405.jpg  \n",
            "  inflating: train_beg/Image_406.jpg  \n",
            "  inflating: train_beg/Image_407.jpg  \n",
            "  inflating: train_beg/Image_408.jpg  \n",
            "  inflating: train_beg/Image_409.jpg  \n",
            "  inflating: train_beg/Image_41.jpg  \n",
            "  inflating: train_beg/Image_410.jpg  \n",
            "  inflating: train_beg/Image_411.jpg  \n",
            "  inflating: train_beg/Image_412.jpg  \n",
            "  inflating: train_beg/Image_413.jpg  \n",
            "  inflating: train_beg/Image_414.jpg  \n",
            "  inflating: train_beg/Image_415.jpg  \n",
            "  inflating: train_beg/Image_416.jpg  \n",
            "  inflating: train_beg/Image_417.jpg  \n",
            "  inflating: train_beg/Image_418.jpg  \n",
            "  inflating: train_beg/Image_419.jpg  \n",
            "  inflating: train_beg/Image_42.jpg  \n",
            "  inflating: train_beg/Image_420.jpg  \n",
            "  inflating: train_beg/Image_421.jpg  \n",
            "  inflating: train_beg/Image_422.jpg  \n",
            "  inflating: train_beg/Image_423.jpg  \n",
            "  inflating: train_beg/Image_424.jpg  \n",
            "  inflating: train_beg/Image_425.jpg  \n",
            "  inflating: train_beg/Image_426.jpg  \n",
            "  inflating: train_beg/Image_427.jpg  \n",
            "  inflating: train_beg/Image_428.jpg  \n",
            "  inflating: train_beg/Image_429.jpg  \n",
            "  inflating: train_beg/Image_43.jpg  \n",
            "  inflating: train_beg/Image_430.jpg  \n",
            "  inflating: train_beg/Image_431.jpg  \n",
            "  inflating: train_beg/Image_432.jpg  \n",
            "  inflating: train_beg/Image_433.jpg  \n",
            "  inflating: train_beg/Image_434.jpg  \n",
            "  inflating: train_beg/Image_435.jpg  \n",
            "  inflating: train_beg/Image_436.jpg  \n",
            "  inflating: train_beg/Image_437.jpg  \n",
            "  inflating: train_beg/Image_438.jpg  \n",
            "  inflating: train_beg/Image_439.jpg  \n",
            "  inflating: train_beg/Image_44.jpg  \n",
            "  inflating: train_beg/Image_440.jpg  \n",
            "  inflating: train_beg/Image_441.jpg  \n",
            "  inflating: train_beg/Image_442.jpg  \n",
            "  inflating: train_beg/Image_443.jpg  \n",
            "  inflating: train_beg/Image_444.jpg  \n",
            "  inflating: train_beg/Image_445.jpg  \n",
            "  inflating: train_beg/Image_446.jpg  \n",
            "  inflating: train_beg/Image_447.jpg  \n",
            "  inflating: train_beg/Image_448.jpg  \n",
            "  inflating: train_beg/Image_449.jpg  \n",
            "  inflating: train_beg/Image_45.jpg  \n",
            "  inflating: train_beg/Image_450.jpg  \n",
            "  inflating: train_beg/Image_451.jpg  \n",
            "  inflating: train_beg/Image_452.jpg  \n",
            "  inflating: train_beg/Image_453.jpg  \n",
            "  inflating: train_beg/Image_454.jpg  \n",
            "  inflating: train_beg/Image_455.jpg  \n",
            "  inflating: train_beg/Image_456.jpg  \n",
            "  inflating: train_beg/Image_457.jpg  \n",
            "  inflating: train_beg/Image_458.jpg  \n",
            "  inflating: train_beg/Image_459.jpg  \n",
            "  inflating: train_beg/Image_46.jpg  \n",
            "  inflating: train_beg/Image_460.jpg  \n",
            "  inflating: train_beg/Image_461.jpg  \n",
            "  inflating: train_beg/Image_462.jpg  \n",
            "  inflating: train_beg/Image_463.jpg  \n",
            "  inflating: train_beg/Image_464.jpg  \n",
            "  inflating: train_beg/Image_465.jpg  \n",
            "  inflating: train_beg/Image_466.jpg  \n",
            "  inflating: train_beg/Image_467.jpg  \n",
            "  inflating: train_beg/Image_468.jpg  \n",
            "  inflating: train_beg/Image_469.jpg  \n",
            "  inflating: train_beg/Image_47.jpg  \n",
            "  inflating: train_beg/Image_470.jpg  \n",
            "  inflating: train_beg/Image_471.jpg  \n",
            "  inflating: train_beg/Image_472.jpg  \n",
            "  inflating: train_beg/Image_473.jpg  \n",
            "  inflating: train_beg/Image_474.jpg  \n",
            "  inflating: train_beg/Image_475.jpg  \n",
            "  inflating: train_beg/Image_476.jpg  \n",
            "  inflating: train_beg/Image_477.jpg  \n",
            "  inflating: train_beg/Image_478.jpg  \n",
            "  inflating: train_beg/Image_479.jpg  \n",
            "  inflating: train_beg/Image_48.jpg  \n",
            "  inflating: train_beg/Image_480.jpg  \n",
            "  inflating: train_beg/Image_481.jpg  \n",
            "  inflating: train_beg/Image_482.jpg  \n",
            "  inflating: train_beg/Image_483.jpg  \n",
            "  inflating: train_beg/Image_484.jpg  \n",
            "  inflating: train_beg/Image_485.jpg  \n",
            "  inflating: train_beg/Image_486.jpg  \n",
            "  inflating: train_beg/Image_487.jpg  \n",
            "  inflating: train_beg/Image_488.jpg  \n",
            "  inflating: train_beg/Image_489.jpg  \n",
            "  inflating: train_beg/Image_49.jpg  \n",
            "  inflating: train_beg/Image_490.jpg  \n",
            "  inflating: train_beg/Image_491.jpg  \n",
            "  inflating: train_beg/Image_492.jpg  \n",
            "  inflating: train_beg/Image_493.jpg  \n",
            "  inflating: train_beg/Image_494.jpg  \n",
            "  inflating: train_beg/Image_495.jpg  \n",
            "  inflating: train_beg/Image_496.jpg  \n",
            "  inflating: train_beg/Image_497.jpg  \n",
            "  inflating: train_beg/Image_498.jpg  \n",
            "  inflating: train_beg/Image_499.jpg  \n",
            "  inflating: train_beg/Image_5.jpg   \n",
            "  inflating: train_beg/Image_50.jpg  \n",
            "  inflating: train_beg/Image_500.jpg  \n",
            "  inflating: train_beg/Image_501.jpg  \n",
            "  inflating: train_beg/Image_502.jpg  \n",
            "  inflating: train_beg/Image_503.jpg  \n",
            "  inflating: train_beg/Image_504.jpg  \n",
            "  inflating: train_beg/Image_505.jpg  \n",
            "  inflating: train_beg/Image_506.jpg  \n",
            "  inflating: train_beg/Image_507.jpg  \n",
            "  inflating: train_beg/Image_508.jpg  \n",
            "  inflating: train_beg/Image_509.jpg  \n",
            "  inflating: train_beg/Image_51.jpg  \n",
            "  inflating: train_beg/Image_510.jpg  \n",
            "  inflating: train_beg/Image_511.jpg  \n",
            "  inflating: train_beg/Image_512.jpg  \n",
            "  inflating: train_beg/Image_513.jpg  \n",
            "  inflating: train_beg/Image_514.jpg  \n",
            "  inflating: train_beg/Image_515.jpg  \n",
            "  inflating: train_beg/Image_516.jpg  \n",
            "  inflating: train_beg/Image_517.jpg  \n",
            "  inflating: train_beg/Image_518.jpg  \n",
            "  inflating: train_beg/Image_519.jpg  \n",
            "  inflating: train_beg/Image_52.jpg  \n",
            "  inflating: train_beg/Image_520.jpg  \n",
            "  inflating: train_beg/Image_521.jpg  \n",
            "  inflating: train_beg/Image_522.jpg  \n",
            "  inflating: train_beg/Image_523.jpg  \n",
            "  inflating: train_beg/Image_524.jpg  \n",
            "  inflating: train_beg/Image_525.jpg  \n",
            "  inflating: train_beg/Image_526.jpg  \n",
            "  inflating: train_beg/Image_527.jpg  \n",
            "  inflating: train_beg/Image_528.jpg  \n",
            "  inflating: train_beg/Image_529.jpg  \n",
            "  inflating: train_beg/Image_53.jpg  \n",
            "  inflating: train_beg/Image_530.jpg  \n",
            "  inflating: train_beg/Image_531.jpg  \n",
            "  inflating: train_beg/Image_532.jpg  \n",
            "  inflating: train_beg/Image_533.jpg  \n",
            "  inflating: train_beg/Image_534.jpg  \n",
            "  inflating: train_beg/Image_535.jpg  \n",
            "  inflating: train_beg/Image_536.jpg  \n",
            "  inflating: train_beg/Image_537.jpg  \n",
            "  inflating: train_beg/Image_538.jpg  \n",
            "  inflating: train_beg/Image_539.jpg  \n",
            "  inflating: train_beg/Image_54.jpg  \n",
            "  inflating: train_beg/Image_540.jpg  \n",
            "  inflating: train_beg/Image_541.jpg  \n",
            "  inflating: train_beg/Image_542.jpg  \n",
            "  inflating: train_beg/Image_543.jpg  \n",
            "  inflating: train_beg/Image_544.jpg  \n",
            "  inflating: train_beg/Image_545.jpg  \n",
            "  inflating: train_beg/Image_546.jpg  \n",
            "  inflating: train_beg/Image_547.jpg  \n",
            "  inflating: train_beg/Image_548.jpg  \n",
            "  inflating: train_beg/Image_549.jpg  \n",
            "  inflating: train_beg/Image_55.jpg  \n",
            "  inflating: train_beg/Image_550.jpg  \n",
            "  inflating: train_beg/Image_551.jpg  \n",
            "  inflating: train_beg/Image_552.jpg  \n",
            "  inflating: train_beg/Image_553.jpg  \n",
            "  inflating: train_beg/Image_554.jpg  \n",
            "  inflating: train_beg/Image_555.jpg  \n",
            "  inflating: train_beg/Image_556.jpg  \n",
            "  inflating: train_beg/Image_557.jpg  \n",
            "  inflating: train_beg/Image_558.jpg  \n",
            "  inflating: train_beg/Image_559.jpg  \n",
            "  inflating: train_beg/Image_56.jpg  \n",
            "  inflating: train_beg/Image_560.jpg  \n",
            "  inflating: train_beg/Image_561.jpg  \n",
            "  inflating: train_beg/Image_562.jpg  \n",
            "  inflating: train_beg/Image_563.jpg  \n",
            "  inflating: train_beg/Image_564.jpg  \n",
            "  inflating: train_beg/Image_565.jpg  \n",
            "  inflating: train_beg/Image_566.jpg  \n",
            "  inflating: train_beg/Image_567.jpg  \n",
            "  inflating: train_beg/Image_568.jpg  \n",
            "  inflating: train_beg/Image_569.jpg  \n",
            "  inflating: train_beg/Image_57.jpg  \n",
            "  inflating: train_beg/Image_570.jpg  \n",
            "  inflating: train_beg/Image_571.jpg  \n",
            "  inflating: train_beg/Image_572.jpg  \n",
            "  inflating: train_beg/Image_573.jpg  \n",
            "  inflating: train_beg/Image_574.jpg  \n",
            "  inflating: train_beg/Image_575.jpg  \n",
            "  inflating: train_beg/Image_576.jpg  \n",
            "  inflating: train_beg/Image_577.jpg  \n",
            "  inflating: train_beg/Image_578.jpg  \n",
            "  inflating: train_beg/Image_579.jpg  \n",
            "  inflating: train_beg/Image_58.jpg  \n",
            "  inflating: train_beg/Image_580.jpg  \n",
            "  inflating: train_beg/Image_581.jpg  \n",
            "  inflating: train_beg/Image_582.jpg  \n",
            "  inflating: train_beg/Image_583.jpg  \n",
            "  inflating: train_beg/Image_584.jpg  \n",
            "  inflating: train_beg/Image_585.jpg  \n",
            "  inflating: train_beg/Image_586.jpg  \n",
            "  inflating: train_beg/Image_587.jpg  \n",
            "  inflating: train_beg/Image_588.jpg  \n",
            "  inflating: train_beg/Image_589.jpg  \n",
            "  inflating: train_beg/Image_59.jpg  \n",
            "  inflating: train_beg/Image_590.jpg  \n",
            "  inflating: train_beg/Image_591.jpg  \n",
            "  inflating: train_beg/Image_592.jpg  \n",
            "  inflating: train_beg/Image_593.jpg  \n",
            "  inflating: train_beg/Image_594.jpg  \n",
            "  inflating: train_beg/Image_595.jpg  \n",
            "  inflating: train_beg/Image_596.jpg  \n",
            "  inflating: train_beg/Image_597.jpg  \n",
            "  inflating: train_beg/Image_598.jpg  \n",
            "  inflating: train_beg/Image_599.jpg  \n",
            "  inflating: train_beg/Image_6.jpg   \n",
            "  inflating: train_beg/Image_60.jpg  \n",
            "  inflating: train_beg/Image_600.jpg  \n",
            "  inflating: train_beg/Image_601.jpg  \n",
            "  inflating: train_beg/Image_602.jpg  \n",
            "  inflating: train_beg/Image_603.jpg  \n",
            "  inflating: train_beg/Image_604.jpg  \n",
            "  inflating: train_beg/Image_605.jpg  \n",
            "  inflating: train_beg/Image_606.jpg  \n",
            "  inflating: train_beg/Image_607.jpg  \n",
            "  inflating: train_beg/Image_608.jpg  \n",
            "  inflating: train_beg/Image_609.jpg  \n",
            "  inflating: train_beg/Image_61.jpg  \n",
            "  inflating: train_beg/Image_610.jpg  \n",
            "  inflating: train_beg/Image_611.jpg  \n",
            "  inflating: train_beg/Image_612.jpg  \n",
            "  inflating: train_beg/Image_613.jpg  \n",
            "  inflating: train_beg/Image_614.jpg  \n",
            "  inflating: train_beg/Image_615.jpg  \n",
            "  inflating: train_beg/Image_616.jpg  \n",
            "  inflating: train_beg/Image_617.jpg  \n",
            "  inflating: train_beg/Image_618.jpg  \n",
            "  inflating: train_beg/Image_619.jpg  \n",
            "  inflating: train_beg/Image_62.jpg  \n",
            "  inflating: train_beg/Image_620.jpg  \n",
            "  inflating: train_beg/Image_621.jpg  \n",
            "  inflating: train_beg/Image_622.jpg  \n",
            "  inflating: train_beg/Image_623.jpg  \n",
            "  inflating: train_beg/Image_624.jpg  \n",
            "  inflating: train_beg/Image_625.jpg  \n",
            "  inflating: train_beg/Image_626.jpg  \n",
            "  inflating: train_beg/Image_627.jpg  \n",
            "  inflating: train_beg/Image_628.jpg  \n",
            "  inflating: train_beg/Image_629.jpg  \n",
            "  inflating: train_beg/Image_63.jpg  \n",
            "  inflating: train_beg/Image_630.jpg  \n",
            "  inflating: train_beg/Image_631.jpg  \n",
            "  inflating: train_beg/Image_632.jpg  \n",
            "  inflating: train_beg/Image_633.jpg  \n",
            "  inflating: train_beg/Image_634.jpg  \n",
            "  inflating: train_beg/Image_635.jpg  \n",
            "  inflating: train_beg/Image_636.jpg  \n",
            "  inflating: train_beg/Image_637.jpg  \n",
            "  inflating: train_beg/Image_638.jpg  \n",
            "  inflating: train_beg/Image_639.jpg  \n",
            "  inflating: train_beg/Image_64.jpg  \n",
            "  inflating: train_beg/Image_640.jpg  \n",
            "  inflating: train_beg/Image_641.jpg  \n",
            "  inflating: train_beg/Image_642.jpg  \n",
            "  inflating: train_beg/Image_643.jpg  \n",
            "  inflating: train_beg/Image_644.jpg  \n",
            "  inflating: train_beg/Image_645.jpg  \n",
            "  inflating: train_beg/Image_646.jpg  \n",
            "  inflating: train_beg/Image_647.jpg  \n",
            "  inflating: train_beg/Image_648.jpg  \n",
            "  inflating: train_beg/Image_649.jpg  \n",
            "  inflating: train_beg/Image_65.jpg  \n",
            "  inflating: train_beg/Image_650.jpg  \n",
            "  inflating: train_beg/Image_651.jpg  \n",
            "  inflating: train_beg/Image_652.jpg  \n",
            "  inflating: train_beg/Image_653.jpg  \n",
            "  inflating: train_beg/Image_654.jpg  \n",
            "  inflating: train_beg/Image_655.jpg  \n",
            "  inflating: train_beg/Image_656.jpg  \n",
            "  inflating: train_beg/Image_657.jpg  \n",
            "  inflating: train_beg/Image_658.jpg  \n",
            "  inflating: train_beg/Image_659.jpg  \n",
            "  inflating: train_beg/Image_66.jpg  \n",
            "  inflating: train_beg/Image_660.jpg  \n",
            "  inflating: train_beg/Image_661.jpg  \n",
            "  inflating: train_beg/Image_662.jpg  \n",
            "  inflating: train_beg/Image_663.jpg  \n",
            "  inflating: train_beg/Image_664.jpg  \n",
            "  inflating: train_beg/Image_665.jpg  \n",
            "  inflating: train_beg/Image_666.jpg  \n",
            "  inflating: train_beg/Image_667.jpg  \n",
            "  inflating: train_beg/Image_668.jpg  \n",
            "  inflating: train_beg/Image_669.jpg  \n",
            "  inflating: train_beg/Image_67.jpg  \n",
            "  inflating: train_beg/Image_670.jpg  \n",
            "  inflating: train_beg/Image_671.jpg  \n",
            "  inflating: train_beg/Image_672.jpg  \n",
            "  inflating: train_beg/Image_673.jpg  \n",
            "  inflating: train_beg/Image_674.jpg  \n",
            "  inflating: train_beg/Image_675.jpg  \n",
            "  inflating: train_beg/Image_676.jpg  \n",
            "  inflating: train_beg/Image_677.jpg  \n",
            "  inflating: train_beg/Image_678.jpg  \n",
            "  inflating: train_beg/Image_679.jpg  \n",
            "  inflating: train_beg/Image_68.jpg  \n",
            "  inflating: train_beg/Image_680.jpg  \n",
            "  inflating: train_beg/Image_681.jpg  \n",
            "  inflating: train_beg/Image_682.jpg  \n",
            "  inflating: train_beg/Image_683.jpg  \n",
            "  inflating: train_beg/Image_684.jpg  \n",
            "  inflating: train_beg/Image_685.jpg  \n",
            "  inflating: train_beg/Image_686.jpg  \n",
            "  inflating: train_beg/Image_687.jpg  \n",
            "  inflating: train_beg/Image_688.jpg  \n",
            "  inflating: train_beg/Image_689.jpg  \n",
            "  inflating: train_beg/Image_69.jpg  \n",
            "  inflating: train_beg/Image_690.jpg  \n",
            "  inflating: train_beg/Image_691.jpg  \n",
            "  inflating: train_beg/Image_692.jpg  \n",
            "  inflating: train_beg/Image_693.jpg  \n",
            "  inflating: train_beg/Image_694.jpg  \n",
            "  inflating: train_beg/Image_695.jpg  \n",
            "  inflating: train_beg/Image_696.jpg  \n",
            "  inflating: train_beg/Image_697.jpg  \n",
            "  inflating: train_beg/Image_698.jpg  \n",
            "  inflating: train_beg/Image_699.jpg  \n",
            "  inflating: train_beg/Image_7.jpg   \n",
            "  inflating: train_beg/Image_70.jpg  \n",
            "  inflating: train_beg/Image_700.jpg  \n",
            "  inflating: train_beg/Image_701.jpg  \n",
            "  inflating: train_beg/Image_702.jpg  \n",
            "  inflating: train_beg/Image_703.jpg  \n",
            "  inflating: train_beg/Image_704.jpg  \n",
            "  inflating: train_beg/Image_705.jpg  \n",
            "  inflating: train_beg/Image_706.jpg  \n",
            "  inflating: train_beg/Image_707.jpg  \n",
            "  inflating: train_beg/Image_708.jpg  \n",
            "  inflating: train_beg/Image_709.jpg  \n",
            "  inflating: train_beg/Image_71.jpg  \n",
            "  inflating: train_beg/Image_710.jpg  \n",
            "  inflating: train_beg/Image_711.jpg  \n",
            "  inflating: train_beg/Image_712.jpg  \n",
            "  inflating: train_beg/Image_713.jpg  \n",
            "  inflating: train_beg/Image_714.jpg  \n",
            "  inflating: train_beg/Image_715.jpg  \n",
            "  inflating: train_beg/Image_716.jpg  \n",
            "  inflating: train_beg/Image_717.jpg  \n",
            "  inflating: train_beg/Image_718.jpg  \n",
            "  inflating: train_beg/Image_719.jpg  \n",
            "  inflating: train_beg/Image_72.jpg  \n",
            "  inflating: train_beg/Image_720.jpg  \n",
            "  inflating: train_beg/Image_721.jpg  \n",
            "  inflating: train_beg/Image_722.jpg  \n",
            "  inflating: train_beg/Image_723.jpg  \n",
            "  inflating: train_beg/Image_724.jpg  \n",
            "  inflating: train_beg/Image_725.jpg  \n",
            "  inflating: train_beg/Image_726.jpg  \n",
            "  inflating: train_beg/Image_727.jpg  \n",
            "  inflating: train_beg/Image_728.jpg  \n",
            "  inflating: train_beg/Image_729.jpg  \n",
            "  inflating: train_beg/Image_73.jpg  \n",
            "  inflating: train_beg/Image_730.jpg  \n",
            "  inflating: train_beg/Image_731.jpg  \n",
            "  inflating: train_beg/Image_732.jpg  \n",
            "  inflating: train_beg/Image_733.jpg  \n",
            "  inflating: train_beg/Image_734.jpg  \n",
            "  inflating: train_beg/Image_735.jpg  \n",
            "  inflating: train_beg/Image_736.jpg  \n",
            "  inflating: train_beg/Image_737.jpg  \n",
            "  inflating: train_beg/Image_738.jpg  \n",
            "  inflating: train_beg/Image_739.jpg  \n",
            "  inflating: train_beg/Image_74.jpg  \n",
            "  inflating: train_beg/Image_740.jpg  \n",
            "  inflating: train_beg/Image_741.jpg  \n",
            "  inflating: train_beg/Image_742.jpg  \n",
            "  inflating: train_beg/Image_743.jpg  \n",
            "  inflating: train_beg/Image_744.jpg  \n",
            "  inflating: train_beg/Image_745.jpg  \n",
            "  inflating: train_beg/Image_746.jpg  \n",
            "  inflating: train_beg/Image_747.jpg  \n",
            "  inflating: train_beg/Image_748.jpg  \n",
            "  inflating: train_beg/Image_749.jpg  \n",
            "  inflating: train_beg/Image_75.jpg  \n",
            "  inflating: train_beg/Image_750.jpg  \n",
            "  inflating: train_beg/Image_751.jpg  \n",
            "  inflating: train_beg/Image_752.jpg  \n",
            "  inflating: train_beg/Image_753.jpg  \n",
            "  inflating: train_beg/Image_754.jpg  \n",
            "  inflating: train_beg/Image_755.jpg  \n",
            "  inflating: train_beg/Image_756.jpg  \n",
            "  inflating: train_beg/Image_757.jpg  \n",
            "  inflating: train_beg/Image_758.jpg  \n",
            "  inflating: train_beg/Image_759.jpg  \n",
            "  inflating: train_beg/Image_76.jpg  \n",
            "  inflating: train_beg/Image_760.jpg  \n",
            "  inflating: train_beg/Image_761.jpg  \n",
            "  inflating: train_beg/Image_762.jpg  \n",
            "  inflating: train_beg/Image_763.jpg  \n",
            "  inflating: train_beg/Image_764.jpg  \n",
            "  inflating: train_beg/Image_765.jpg  \n",
            "  inflating: train_beg/Image_766.jpg  \n",
            "  inflating: train_beg/Image_767.jpg  \n",
            "  inflating: train_beg/Image_768.jpg  \n",
            "  inflating: train_beg/Image_769.jpg  \n",
            "  inflating: train_beg/Image_77.jpg  \n",
            "  inflating: train_beg/Image_770.jpg  \n",
            "  inflating: train_beg/Image_771.jpg  \n",
            "  inflating: train_beg/Image_772.jpg  \n",
            "  inflating: train_beg/Image_773.jpg  \n",
            "  inflating: train_beg/Image_774.jpg  \n",
            "  inflating: train_beg/Image_775.jpg  \n",
            "  inflating: train_beg/Image_776.jpg  \n",
            "  inflating: train_beg/Image_777.jpg  \n",
            "  inflating: train_beg/Image_778.jpg  \n",
            "  inflating: train_beg/Image_779.jpg  \n",
            "  inflating: train_beg/Image_78.jpg  \n",
            "  inflating: train_beg/Image_780.jpg  \n",
            "  inflating: train_beg/Image_781.jpg  \n",
            "  inflating: train_beg/Image_782.jpg  \n",
            "  inflating: train_beg/Image_783.jpg  \n",
            "  inflating: train_beg/Image_784.jpg  \n",
            "  inflating: train_beg/Image_785.jpg  \n",
            "  inflating: train_beg/Image_786.jpg  \n",
            "  inflating: train_beg/Image_787.jpg  \n",
            "  inflating: train_beg/Image_788.jpg  \n",
            "  inflating: train_beg/Image_789.jpg  \n",
            "  inflating: train_beg/Image_79.jpg  \n",
            "  inflating: train_beg/Image_790.jpg  \n",
            "  inflating: train_beg/Image_791.jpg  \n",
            "  inflating: train_beg/Image_792.jpg  \n",
            "  inflating: train_beg/Image_793.jpg  \n",
            "  inflating: train_beg/Image_794.jpg  \n",
            "  inflating: train_beg/Image_795.jpg  \n",
            "  inflating: train_beg/Image_796.jpg  \n",
            "  inflating: train_beg/Image_797.jpg  \n",
            "  inflating: train_beg/Image_798.jpg  \n",
            "  inflating: train_beg/Image_799.jpg  \n",
            "  inflating: train_beg/Image_8.jpg   \n",
            "  inflating: train_beg/Image_80.jpg  \n",
            "  inflating: train_beg/Image_800.jpg  \n",
            "  inflating: train_beg/Image_801.jpg  \n",
            "  inflating: train_beg/Image_802.jpg  \n",
            "  inflating: train_beg/Image_803.jpg  \n",
            "  inflating: train_beg/Image_804.jpg  \n",
            "  inflating: train_beg/Image_805.jpg  \n",
            "  inflating: train_beg/Image_806.jpg  \n",
            "  inflating: train_beg/Image_807.jpg  \n",
            "  inflating: train_beg/Image_808.jpg  \n",
            "  inflating: train_beg/Image_809.jpg  \n",
            "  inflating: train_beg/Image_81.jpg  \n",
            "  inflating: train_beg/Image_810.jpg  \n",
            "  inflating: train_beg/Image_811.jpg  \n",
            "  inflating: train_beg/Image_812.jpg  \n",
            "  inflating: train_beg/Image_813.jpg  \n",
            "  inflating: train_beg/Image_814.jpg  \n",
            "  inflating: train_beg/Image_815.jpg  \n",
            "  inflating: train_beg/Image_816.jpg  \n",
            "  inflating: train_beg/Image_817.jpg  \n",
            "  inflating: train_beg/Image_818.jpg  \n",
            "  inflating: train_beg/Image_819.jpg  \n",
            "  inflating: train_beg/Image_82.jpg  \n",
            "  inflating: train_beg/Image_820.jpg  \n",
            "  inflating: train_beg/Image_821.jpg  \n",
            "  inflating: train_beg/Image_822.jpg  \n",
            "  inflating: train_beg/Image_823.jpg  \n",
            "  inflating: train_beg/Image_824.jpg  \n",
            "  inflating: train_beg/Image_825.jpg  \n",
            "  inflating: train_beg/Image_826.jpg  \n",
            "  inflating: train_beg/Image_827.jpg  \n",
            "  inflating: train_beg/Image_828.jpg  \n",
            "  inflating: train_beg/Image_829.jpg  \n",
            "  inflating: train_beg/Image_83.jpg  \n",
            "  inflating: train_beg/Image_830.jpg  \n",
            "  inflating: train_beg/Image_831.jpg  \n",
            "  inflating: train_beg/Image_832.jpg  \n",
            "  inflating: train_beg/Image_833.jpg  \n",
            "  inflating: train_beg/Image_834.jpg  \n",
            "  inflating: train_beg/Image_835.jpg  \n",
            "  inflating: train_beg/Image_836.jpg  \n",
            "  inflating: train_beg/Image_837.jpg  \n",
            "  inflating: train_beg/Image_838.jpg  \n",
            "  inflating: train_beg/Image_839.jpg  \n",
            "  inflating: train_beg/Image_84.jpg  \n",
            "  inflating: train_beg/Image_840.jpg  \n",
            "  inflating: train_beg/Image_841.jpg  \n",
            "  inflating: train_beg/Image_842.jpg  \n",
            "  inflating: train_beg/Image_843.jpg  \n",
            "  inflating: train_beg/Image_844.jpg  \n",
            "  inflating: train_beg/Image_845.jpg  \n",
            "  inflating: train_beg/Image_846.jpg  \n",
            "  inflating: train_beg/Image_847.jpg  \n",
            "  inflating: train_beg/Image_848.jpg  \n",
            "  inflating: train_beg/Image_849.jpg  \n",
            "  inflating: train_beg/Image_85.jpg  \n",
            "  inflating: train_beg/Image_850.jpg  \n",
            "  inflating: train_beg/Image_851.jpg  \n",
            "  inflating: train_beg/Image_852.jpg  \n",
            "  inflating: train_beg/Image_853.jpg  \n",
            "  inflating: train_beg/Image_854.jpg  \n",
            "  inflating: train_beg/Image_855.jpg  \n",
            "  inflating: train_beg/Image_856.jpg  \n",
            "  inflating: train_beg/Image_857.jpg  \n",
            "  inflating: train_beg/Image_858.jpg  \n",
            "  inflating: train_beg/Image_859.jpg  \n",
            "  inflating: train_beg/Image_86.jpg  \n",
            "  inflating: train_beg/Image_860.jpg  \n",
            "  inflating: train_beg/Image_861.jpg  \n",
            "  inflating: train_beg/Image_862.jpg  \n",
            "  inflating: train_beg/Image_863.jpg  \n",
            "  inflating: train_beg/Image_864.jpg  \n",
            "  inflating: train_beg/Image_865.jpg  \n",
            "  inflating: train_beg/Image_866.jpg  \n",
            "  inflating: train_beg/Image_867.jpg  \n",
            "  inflating: train_beg/Image_868.jpg  \n",
            "  inflating: train_beg/Image_869.jpg  \n",
            "  inflating: train_beg/Image_87.jpg  \n",
            "  inflating: train_beg/Image_870.jpg  \n",
            "  inflating: train_beg/Image_871.jpg  \n",
            "  inflating: train_beg/Image_872.jpg  \n",
            "  inflating: train_beg/Image_873.jpg  \n",
            "  inflating: train_beg/Image_874.jpg  \n",
            "  inflating: train_beg/Image_875.jpg  \n",
            "  inflating: train_beg/Image_876.jpg  \n",
            "  inflating: train_beg/Image_877.jpg  \n",
            "  inflating: train_beg/Image_878.jpg  \n",
            "  inflating: train_beg/Image_879.jpg  \n",
            "  inflating: train_beg/Image_88.jpg  \n",
            "  inflating: train_beg/Image_880.jpg  \n",
            "  inflating: train_beg/Image_881.jpg  \n",
            "  inflating: train_beg/Image_882.jpg  \n",
            "  inflating: train_beg/Image_883.jpg  \n",
            "  inflating: train_beg/Image_884.jpg  \n",
            "  inflating: train_beg/Image_885.jpg  \n",
            "  inflating: train_beg/Image_886.jpg  \n",
            "  inflating: train_beg/Image_887.jpg  \n",
            "  inflating: train_beg/Image_888.jpg  \n",
            "  inflating: train_beg/Image_889.jpg  \n",
            "  inflating: train_beg/Image_89.jpg  \n",
            "  inflating: train_beg/Image_890.jpg  \n",
            "  inflating: train_beg/Image_891.jpg  \n",
            "  inflating: train_beg/Image_892.jpg  \n",
            "  inflating: train_beg/Image_893.jpg  \n",
            "  inflating: train_beg/Image_894.jpg  \n",
            "  inflating: train_beg/Image_895.jpg  \n",
            "  inflating: train_beg/Image_896.jpg  \n",
            "  inflating: train_beg/Image_897.jpg  \n",
            "  inflating: train_beg/Image_898.jpg  \n",
            "  inflating: train_beg/Image_899.jpg  \n",
            "  inflating: train_beg/Image_9.jpg   \n",
            "  inflating: train_beg/Image_90.jpg  \n",
            "  inflating: train_beg/Image_900.jpg  \n",
            "  inflating: train_beg/Image_901.jpg  \n",
            "  inflating: train_beg/Image_902.jpg  \n",
            "  inflating: train_beg/Image_903.jpg  \n",
            "  inflating: train_beg/Image_904.jpg  \n",
            "  inflating: train_beg/Image_905.jpg  \n",
            "  inflating: train_beg/Image_906.jpg  \n",
            "  inflating: train_beg/Image_907.jpg  \n",
            "  inflating: train_beg/Image_908.jpg  \n",
            "  inflating: train_beg/Image_909.jpg  \n",
            "  inflating: train_beg/Image_91.jpg  \n",
            "  inflating: train_beg/Image_910.jpg  \n",
            "  inflating: train_beg/Image_911.jpg  \n",
            "  inflating: train_beg/Image_912.jpg  \n",
            "  inflating: train_beg/Image_913.jpg  \n",
            "  inflating: train_beg/Image_914.jpg  \n",
            "  inflating: train_beg/Image_915.jpg  \n",
            "  inflating: train_beg/Image_916.jpg  \n",
            "  inflating: train_beg/Image_917.jpg  \n",
            "  inflating: train_beg/Image_918.jpg  \n",
            "  inflating: train_beg/Image_919.jpg  \n",
            "  inflating: train_beg/Image_92.jpg  \n",
            "  inflating: train_beg/Image_920.jpg  \n",
            "  inflating: train_beg/Image_921.jpg  \n",
            "  inflating: train_beg/Image_922.jpg  \n",
            "  inflating: train_beg/Image_923.jpg  \n",
            "  inflating: train_beg/Image_924.jpg  \n",
            "  inflating: train_beg/Image_925.jpg  \n",
            "  inflating: train_beg/Image_926.jpg  \n",
            "  inflating: train_beg/Image_927.jpg  \n",
            "  inflating: train_beg/Image_928.jpg  \n",
            "  inflating: train_beg/Image_929.jpg  \n",
            "  inflating: train_beg/Image_93.jpg  \n",
            "  inflating: train_beg/Image_930.jpg  \n",
            "  inflating: train_beg/Image_931.jpg  \n",
            "  inflating: train_beg/Image_932.jpg  \n",
            "  inflating: train_beg/Image_933.jpg  \n",
            "  inflating: train_beg/Image_934.jpg  \n",
            "  inflating: train_beg/Image_935.jpg  \n",
            "  inflating: train_beg/Image_936.jpg  \n",
            "  inflating: train_beg/Image_937.jpg  \n",
            "  inflating: train_beg/Image_938.jpg  \n",
            "  inflating: train_beg/Image_939.jpg  \n",
            "  inflating: train_beg/Image_94.jpg  \n",
            "  inflating: train_beg/Image_940.jpg  \n",
            "  inflating: train_beg/Image_941.jpg  \n",
            "  inflating: train_beg/Image_942.jpg  \n",
            "  inflating: train_beg/Image_943.jpg  \n",
            "  inflating: train_beg/Image_944.jpg  \n",
            "  inflating: train_beg/Image_945.jpg  \n",
            "  inflating: train_beg/Image_946.jpg  \n",
            "  inflating: train_beg/Image_947.jpg  \n",
            "  inflating: train_beg/Image_948.jpg  \n",
            "  inflating: train_beg/Image_949.jpg  \n",
            "  inflating: train_beg/Image_95.jpg  \n",
            "  inflating: train_beg/Image_950.jpg  \n",
            "  inflating: train_beg/Image_951.jpg  \n",
            "  inflating: train_beg/Image_952.jpg  \n",
            "  inflating: train_beg/Image_953.jpg  \n",
            "  inflating: train_beg/Image_954.jpg  \n",
            "  inflating: train_beg/Image_955.jpg  \n",
            "  inflating: train_beg/Image_956.jpg  \n",
            "  inflating: train_beg/Image_957.jpg  \n",
            "  inflating: train_beg/Image_958.jpg  \n",
            "  inflating: train_beg/Image_959.jpg  \n",
            "  inflating: train_beg/Image_96.jpg  \n",
            "  inflating: train_beg/Image_960.jpg  \n",
            "  inflating: train_beg/Image_961.jpg  \n",
            "  inflating: train_beg/Image_962.jpg  \n",
            "  inflating: train_beg/Image_963.jpg  \n",
            "  inflating: train_beg/Image_964.jpg  \n",
            "  inflating: train_beg/Image_965.jpg  \n",
            "  inflating: train_beg/Image_966.jpg  \n",
            "  inflating: train_beg/Image_967.jpg  \n",
            "  inflating: train_beg/Image_968.jpg  \n",
            "  inflating: train_beg/Image_969.jpg  \n",
            "  inflating: train_beg/Image_97.jpg  \n",
            "  inflating: train_beg/Image_970.jpg  \n",
            "  inflating: train_beg/Image_971.jpg  \n",
            "  inflating: train_beg/Image_972.jpg  \n",
            "  inflating: train_beg/Image_973.jpg  \n",
            "  inflating: train_beg/Image_974.jpg  \n",
            "  inflating: train_beg/Image_975.jpg  \n",
            "  inflating: train_beg/Image_976.jpg  \n",
            "  inflating: train_beg/Image_977.jpg  \n",
            "  inflating: train_beg/Image_978.jpg  \n",
            "  inflating: train_beg/Image_979.jpg  \n",
            "  inflating: train_beg/Image_98.jpg  \n",
            "  inflating: train_beg/Image_980.jpg  \n",
            "  inflating: train_beg/Image_981.jpg  \n",
            "  inflating: train_beg/Image_982.jpg  \n",
            "  inflating: train_beg/Image_983.jpg  \n",
            "  inflating: train_beg/Image_984.jpg  \n",
            "  inflating: train_beg/Image_985.jpg  \n",
            "  inflating: train_beg/Image_986.jpg  \n",
            "  inflating: train_beg/Image_987.jpg  \n",
            "  inflating: train_beg/Image_988.jpg  \n",
            "  inflating: train_beg/Image_989.jpg  \n",
            "  inflating: train_beg/Image_99.jpg  \n",
            "  inflating: train_beg/Image_990.jpg  \n",
            "  inflating: train_beg/Image_991.jpg  \n",
            "  inflating: train_beg/Image_992.jpg  \n",
            "  inflating: train_beg/Image_993.jpg  \n",
            "  inflating: train_beg/Image_994.jpg  \n",
            "  inflating: train_beg/Image_995.jpg  \n",
            "  inflating: train_beg/Image_996.jpg  \n",
            "  inflating: train_beg/Image_997.jpg  \n",
            "  inflating: train_beg/Image_998.jpg  \n",
            "  inflating: train_beg/Image_999.jpg  \n",
            "Archive:  /content/Datasets/animal_data/test_beg.zip\n",
            "   creating: test_beg/\n",
            "  inflating: test_beg/Image_1.jpg    \n",
            "  inflating: test_beg/Image_10.jpg   \n",
            "  inflating: test_beg/Image_100.jpg  \n",
            "  inflating: test_beg/Image_101.jpg  \n",
            "  inflating: test_beg/Image_102.jpg  \n",
            "  inflating: test_beg/Image_103.jpg  \n",
            "  inflating: test_beg/Image_104.jpg  \n",
            "  inflating: test_beg/Image_105.jpg  \n",
            "  inflating: test_beg/Image_106.jpg  \n",
            "  inflating: test_beg/Image_107.jpg  \n",
            "  inflating: test_beg/Image_108.jpg  \n",
            "  inflating: test_beg/Image_109.jpg  \n",
            "  inflating: test_beg/Image_11.jpg   \n",
            "  inflating: test_beg/Image_110.jpg  \n",
            "  inflating: test_beg/Image_111.jpg  \n",
            "  inflating: test_beg/Image_112.jpg  \n",
            "  inflating: test_beg/Image_113.jpg  \n",
            "  inflating: test_beg/Image_114.jpg  \n",
            "  inflating: test_beg/Image_115.jpg  \n",
            "  inflating: test_beg/Image_116.jpg  \n",
            "  inflating: test_beg/Image_117.jpg  \n",
            "  inflating: test_beg/Image_118.jpg  \n",
            "  inflating: test_beg/Image_119.jpg  \n",
            "  inflating: test_beg/Image_12.jpg   \n",
            "  inflating: test_beg/Image_120.jpg  \n",
            "  inflating: test_beg/Image_121.jpg  \n",
            "  inflating: test_beg/Image_122.jpg  \n",
            "  inflating: test_beg/Image_123.jpg  \n",
            "  inflating: test_beg/Image_124.jpg  \n",
            "  inflating: test_beg/Image_125.jpg  \n",
            "  inflating: test_beg/Image_126.jpg  \n",
            "  inflating: test_beg/Image_127.jpg  \n",
            "  inflating: test_beg/Image_128.jpg  \n",
            "  inflating: test_beg/Image_129.jpg  \n",
            "  inflating: test_beg/Image_13.jpg   \n",
            "  inflating: test_beg/Image_130.jpg  \n",
            "  inflating: test_beg/Image_131.jpg  \n",
            "  inflating: test_beg/Image_132.jpg  \n",
            "  inflating: test_beg/Image_133.jpg  \n",
            "  inflating: test_beg/Image_134.jpg  \n",
            "  inflating: test_beg/Image_135.jpg  \n",
            "  inflating: test_beg/Image_136.jpg  \n",
            "  inflating: test_beg/Image_137.jpg  \n",
            "  inflating: test_beg/Image_138.jpg  \n",
            "  inflating: test_beg/Image_139.jpg  \n",
            "  inflating: test_beg/Image_14.jpg   \n",
            "  inflating: test_beg/Image_140.jpg  \n",
            "  inflating: test_beg/Image_141.jpg  \n",
            "  inflating: test_beg/Image_142.jpg  \n",
            "  inflating: test_beg/Image_143.jpg  \n",
            "  inflating: test_beg/Image_144.jpg  \n",
            "  inflating: test_beg/Image_145.jpg  \n",
            "  inflating: test_beg/Image_146.jpg  \n",
            "  inflating: test_beg/Image_147.jpg  \n",
            "  inflating: test_beg/Image_148.jpg  \n",
            "  inflating: test_beg/Image_149.jpg  \n",
            "  inflating: test_beg/Image_15.jpg   \n",
            "  inflating: test_beg/Image_150.jpg  \n",
            "  inflating: test_beg/Image_151.jpg  \n",
            "  inflating: test_beg/Image_152.jpg  \n",
            "  inflating: test_beg/Image_153.jpg  \n",
            "  inflating: test_beg/Image_154.jpg  \n",
            "  inflating: test_beg/Image_155.jpg  \n",
            "  inflating: test_beg/Image_156.jpg  \n",
            "  inflating: test_beg/Image_157.jpg  \n",
            "  inflating: test_beg/Image_158.jpg  \n",
            "  inflating: test_beg/Image_159.jpg  \n",
            "  inflating: test_beg/Image_16.jpg   \n",
            "  inflating: test_beg/Image_160.jpg  \n",
            "  inflating: test_beg/Image_161.jpg  \n",
            "  inflating: test_beg/Image_162.jpg  \n",
            "  inflating: test_beg/Image_163.jpg  \n",
            "  inflating: test_beg/Image_164.jpg  \n",
            "  inflating: test_beg/Image_165.jpg  \n",
            "  inflating: test_beg/Image_166.jpg  \n",
            "  inflating: test_beg/Image_167.jpg  \n",
            "  inflating: test_beg/Image_168.jpg  \n",
            "  inflating: test_beg/Image_169.jpg  \n",
            "  inflating: test_beg/Image_17.jpg   \n",
            "  inflating: test_beg/Image_170.jpg  \n",
            "  inflating: test_beg/Image_171.jpg  \n",
            "  inflating: test_beg/Image_172.jpg  \n",
            "  inflating: test_beg/Image_173.jpg  \n",
            "  inflating: test_beg/Image_174.jpg  \n",
            "  inflating: test_beg/Image_175.jpg  \n",
            "  inflating: test_beg/Image_176.jpg  \n",
            "  inflating: test_beg/Image_177.jpg  \n",
            "  inflating: test_beg/Image_178.jpg  \n",
            "  inflating: test_beg/Image_179.jpg  \n",
            "  inflating: test_beg/Image_18.jpg   \n",
            "  inflating: test_beg/Image_180.jpg  \n",
            "  inflating: test_beg/Image_181.jpg  \n",
            "  inflating: test_beg/Image_182.jpg  \n",
            "  inflating: test_beg/Image_183.jpg  \n",
            "  inflating: test_beg/Image_184.jpg  \n",
            "  inflating: test_beg/Image_185.jpg  \n",
            "  inflating: test_beg/Image_186.jpg  \n",
            "  inflating: test_beg/Image_187.jpg  \n",
            "  inflating: test_beg/Image_188.jpg  \n",
            "  inflating: test_beg/Image_189.jpg  \n",
            "  inflating: test_beg/Image_19.jpg   \n",
            "  inflating: test_beg/Image_190.jpg  \n",
            "  inflating: test_beg/Image_191.jpg  \n",
            "  inflating: test_beg/Image_192.jpg  \n",
            "  inflating: test_beg/Image_193.jpg  \n",
            "  inflating: test_beg/Image_194.jpg  \n",
            "  inflating: test_beg/Image_195.jpg  \n",
            "  inflating: test_beg/Image_196.jpg  \n",
            "  inflating: test_beg/Image_197.jpg  \n",
            "  inflating: test_beg/Image_198.jpg  \n",
            "  inflating: test_beg/Image_199.jpg  \n",
            "  inflating: test_beg/Image_2.jpg    \n",
            "  inflating: test_beg/Image_20.jpg   \n",
            "  inflating: test_beg/Image_200.jpg  \n",
            "  inflating: test_beg/Image_201.jpg  \n",
            "  inflating: test_beg/Image_202.jpg  \n",
            "  inflating: test_beg/Image_203.jpg  \n",
            "  inflating: test_beg/Image_204.jpg  \n",
            "  inflating: test_beg/Image_205.jpg  \n",
            "  inflating: test_beg/Image_206.jpg  \n",
            "  inflating: test_beg/Image_207.jpg  \n",
            "  inflating: test_beg/Image_208.jpg  \n",
            "  inflating: test_beg/Image_209.jpg  \n",
            "  inflating: test_beg/Image_21.jpg   \n",
            "  inflating: test_beg/Image_210.jpg  \n",
            "  inflating: test_beg/Image_211.jpg  \n",
            "  inflating: test_beg/Image_212.jpg  \n",
            "  inflating: test_beg/Image_213.jpg  \n",
            "  inflating: test_beg/Image_214.jpg  \n",
            "  inflating: test_beg/Image_215.jpg  \n",
            "  inflating: test_beg/Image_216.jpg  \n",
            "  inflating: test_beg/Image_217.jpg  \n",
            "  inflating: test_beg/Image_218.jpg  \n",
            "  inflating: test_beg/Image_219.jpg  \n",
            "  inflating: test_beg/Image_22.jpg   \n",
            "  inflating: test_beg/Image_220.jpg  \n",
            "  inflating: test_beg/Image_221.jpg  \n",
            "  inflating: test_beg/Image_222.jpg  \n",
            "  inflating: test_beg/Image_223.jpg  \n",
            "  inflating: test_beg/Image_224.jpg  \n",
            "  inflating: test_beg/Image_225.jpg  \n",
            "  inflating: test_beg/Image_226.jpg  \n",
            "  inflating: test_beg/Image_227.jpg  \n",
            "  inflating: test_beg/Image_228.jpg  \n",
            "  inflating: test_beg/Image_229.jpg  \n",
            "  inflating: test_beg/Image_23.jpg   \n",
            "  inflating: test_beg/Image_230.jpg  \n",
            "  inflating: test_beg/Image_231.jpg  \n",
            "  inflating: test_beg/Image_232.jpg  \n",
            "  inflating: test_beg/Image_233.jpg  \n",
            "  inflating: test_beg/Image_234.jpg  \n",
            "  inflating: test_beg/Image_235.jpg  \n",
            "  inflating: test_beg/Image_236.jpg  \n",
            "  inflating: test_beg/Image_237.jpg  \n",
            "  inflating: test_beg/Image_238.jpg  \n",
            "  inflating: test_beg/Image_239.jpg  \n",
            "  inflating: test_beg/Image_24.jpg   \n",
            "  inflating: test_beg/Image_240.jpg  \n",
            "  inflating: test_beg/Image_241.jpg  \n",
            "  inflating: test_beg/Image_242.jpg  \n",
            "  inflating: test_beg/Image_243.jpg  \n",
            "  inflating: test_beg/Image_244.jpg  \n",
            "  inflating: test_beg/Image_245.jpg  \n",
            "  inflating: test_beg/Image_246.jpg  \n",
            "  inflating: test_beg/Image_247.jpg  \n",
            "  inflating: test_beg/Image_248.jpg  \n",
            "  inflating: test_beg/Image_249.jpg  \n",
            "  inflating: test_beg/Image_25.jpg   \n",
            "  inflating: test_beg/Image_250.jpg  \n",
            "  inflating: test_beg/Image_251.jpg  \n",
            "  inflating: test_beg/Image_252.jpg  \n",
            "  inflating: test_beg/Image_253.jpg  \n",
            "  inflating: test_beg/Image_254.jpg  \n",
            "  inflating: test_beg/Image_255.jpg  \n",
            "  inflating: test_beg/Image_256.jpg  \n",
            "  inflating: test_beg/Image_257.jpg  \n",
            "  inflating: test_beg/Image_258.jpg  \n",
            "  inflating: test_beg/Image_259.jpg  \n",
            "  inflating: test_beg/Image_26.jpg   \n",
            "  inflating: test_beg/Image_260.jpg  \n",
            "  inflating: test_beg/Image_261.jpg  \n",
            "  inflating: test_beg/Image_262.jpg  \n",
            "  inflating: test_beg/Image_263.jpg  \n",
            "  inflating: test_beg/Image_264.jpg  \n",
            "  inflating: test_beg/Image_265.jpg  \n",
            "  inflating: test_beg/Image_266.jpg  \n",
            "  inflating: test_beg/Image_267.jpg  \n",
            "  inflating: test_beg/Image_268.jpg  \n",
            "  inflating: test_beg/Image_269.jpg  \n",
            "  inflating: test_beg/Image_27.jpg   \n",
            "  inflating: test_beg/Image_270.jpg  \n",
            "  inflating: test_beg/Image_271.jpg  \n",
            "  inflating: test_beg/Image_272.jpg  \n",
            "  inflating: test_beg/Image_273.jpg  \n",
            "  inflating: test_beg/Image_274.jpg  \n",
            "  inflating: test_beg/Image_275.jpg  \n",
            "  inflating: test_beg/Image_276.jpg  \n",
            "  inflating: test_beg/Image_277.jpg  \n",
            "  inflating: test_beg/Image_278.jpg  \n",
            "  inflating: test_beg/Image_279.jpg  \n",
            "  inflating: test_beg/Image_28.jpg   \n",
            "  inflating: test_beg/Image_280.jpg  \n",
            "  inflating: test_beg/Image_281.jpg  \n",
            "  inflating: test_beg/Image_282.jpg  \n",
            "  inflating: test_beg/Image_283.jpg  \n",
            "  inflating: test_beg/Image_284.jpg  \n",
            "  inflating: test_beg/Image_285.jpg  \n",
            "  inflating: test_beg/Image_286.jpg  \n",
            "  inflating: test_beg/Image_287.jpg  \n",
            "  inflating: test_beg/Image_288.jpg  \n",
            "  inflating: test_beg/Image_289.jpg  \n",
            "  inflating: test_beg/Image_29.jpg   \n",
            "  inflating: test_beg/Image_290.jpg  \n",
            "  inflating: test_beg/Image_291.jpg  \n",
            "  inflating: test_beg/Image_292.jpg  \n",
            "  inflating: test_beg/Image_293.jpg  \n",
            "  inflating: test_beg/Image_294.jpg  \n",
            "  inflating: test_beg/Image_295.jpg  \n",
            "  inflating: test_beg/Image_296.jpg  \n",
            "  inflating: test_beg/Image_297.jpg  \n",
            "  inflating: test_beg/Image_298.jpg  \n",
            "  inflating: test_beg/Image_299.jpg  \n",
            "  inflating: test_beg/Image_3.jpg    \n",
            "  inflating: test_beg/Image_30.jpg   \n",
            "  inflating: test_beg/Image_300.jpg  \n",
            "  inflating: test_beg/Image_301.jpg  \n",
            "  inflating: test_beg/Image_302.jpg  \n",
            "  inflating: test_beg/Image_303.jpg  \n",
            "  inflating: test_beg/Image_304.jpg  \n",
            "  inflating: test_beg/Image_305.jpg  \n",
            "  inflating: test_beg/Image_306.jpg  \n",
            "  inflating: test_beg/Image_307.jpg  \n",
            "  inflating: test_beg/Image_308.jpg  \n",
            "  inflating: test_beg/Image_309.jpg  \n",
            "  inflating: test_beg/Image_31.jpg   \n",
            "  inflating: test_beg/Image_310.jpg  \n",
            "  inflating: test_beg/Image_311.jpg  \n",
            "  inflating: test_beg/Image_312.jpg  \n",
            "  inflating: test_beg/Image_313.jpg  \n",
            "  inflating: test_beg/Image_314.jpg  \n",
            "  inflating: test_beg/Image_315.jpg  \n",
            "  inflating: test_beg/Image_316.jpg  \n",
            "  inflating: test_beg/Image_317.jpg  \n",
            "  inflating: test_beg/Image_318.jpg  \n",
            "  inflating: test_beg/Image_319.jpg  \n",
            "  inflating: test_beg/Image_32.jpg   \n",
            "  inflating: test_beg/Image_320.jpg  \n",
            "  inflating: test_beg/Image_321.jpg  \n",
            "  inflating: test_beg/Image_322.jpg  \n",
            "  inflating: test_beg/Image_323.jpg  \n",
            "  inflating: test_beg/Image_324.jpg  \n",
            "  inflating: test_beg/Image_325.jpg  \n",
            "  inflating: test_beg/Image_326.jpg  \n",
            "  inflating: test_beg/Image_327.jpg  \n",
            "  inflating: test_beg/Image_328.jpg  \n",
            "  inflating: test_beg/Image_329.jpg  \n",
            "  inflating: test_beg/Image_33.jpg   \n",
            "  inflating: test_beg/Image_330.jpg  \n",
            "  inflating: test_beg/Image_331.jpg  \n",
            "  inflating: test_beg/Image_332.jpg  \n",
            "  inflating: test_beg/Image_333.jpg  \n",
            "  inflating: test_beg/Image_334.jpg  \n",
            "  inflating: test_beg/Image_335.jpg  \n",
            "  inflating: test_beg/Image_336.jpg  \n",
            "  inflating: test_beg/Image_337.jpg  \n",
            "  inflating: test_beg/Image_338.jpg  \n",
            "  inflating: test_beg/Image_339.jpg  \n",
            "  inflating: test_beg/Image_34.jpg   \n",
            "  inflating: test_beg/Image_340.jpg  \n",
            "  inflating: test_beg/Image_341.jpg  \n",
            "  inflating: test_beg/Image_342.jpg  \n",
            "  inflating: test_beg/Image_343.jpg  \n",
            "  inflating: test_beg/Image_344.jpg  \n",
            "  inflating: test_beg/Image_345.jpg  \n",
            "  inflating: test_beg/Image_346.jpg  \n",
            "  inflating: test_beg/Image_347.jpg  \n",
            "  inflating: test_beg/Image_348.jpg  \n",
            "  inflating: test_beg/Image_349.jpg  \n",
            "  inflating: test_beg/Image_35.jpg   \n",
            "  inflating: test_beg/Image_350.jpg  \n",
            "  inflating: test_beg/Image_351.jpg  \n",
            "  inflating: test_beg/Image_352.jpg  \n",
            "  inflating: test_beg/Image_353.jpg  \n",
            "  inflating: test_beg/Image_354.jpg  \n",
            "  inflating: test_beg/Image_355.jpg  \n",
            "  inflating: test_beg/Image_356.jpg  \n",
            "  inflating: test_beg/Image_357.jpg  \n",
            "  inflating: test_beg/Image_358.jpg  \n",
            "  inflating: test_beg/Image_359.jpg  \n",
            "  inflating: test_beg/Image_36.jpg   \n",
            "  inflating: test_beg/Image_360.jpg  \n",
            "  inflating: test_beg/Image_361.jpg  \n",
            "  inflating: test_beg/Image_362.jpg  \n",
            "  inflating: test_beg/Image_363.jpg  \n",
            "  inflating: test_beg/Image_364.jpg  \n",
            "  inflating: test_beg/Image_365.jpg  \n",
            "  inflating: test_beg/Image_366.jpg  \n",
            "  inflating: test_beg/Image_367.jpg  \n",
            "  inflating: test_beg/Image_368.jpg  \n",
            "  inflating: test_beg/Image_369.jpg  \n",
            "  inflating: test_beg/Image_37.jpg   \n",
            "  inflating: test_beg/Image_370.jpg  \n",
            "  inflating: test_beg/Image_371.jpg  \n",
            "  inflating: test_beg/Image_372.jpg  \n",
            "  inflating: test_beg/Image_373.jpg  \n",
            "  inflating: test_beg/Image_374.jpg  \n",
            "  inflating: test_beg/Image_375.jpg  \n",
            "  inflating: test_beg/Image_376.jpg  \n",
            "  inflating: test_beg/Image_377.jpg  \n",
            "  inflating: test_beg/Image_378.jpg  \n",
            "  inflating: test_beg/Image_379.jpg  \n",
            "  inflating: test_beg/Image_38.jpg   \n",
            "  inflating: test_beg/Image_380.jpg  \n",
            "  inflating: test_beg/Image_381.jpg  \n",
            "  inflating: test_beg/Image_382.jpg  \n",
            "  inflating: test_beg/Image_383.jpg  \n",
            "  inflating: test_beg/Image_384.jpg  \n",
            "  inflating: test_beg/Image_385.jpg  \n",
            "  inflating: test_beg/Image_386.jpg  \n",
            "  inflating: test_beg/Image_387.jpg  \n",
            "  inflating: test_beg/Image_388.jpg  \n",
            "  inflating: test_beg/Image_389.jpg  \n",
            "  inflating: test_beg/Image_39.jpg   \n",
            "  inflating: test_beg/Image_390.jpg  \n",
            "  inflating: test_beg/Image_391.jpg  \n",
            "  inflating: test_beg/Image_392.jpg  \n",
            "  inflating: test_beg/Image_393.jpg  \n",
            "  inflating: test_beg/Image_394.jpg  \n",
            "  inflating: test_beg/Image_395.jpg  \n",
            "  inflating: test_beg/Image_396.jpg  \n",
            "  inflating: test_beg/Image_397.jpg  \n",
            "  inflating: test_beg/Image_398.jpg  \n",
            "  inflating: test_beg/Image_399.jpg  \n",
            "  inflating: test_beg/Image_4.jpg    \n",
            "  inflating: test_beg/Image_40.jpg   \n",
            "  inflating: test_beg/Image_400.jpg  \n",
            "  inflating: test_beg/Image_41.jpg   \n",
            "  inflating: test_beg/Image_42.jpg   \n",
            "  inflating: test_beg/Image_43.jpg   \n",
            "  inflating: test_beg/Image_44.jpg   \n",
            "  inflating: test_beg/Image_45.jpg   \n",
            "  inflating: test_beg/Image_46.jpg   \n",
            "  inflating: test_beg/Image_47.jpg   \n",
            "  inflating: test_beg/Image_48.jpg   \n",
            "  inflating: test_beg/Image_49.jpg   \n",
            "  inflating: test_beg/Image_5.jpg    \n",
            "  inflating: test_beg/Image_50.jpg   \n",
            "  inflating: test_beg/Image_51.jpg   \n",
            "  inflating: test_beg/Image_52.jpg   \n",
            "  inflating: test_beg/Image_53.jpg   \n",
            "  inflating: test_beg/Image_54.jpg   \n",
            "  inflating: test_beg/Image_55.jpg   \n",
            "  inflating: test_beg/Image_56.jpg   \n",
            "  inflating: test_beg/Image_57.jpg   \n",
            "  inflating: test_beg/Image_58.jpg   \n",
            "  inflating: test_beg/Image_59.jpg   \n",
            "  inflating: test_beg/Image_6.jpg    \n",
            "  inflating: test_beg/Image_60.jpg   \n",
            "  inflating: test_beg/Image_61.jpg   \n",
            "  inflating: test_beg/Image_62.jpg   \n",
            "  inflating: test_beg/Image_63.jpg   \n",
            "  inflating: test_beg/Image_64.jpg   \n",
            "  inflating: test_beg/Image_65.jpg   \n",
            "  inflating: test_beg/Image_66.jpg   \n",
            "  inflating: test_beg/Image_67.jpg   \n",
            "  inflating: test_beg/Image_68.jpg   \n",
            "  inflating: test_beg/Image_69.jpg   \n",
            "  inflating: test_beg/Image_7.jpg    \n",
            "  inflating: test_beg/Image_70.jpg   \n",
            "  inflating: test_beg/Image_71.jpg   \n",
            "  inflating: test_beg/Image_72.jpg   \n",
            "  inflating: test_beg/Image_73.jpg   \n",
            "  inflating: test_beg/Image_74.jpg   \n",
            "  inflating: test_beg/Image_75.jpg   \n",
            "  inflating: test_beg/Image_76.jpg   \n",
            "  inflating: test_beg/Image_77.jpg   \n",
            "  inflating: test_beg/Image_78.jpg   \n",
            "  inflating: test_beg/Image_79.jpg   \n",
            "  inflating: test_beg/Image_8.jpg    \n",
            "  inflating: test_beg/Image_80.jpg   \n",
            "  inflating: test_beg/Image_81.jpg   \n",
            "  inflating: test_beg/Image_82.jpg   \n",
            "  inflating: test_beg/Image_83.jpg   \n",
            "  inflating: test_beg/Image_84.jpg   \n",
            "  inflating: test_beg/Image_85.jpg   \n",
            "  inflating: test_beg/Image_86.jpg   \n",
            "  inflating: test_beg/Image_87.jpg   \n",
            "  inflating: test_beg/Image_88.jpg   \n",
            "  inflating: test_beg/Image_89.jpg   \n",
            "  inflating: test_beg/Image_9.jpg    \n",
            "  inflating: test_beg/Image_90.jpg   \n",
            "  inflating: test_beg/Image_91.jpg   \n",
            "  inflating: test_beg/Image_92.jpg   \n",
            "  inflating: test_beg/Image_93.jpg   \n",
            "  inflating: test_beg/Image_94.jpg   \n",
            "  inflating: test_beg/Image_95.jpg   \n",
            "  inflating: test_beg/Image_96.jpg   \n",
            "  inflating: test_beg/Image_97.jpg   \n",
            "  inflating: test_beg/Image_98.jpg   \n",
            "  inflating: test_beg/Image_99.jpg   \n"
          ],
          "name": "stdout"
        }
      ]
    },
    {
      "cell_type": "markdown",
      "metadata": {
        "id": "4966VaRoKuzp",
        "colab_type": "text"
      },
      "source": [
        "After the above cell execution is completed, two folders will appear as shown in the below image\n",
        "\n",
        "![image3](https://github.com/dphi-official/Deep_Learning_Bootcamp/blob/master/Assignment_2/beg_ass_2_gsc_2.jpg?raw=true)"
      ]
    },
    {
      "cell_type": "markdown",
      "metadata": {
        "id": "xgxihnh0LCHQ",
        "colab_type": "text"
      },
      "source": [
        "**Now we are all set to start the working on the dataset!!!**\n"
      ]
    },
    {
      "cell_type": "markdown",
      "metadata": {
        "id": "kJnmEJt9EY-2",
        "colab_type": "text"
      },
      "source": [
        "## Loading Libraries\n",
        "Let's import the required libraries. Not importing all the libraries in one go instead we will be importing whenever we require one."
      ]
    },
    {
      "cell_type": "code",
      "metadata": {
        "id": "Xb2W2sgLBim4",
        "colab_type": "code",
        "colab": {}
      },
      "source": [
        "# import the basic libraries\n",
        "import pandas as pd\n",
        "import numpy as np"
      ],
      "execution_count": 3,
      "outputs": []
    },
    {
      "cell_type": "markdown",
      "metadata": {
        "id": "Fv0LmgNbEwR0",
        "colab_type": "text"
      },
      "source": [
        "## Loading the Data\n",
        "We are given training data in two different files/folders:\n",
        "\n",
        "1. **train_beg** folder contains all the images to be used for training the model. This can be found under the files section of Colab. \n",
        "2. Training_set_animals.csv - contains all the image ids from train_beg folder with their respective labels. This can be found in the \"**files --> Datasets --> animal_data --> Training_set_animals.csv**\""
      ]
    },
    {
      "cell_type": "code",
      "metadata": {
        "id": "wnUBZ_ZOEvOa",
        "colab_type": "code",
        "colab": {
          "base_uri": "https://localhost:8080/",
          "height": 197
        },
        "outputId": "0d8aa48c-5372-481e-b9cc-19e09049a19d"
      },
      "source": [
        "# Loading training csv file\n",
        "train_labels = pd.read_csv(\"/content/Datasets/animal_data/Training_set_animals.csv\")\n",
        "train_labels.head()    # display first five rows from train_labels dataframe"
      ],
      "execution_count": 4,
      "outputs": [
        {
          "output_type": "execute_result",
          "data": {
            "text/html": [
              "<div>\n",
              "<style scoped>\n",
              "    .dataframe tbody tr th:only-of-type {\n",
              "        vertical-align: middle;\n",
              "    }\n",
              "\n",
              "    .dataframe tbody tr th {\n",
              "        vertical-align: top;\n",
              "    }\n",
              "\n",
              "    .dataframe thead th {\n",
              "        text-align: right;\n",
              "    }\n",
              "</style>\n",
              "<table border=\"1\" class=\"dataframe\">\n",
              "  <thead>\n",
              "    <tr style=\"text-align: right;\">\n",
              "      <th></th>\n",
              "      <th>filename</th>\n",
              "      <th>animal_type</th>\n",
              "    </tr>\n",
              "  </thead>\n",
              "  <tbody>\n",
              "    <tr>\n",
              "      <th>0</th>\n",
              "      <td>Image_1.jpg</td>\n",
              "      <td>mucca</td>\n",
              "    </tr>\n",
              "    <tr>\n",
              "      <th>1</th>\n",
              "      <td>Image_2.jpg</td>\n",
              "      <td>mucca</td>\n",
              "    </tr>\n",
              "    <tr>\n",
              "      <th>2</th>\n",
              "      <td>Image_3.jpg</td>\n",
              "      <td>mucca</td>\n",
              "    </tr>\n",
              "    <tr>\n",
              "      <th>3</th>\n",
              "      <td>Image_4.jpg</td>\n",
              "      <td>mucca</td>\n",
              "    </tr>\n",
              "    <tr>\n",
              "      <th>4</th>\n",
              "      <td>Image_5.jpg</td>\n",
              "      <td>mucca</td>\n",
              "    </tr>\n",
              "  </tbody>\n",
              "</table>\n",
              "</div>"
            ],
            "text/plain": [
              "      filename animal_type\n",
              "0  Image_1.jpg       mucca\n",
              "1  Image_2.jpg       mucca\n",
              "2  Image_3.jpg       mucca\n",
              "3  Image_4.jpg       mucca\n",
              "4  Image_5.jpg       mucca"
            ]
          },
          "metadata": {
            "tags": []
          },
          "execution_count": 4
        }
      ]
    },
    {
      "cell_type": "markdown",
      "metadata": {
        "id": "NuEFR_ReMGq_",
        "colab_type": "text"
      },
      "source": [
        "We can see above the image id with their corresponding labels"
      ]
    },
    {
      "cell_type": "markdown",
      "metadata": {
        "id": "GiMmQ9LQMXuH",
        "colab_type": "text"
      },
      "source": [
        "Let's get all the training images paths because all we have is the image paths where the image is located. We will also need to get all the image ids (i.e. the image filename) for example, Image_1.jpg"
      ]
    },
    {
      "cell_type": "code",
      "metadata": {
        "id": "ZVK_g3iGME7B",
        "colab_type": "code",
        "colab": {
          "base_uri": "https://localhost:8080/",
          "height": 71
        },
        "outputId": "c06f1003-8e83-4789-eff9-9575730cdf7d"
      },
      "source": [
        "image_paths = ['/content/train_beg/' + fname for fname in train_labels['filename']]\n",
        "image_paths    # will get list of list of image id and image path\n",
        "\n",
        "\"\"\"\n",
        "The reason behind using the filename from train_labels is that \n",
        "- it will help you to get all the images whose labels we already have in train_labels.\n",
        "- It will also help to maintain the order of the images. If you notice the images ids in train_labels, they are\n",
        "in some specific order, this will help you load all the images location in the list in the same order.\n",
        "\"\"\""
      ],
      "execution_count": 5,
      "outputs": [
        {
          "output_type": "execute_result",
          "data": {
            "application/vnd.google.colaboratory.intrinsic+json": {
              "type": "string"
            },
            "text/plain": [
              "'\\nThe reason behind using the filename from train_labels is that \\n- it will help you to get all the images whose labels we already have in train_labels.\\n- It will also help to maintain the order of the images. If you notice the images ids in train_labels, they are\\nin some specific order, this will help you load all the images location in the list in the same order.\\n'"
            ]
          },
          "metadata": {
            "tags": []
          },
          "execution_count": 5
        }
      ]
    },
    {
      "cell_type": "markdown",
      "metadata": {
        "id": "k9GZOmWjNaFO",
        "colab_type": "text"
      },
      "source": [
        "We have all the labels for the images in 'train_labels' and all the filepaths in 'image_paths'. So let's check if the number of labels we have is same as the number of images. The below code will help you to check this."
      ]
    },
    {
      "cell_type": "code",
      "metadata": {
        "id": "Tl3mPI1xNJ0b",
        "colab_type": "code",
        "colab": {
          "base_uri": "https://localhost:8080/",
          "height": 34
        },
        "outputId": "1924a5ce-5611-4c99-97b5-b4c773026c2c"
      },
      "source": [
        "# Confirm if number of filepaths (i.e. images) is same as number of labels given\n",
        "if len(train_labels) == len(image_paths):\n",
        "    print('Number of labels i.e. ', len(train_labels), 'matches the number of filepaths i.e. ', len(image_paths))\n",
        "else:\n",
        "    print('Number of labels does not match the number of filepaths')"
      ],
      "execution_count": 6,
      "outputs": [
        {
          "output_type": "stream",
          "text": [
            "Number of labels i.e.  1200 matches the number of filepaths i.e.  1200\n"
          ],
          "name": "stdout"
        }
      ]
    },
    {
      "cell_type": "markdown",
      "metadata": {
        "id": "84OvgAztNzv3",
        "colab_type": "text"
      },
      "source": [
        "They are same"
      ]
    },
    {
      "cell_type": "markdown",
      "metadata": {
        "id": "lz3SMW3TPKdE",
        "colab_type": "text"
      },
      "source": [
        "Now let's map all the image paths to their respective ids and labels in dataframe. **This is not mandatory to do, but just helps us to visualize if everything are in the same order or not.**"
      ]
    },
    {
      "cell_type": "code",
      "metadata": {
        "id": "B6_xnkXdNy1r",
        "colab_type": "code",
        "colab": {
          "base_uri": "https://localhost:8080/",
          "height": 197
        },
        "outputId": "53471dcb-7e36-4340-d079-d915d6ebb4fd"
      },
      "source": [
        "train_data = pd.DataFrame({'filename': train_labels['filename'], 'filepath': image_paths, 'animal_type': train_labels['animal_type']})\n",
        "train_data.head()"
      ],
      "execution_count": 7,
      "outputs": [
        {
          "output_type": "execute_result",
          "data": {
            "text/html": [
              "<div>\n",
              "<style scoped>\n",
              "    .dataframe tbody tr th:only-of-type {\n",
              "        vertical-align: middle;\n",
              "    }\n",
              "\n",
              "    .dataframe tbody tr th {\n",
              "        vertical-align: top;\n",
              "    }\n",
              "\n",
              "    .dataframe thead th {\n",
              "        text-align: right;\n",
              "    }\n",
              "</style>\n",
              "<table border=\"1\" class=\"dataframe\">\n",
              "  <thead>\n",
              "    <tr style=\"text-align: right;\">\n",
              "      <th></th>\n",
              "      <th>filename</th>\n",
              "      <th>filepath</th>\n",
              "      <th>animal_type</th>\n",
              "    </tr>\n",
              "  </thead>\n",
              "  <tbody>\n",
              "    <tr>\n",
              "      <th>0</th>\n",
              "      <td>Image_1.jpg</td>\n",
              "      <td>/content/train_beg/Image_1.jpg</td>\n",
              "      <td>mucca</td>\n",
              "    </tr>\n",
              "    <tr>\n",
              "      <th>1</th>\n",
              "      <td>Image_2.jpg</td>\n",
              "      <td>/content/train_beg/Image_2.jpg</td>\n",
              "      <td>mucca</td>\n",
              "    </tr>\n",
              "    <tr>\n",
              "      <th>2</th>\n",
              "      <td>Image_3.jpg</td>\n",
              "      <td>/content/train_beg/Image_3.jpg</td>\n",
              "      <td>mucca</td>\n",
              "    </tr>\n",
              "    <tr>\n",
              "      <th>3</th>\n",
              "      <td>Image_4.jpg</td>\n",
              "      <td>/content/train_beg/Image_4.jpg</td>\n",
              "      <td>mucca</td>\n",
              "    </tr>\n",
              "    <tr>\n",
              "      <th>4</th>\n",
              "      <td>Image_5.jpg</td>\n",
              "      <td>/content/train_beg/Image_5.jpg</td>\n",
              "      <td>mucca</td>\n",
              "    </tr>\n",
              "  </tbody>\n",
              "</table>\n",
              "</div>"
            ],
            "text/plain": [
              "      filename                        filepath animal_type\n",
              "0  Image_1.jpg  /content/train_beg/Image_1.jpg       mucca\n",
              "1  Image_2.jpg  /content/train_beg/Image_2.jpg       mucca\n",
              "2  Image_3.jpg  /content/train_beg/Image_3.jpg       mucca\n",
              "3  Image_4.jpg  /content/train_beg/Image_4.jpg       mucca\n",
              "4  Image_5.jpg  /content/train_beg/Image_5.jpg       mucca"
            ]
          },
          "metadata": {
            "tags": []
          },
          "execution_count": 7
        }
      ]
    },
    {
      "cell_type": "markdown",
      "metadata": {
        "id": "g1Ue369CQFaj",
        "colab_type": "text"
      },
      "source": [
        "We can notice above that the filename: 'Image_1.jpg' is present in the respective filepath: '/content/train_beg/Image_1.jpg'. This indicates all are in the same order. You can also try and check for other images randomly if filepath and filname are correct or not."
      ]
    },
    {
      "cell_type": "code",
      "metadata": {
        "id": "kiRlFyinQBVq",
        "colab_type": "code",
        "colab": {
          "base_uri": "https://localhost:8080/",
          "height": 87
        },
        "outputId": "26ad2297-5588-4348-b8ce-b55cb926777e"
      },
      "source": [
        "print(train_data.iloc[578])"
      ],
      "execution_count": 8,
      "outputs": [
        {
          "output_type": "stream",
          "text": [
            "filename                          Image_579.jpg\n",
            "filepath       /content/train_beg/Image_579.jpg\n",
            "animal_type                               mucca\n",
            "Name: 578, dtype: object\n"
          ],
          "name": "stdout"
        }
      ]
    },
    {
      "cell_type": "markdown",
      "metadata": {
        "id": "X2oplhfSQ1yb",
        "colab_type": "text"
      },
      "source": [
        "### Display an Image"
      ]
    },
    {
      "cell_type": "code",
      "metadata": {
        "id": "dLK7Pt1oQnZz",
        "colab_type": "code",
        "colab": {
          "base_uri": "https://localhost:8080/",
          "height": 217
        },
        "outputId": "6def21eb-c155-4094-f7ca-244d2ff64a10"
      },
      "source": [
        "# to display the image"
      ],
      "execution_count": null,
      "outputs": [
        {
          "output_type": "execute_result",
          "data": {
            "image/jpeg": "[encoded data removed]",
            "text/plain": [
              "<IPython.core.display.Image object>"
            ]
          },
          "metadata": {
            "tags": []
          },
          "execution_count": 11
        }
      ]
    },
    {
      "cell_type": "code",
      "metadata": {
        "id": "grSIz9vTRWfk",
        "colab_type": "code",
        "colab": {
          "base_uri": "https://localhost:8080/",
          "height": 34
        },
        "outputId": "61ac0e98-2803-49bf-e484-8cc2db8e9c4d"
      },
      "source": [
        "# anymal_type of above image\n",
        "# write a Python script here that would return you the animal_type of above image"
      ],
      "execution_count": null,
      "outputs": [
        {
          "output_type": "stream",
          "text": [
            "mucca\n"
          ],
          "name": "stdout"
        }
      ]
    },
    {
      "cell_type": "markdown",
      "metadata": {
        "id": "14ZHWitJRtyE",
        "colab_type": "text"
      },
      "source": [
        "And it's correct"
      ]
    },
    {
      "cell_type": "markdown",
      "metadata": {
        "id": "qlEgjCRhR0Qm",
        "colab_type": "text"
      },
      "source": [
        "Well we are set, but there is a trick, Machine/Deep Learning models doesn't accept images, they accepts only numbers. We need to convert these images to their pixel values so that we can apply ML/DL Models. We can achieve this using cv2 (OpenCV) library. "
      ]
    },
    {
      "cell_type": "markdown",
      "metadata": {
        "id": "aXJ14HLZSdpe",
        "colab_type": "text"
      },
      "source": [
        "## Loading Image's Pixel Values\n",
        "OpenCV's imread method helps in reading an image and getting its pixel values. You just need to provide the path of each image inside imread().\n",
        "\n",
        "Finally, store the image as well as its label inside data."
      ]
    },
    {
      "cell_type": "code",
      "metadata": {
        "id": "DC2_gESPS669",
        "colab_type": "code",
        "colab": {}
      },
      "source": [
        "# import cv2 library\n",
        "import cv2"
      ],
      "execution_count": 8,
      "outputs": []
    },
    {
      "cell_type": "code",
      "metadata": {
        "id": "ZfOXHDSgRsKT",
        "colab_type": "code",
        "colab": {}
      },
      "source": [
        "data = []    # initialize a list to store, each image's pixel values \n",
        "labels = []   # initialize a list to store each image's labels i.e. animal type\n",
        "for i in range(len(train_data)):\n",
        "  image_arr = cv2.imread(train_data['filepath'][i])     # for each i starting from 0, convert the ith image to array of pixels\n",
        "  data.append(image_arr)\n",
        "  # We also need to convert the categorical values i.e. 'mucca' and 'pecora' to numerical\n",
        "  # Using conditional statement, we can do it here only. if mucca then 0, if pecora then 1\n",
        "  if train_data['animal_type'][i] == 'mucca':           # if respective image's label is mucca\n",
        "    labels.append(0)\n",
        "  else:               # since there are only two type of animals, if the animal is not mucca, it will be pecora\n",
        "    labels.append(1)      # This indexing needs to be remembered 'mucca' = 0 and 'pecora' = 1, this will be required when you convert your predictions on test data to categorical value again\n"
      ],
      "execution_count": 9,
      "outputs": []
    },
    {
      "cell_type": "code",
      "metadata": {
        "id": "GKADGWf7UvEZ",
        "colab_type": "code",
        "colab": {}
      },
      "source": [
        "# data and labels are in normal python list, you must convert it to numpy array. You can do it using a single command!\n",
        "data_arr = np.array(data)\n",
        "labels_arr = np.array(labels)"
      ],
      "execution_count": 10,
      "outputs": []
    },
    {
      "cell_type": "markdown",
      "metadata": {
        "id": "neLNADnJU-tl",
        "colab_type": "text"
      },
      "source": [
        "### Display image using pixel values\n",
        "Using imshow from mtaplotlib.pyplot you can display an image using those pixel values"
      ]
    },
    {
      "cell_type": "code",
      "metadata": {
        "id": "LNdrkPpXVJAu",
        "colab_type": "code",
        "colab": {
          "base_uri": "https://localhost:8080/",
          "height": 216
        },
        "outputId": "3e0a166f-3d00-4e3b-f1bf-3213ac229889"
      },
      "source": [
        "# For Colab users\n",
        "from google.colab.patches import cv2_imshow\n",
        "cv2_imshow(data_arr[9])\n",
        "\n",
        "# waiting for key event\n",
        "cv2.waitKey(0)\n",
        "\n",
        "# destroying all windows\n",
        "cv2.destroyAllWindows()"
      ],
      "execution_count": 11,
      "outputs": [
        {
          "output_type": "display_data",
          "data": {
            "image/png": "[encoded data removed]",
            "text/plain": [
              "<PIL.Image.Image image mode=RGB size=300x200 at 0x7FE9B7FFB470>"
            ]
          },
          "metadata": {
            "tags": []
          }
        }
      ]
    },
    {
      "cell_type": "code",
      "metadata": {
        "id": "iDtvuzxlVNut",
        "colab_type": "code",
        "colab": {
          "base_uri": "https://localhost:8080/",
          "height": 34
        },
        "outputId": "d7cfc416-64ab-4640-cd94-30a3039ef9cb"
      },
      "source": [
        "# respective labels\n",
        "# label of the above image displayed\n",
        "labels_arr[9]"
      ],
      "execution_count": 12,
      "outputs": [
        {
          "output_type": "execute_result",
          "data": {
            "text/plain": [
              "0"
            ]
          },
          "metadata": {
            "tags": []
          },
          "execution_count": 12
        }
      ]
    },
    {
      "cell_type": "markdown",
      "metadata": {
        "id": "uN0-d2uaVeCM",
        "colab_type": "text"
      },
      "source": [
        "0 means mucca, so it's correct"
      ]
    },
    {
      "cell_type": "code",
      "metadata": {
        "id": "ES78ikr8LEzO",
        "colab_type": "code",
        "colab": {}
      },
      "source": [
        "for img in data_arr:\n",
        "  resized_image = cv2.resize(img, (350,300))\n",
        "\n",
        "# Colab users: \n",
        "#cv2_imshow(resized_image[82])"
      ],
      "execution_count": 34,
      "outputs": []
    },
    {
      "cell_type": "markdown",
      "metadata": {
        "id": "Vv7CDjeTW0Pm",
        "colab_type": "text"
      },
      "source": [
        "One can flatten images depending on the model one is using"
      ]
    },
    {
      "cell_type": "markdown",
      "metadata": {
        "id": "AgcCiao3ciQ3",
        "colab_type": "text"
      },
      "source": [
        "## Split the Data"
      ]
    },
    {
      "cell_type": "code",
      "metadata": {
        "id": "ftcG0gxacKV-",
        "colab_type": "code",
        "colab": {}
      },
      "source": [
        "from sklearn.model_selection import train_test_split\n",
        "# Can split data using train_test_split"
      ],
      "execution_count": 14,
      "outputs": []
    },
    {
      "cell_type": "code",
      "metadata": {
        "id": "eWmDPg9lIeyH",
        "colab_type": "code",
        "colab": {}
      },
      "source": [
        "X_train, X_test, y_train, y_test = train_test_split(data_arr, labels_arr, test_size=0.2, random_state=42)"
      ],
      "execution_count": 15,
      "outputs": []
    },
    {
      "cell_type": "code",
      "metadata": {
        "id": "4UrjD-LFJKmP",
        "colab_type": "code",
        "colab": {
          "base_uri": "https://localhost:8080/",
          "height": 34
        },
        "outputId": "bde94991-9289-4d60-fff6-8b46e71fd15e"
      },
      "source": [
        "X_train.shape, X_test.shape"
      ],
      "execution_count": 49,
      "outputs": [
        {
          "output_type": "execute_result",
          "data": {
            "text/plain": [
              "((960, 200, 300, 3), (240, 200, 300, 3))"
            ]
          },
          "metadata": {
            "tags": []
          },
          "execution_count": 49
        }
      ]
    },
    {
      "cell_type": "code",
      "metadata": {
        "id": "_4dlrHQGWroV",
        "colab_type": "code",
        "colab": {}
      },
      "source": [
        "X_test_flattened= X_test.reshape(len(X_test), 200*300*3)\n"
      ],
      "execution_count": 51,
      "outputs": []
    },
    {
      "cell_type": "code",
      "metadata": {
        "id": "7_SeNKnkKTk6",
        "colab_type": "code",
        "colab": {
          "base_uri": "https://localhost:8080/",
          "height": 34
        },
        "outputId": "72af3c39-a8b3-4aea-d393-eb89f4aa9341"
      },
      "source": [
        "X_train_flattened= X_train.reshape(len(X_train), 200*300*3)\n",
        "\n",
        "X_train_flattened.shape"
      ],
      "execution_count": 52,
      "outputs": [
        {
          "output_type": "execute_result",
          "data": {
            "text/plain": [
              "(960, 180000)"
            ]
          },
          "metadata": {
            "tags": []
          },
          "execution_count": 52
        }
      ]
    },
    {
      "cell_type": "markdown",
      "metadata": {
        "id": "TKuPUvVVVpee",
        "colab_type": "text"
      },
      "source": [
        "## Building Model\n"
      ]
    },
    {
      "cell_type": "code",
      "metadata": {
        "id": "guMDpS4DM6Ig",
        "colab_type": "code",
        "colab": {}
      },
      "source": [
        "import tensorflow as tf"
      ],
      "execution_count": 19,
      "outputs": []
    },
    {
      "cell_type": "code",
      "metadata": {
        "id": "KycYYRpFVcoF",
        "colab_type": "code",
        "colab": {}
      },
      "source": [
        "from tensorflow.keras.models import Sequential\n",
        "from tensorflow.keras.layers import Dense, Dropout,Flatten\n",
        "from tensorflow.keras.optimizers import Adam\n",
        "from tensorflow.keras.losses import SparseCategoricalCrossentropy"
      ],
      "execution_count": 20,
      "outputs": []
    },
    {
      "cell_type": "code",
      "metadata": {
        "id": "XC-89PXPWnKs",
        "colab_type": "code",
        "colab": {}
      },
      "source": [
        "#Augmenting the images\n",
        "data_augmentation = tf.keras.Sequential(\n",
        "    [\n",
        "        tf.keras.layers.experimental.preprocessing.RandomFlip(\"horizontal\"),\n",
        "        tf.keras.layers.experimental.preprocessing.RandomRotation(0.1),\n",
        "        tf.keras.layers.experimental.preprocessing.RandomZoom(0.2)\n",
        "    ]\n",
        ")\n"
      ],
      "execution_count": 39,
      "outputs": []
    },
    {
      "cell_type": "code",
      "metadata": {
        "id": "gXlgaWFccFzm",
        "colab_type": "code",
        "colab": {}
      },
      "source": [
        "#Sequential way of building models\n",
        "\n",
        "model = tf.keras.Sequential()\n",
        "model.add(data_augmentation)\n",
        "model.add(Flatten(input_shape=(200,300,3)))\n",
        "model.add(tf.keras.layers.experimental.preprocessing.Rescaling(1./255))\n",
        "model.add(tf.keras.layers.Dense(1024,activation='relu'))\n",
        "model.add(tf.keras.layers.Dropout(0.2))\n",
        "model.add(tf.keras.layers.Dense(2,activation='softmax'))"
      ],
      "execution_count": 40,
      "outputs": []
    },
    {
      "cell_type": "markdown",
      "metadata": {
        "id": "IGhNdXuv-P3S",
        "colab_type": "text"
      },
      "source": [
        "## Using ImageData generators to load data"
      ]
    },
    {
      "cell_type": "code",
      "metadata": {
        "id": "n2WHVaWm-PAs",
        "colab_type": "code",
        "colab": {}
      },
      "source": [
        "train_datagen = tf.keras.preprocessing.image.ImageDataGenerator(rescale = 1./255., # rescaling\n",
        "                                   rotation_range = 40,  # for augmentation\n",
        "                                   width_shift_range = 0.2,\n",
        "                                   validation_split = 0.2,\n",
        "                                   height_shift_range = 0.2,\n",
        "                                   shear_range = 0.2,\n",
        "                                   zoom_range = 0.2,\n",
        "                                   horizontal_flip = True)\n",
        "\n",
        "val_datagen = tf.keras.preprocessing.image.ImageDataGenerator(rescale = 1.0/255.,validation_split = 0.2)\n",
        "\n",
        "test_datagen = tf.keras.preprocessing.image.ImageDataGenerator(rescale = 1.0/255.)"
      ],
      "execution_count": 21,
      "outputs": []
    },
    {
      "cell_type": "code",
      "metadata": {
        "id": "AkEsvvYIWMj1",
        "colab_type": "code",
        "colab": {
          "base_uri": "https://localhost:8080/",
          "height": 34
        },
        "outputId": "cdc7fa1a-8a0c-4d5f-cbce-ce134c745d97"
      },
      "source": [
        "X_train.shape, y_train.shape"
      ],
      "execution_count": 55,
      "outputs": [
        {
          "output_type": "execute_result",
          "data": {
            "text/plain": [
              "((960, 200, 300, 3), (960,))"
            ]
          },
          "metadata": {
            "tags": []
          },
          "execution_count": 55
        }
      ]
    },
    {
      "cell_type": "code",
      "metadata": {
        "id": "MfqoYIg5ardO",
        "colab_type": "code",
        "colab": {
          "base_uri": "https://localhost:8080/",
          "height": 34
        },
        "outputId": "dc7da64a-291d-4e81-dd83-7f0dde716130"
      },
      "source": [
        "img_pix_ar = np.array(image_pixels)\n",
        "img_sha = img_pix_ar.reshape(400,1,1,1)\n",
        "img_sha.shape"
      ],
      "execution_count": 67,
      "outputs": [
        {
          "output_type": "execute_result",
          "data": {
            "text/plain": [
              "(400, 1, 1, 1)"
            ]
          },
          "metadata": {
            "tags": []
          },
          "execution_count": 67
        }
      ]
    },
    {
      "cell_type": "code",
      "metadata": {
        "id": "0M8AW86_-x-E",
        "colab_type": "code",
        "colab": {}
      },
      "source": [
        "train_generator = train_datagen.flow((X_train),np.array(y_train), batch_size=32)\n",
        "val_generator = val_datagen.flow(np.array(X_test), np.array(y_test), batch_size=32)\n",
        "test_generator = test_datagen.flow((img_sha),  batch_size=32)\n",
        "\n",
        "                                                   "
      ],
      "execution_count": 68,
      "outputs": []
    },
    {
      "cell_type": "code",
      "metadata": {
        "id": "c1G5XiFaBBZY",
        "colab_type": "code",
        "colab": {
          "base_uri": "https://localhost:8080/",
          "height": 34
        },
        "outputId": "c1957e33-3f87-4449-be99-7ff9559d9924"
      },
      "source": [
        "X_train.shape, np.array(image_pixels).shape"
      ],
      "execution_count": 36,
      "outputs": [
        {
          "output_type": "execute_result",
          "data": {
            "text/plain": [
              "((960, 200, 300, 3), (400,))"
            ]
          },
          "metadata": {
            "tags": []
          },
          "execution_count": 36
        }
      ]
    },
    {
      "cell_type": "markdown",
      "metadata": {
        "id": "G5hxDG16dixs",
        "colab_type": "text"
      },
      "source": [
        "## Optimize Model"
      ]
    },
    {
      "cell_type": "code",
      "metadata": {
        "id": "fEz8zyzadl0b",
        "colab_type": "code",
        "colab": {}
      },
      "source": [
        "model.compile(optimizer='adam',\n",
        "              loss='sparse_categorical_crossentropy',\n",
        "              metrics=['accuracy'])"
      ],
      "execution_count": 59,
      "outputs": []
    },
    {
      "cell_type": "code",
      "metadata": {
        "id": "UNOD_ujbbSdx",
        "colab_type": "code",
        "colab": {
          "base_uri": "https://localhost:8080/",
          "height": 372
        },
        "outputId": "c5322245-f3e4-454d-9fc8-2e52c16d59da"
      },
      "source": [
        "history = model.fit(\n",
        "            train_generator,\n",
        "            validation_data = val_generator,\n",
        "            epochs = 10,\n",
        "            verbose = 2)"
      ],
      "execution_count": 60,
      "outputs": [
        {
          "output_type": "stream",
          "text": [
            "Epoch 1/10\n",
            "30/30 - 12s - loss: 0.6930 - accuracy: 0.5063 - val_loss: 0.6912 - val_accuracy: 0.6333\n",
            "Epoch 2/10\n",
            "30/30 - 12s - loss: 0.6931 - accuracy: 0.5073 - val_loss: 0.6865 - val_accuracy: 0.5125\n",
            "Epoch 3/10\n",
            "30/30 - 12s - loss: 0.6903 - accuracy: 0.5417 - val_loss: 0.6839 - val_accuracy: 0.6542\n",
            "Epoch 4/10\n",
            "30/30 - 12s - loss: 0.6896 - accuracy: 0.5573 - val_loss: 0.6783 - val_accuracy: 0.6458\n",
            "Epoch 5/10\n",
            "30/30 - 12s - loss: 0.6842 - accuracy: 0.5625 - val_loss: 0.6719 - val_accuracy: 0.6458\n",
            "Epoch 6/10\n",
            "30/30 - 12s - loss: 0.6802 - accuracy: 0.5813 - val_loss: 0.6665 - val_accuracy: 0.6583\n",
            "Epoch 7/10\n",
            "30/30 - 12s - loss: 0.6783 - accuracy: 0.5625 - val_loss: 0.6597 - val_accuracy: 0.6417\n",
            "Epoch 8/10\n",
            "30/30 - 12s - loss: 0.6795 - accuracy: 0.5646 - val_loss: 0.6564 - val_accuracy: 0.6125\n",
            "Epoch 9/10\n",
            "30/30 - 12s - loss: 0.6768 - accuracy: 0.5760 - val_loss: 0.6543 - val_accuracy: 0.6583\n",
            "Epoch 10/10\n",
            "30/30 - 12s - loss: 0.6839 - accuracy: 0.5604 - val_loss: 0.6533 - val_accuracy: 0.6792\n"
          ],
          "name": "stdout"
        }
      ]
    },
    {
      "cell_type": "code",
      "metadata": {
        "id": "g86Bspn6bwIF",
        "colab_type": "code",
        "colab": {
          "base_uri": "https://localhost:8080/",
          "height": 52
        },
        "outputId": "4f458a6d-cf4f-4d72-e40e-ac94a6fba2ba"
      },
      "source": [
        " model.evaluate(val_generator, verbose=2)"
      ],
      "execution_count": 63,
      "outputs": [
        {
          "output_type": "stream",
          "text": [
            "8/8 - 0s - loss: 0.6533 - accuracy: 0.6792\n"
          ],
          "name": "stdout"
        },
        {
          "output_type": "execute_result",
          "data": {
            "text/plain": [
              "[0.6532638669013977, 0.6791666746139526]"
            ]
          },
          "metadata": {
            "tags": []
          },
          "execution_count": 63
        }
      ]
    },
    {
      "cell_type": "code",
      "metadata": {
        "id": "dweif7BtbzT9",
        "colab_type": "code",
        "colab": {
          "base_uri": "https://localhost:8080/",
          "height": 387
        },
        "outputId": "c42fc995-b9b5-489d-ada6-0213463e2c4b"
      },
      "source": [
        "preds = model.predict(test_generator)"
      ],
      "execution_count": 69,
      "outputs": [
        {
          "output_type": "error",
          "ename": "InvalidArgumentError",
          "evalue": "ignored",
          "traceback": [
            "\u001b[0;31m---------------------------------------------------------------------------\u001b[0m",
            "\u001b[0;31mInvalidArgumentError\u001b[0m                      Traceback (most recent call last)",
            "\u001b[0;32m<ipython-input-69-40043b3f4244>\u001b[0m in \u001b[0;36m<module>\u001b[0;34m()\u001b[0m\n\u001b[0;32m----> 1\u001b[0;31m \u001b[0mpreds\u001b[0m \u001b[0;34m=\u001b[0m \u001b[0mmodel\u001b[0m\u001b[0;34m.\u001b[0m\u001b[0mpredict\u001b[0m\u001b[0;34m(\u001b[0m\u001b[0mtest_generator\u001b[0m\u001b[0;34m)\u001b[0m\u001b[0;34m\u001b[0m\u001b[0;34m\u001b[0m\u001b[0m\n\u001b[0m",
            "\u001b[0;32m/usr/local/lib/python3.6/dist-packages/tensorflow/python/keras/engine/training.py\u001b[0m in \u001b[0;36m_method_wrapper\u001b[0;34m(self, *args, **kwargs)\u001b[0m\n\u001b[1;32m    128\u001b[0m       raise ValueError('{} is not supported in multi-worker mode.'.format(\n\u001b[1;32m    129\u001b[0m           method.__name__))\n\u001b[0;32m--> 130\u001b[0;31m     \u001b[0;32mreturn\u001b[0m \u001b[0mmethod\u001b[0m\u001b[0;34m(\u001b[0m\u001b[0mself\u001b[0m\u001b[0;34m,\u001b[0m \u001b[0;34m*\u001b[0m\u001b[0margs\u001b[0m\u001b[0;34m,\u001b[0m \u001b[0;34m**\u001b[0m\u001b[0mkwargs\u001b[0m\u001b[0;34m)\u001b[0m\u001b[0;34m\u001b[0m\u001b[0;34m\u001b[0m\u001b[0m\n\u001b[0m\u001b[1;32m    131\u001b[0m \u001b[0;34m\u001b[0m\u001b[0m\n\u001b[1;32m    132\u001b[0m   return tf_decorator.make_decorator(\n",
            "\u001b[0;32m/usr/local/lib/python3.6/dist-packages/tensorflow/python/keras/engine/training.py\u001b[0m in \u001b[0;36mpredict\u001b[0;34m(self, x, batch_size, verbose, steps, callbacks, max_queue_size, workers, use_multiprocessing)\u001b[0m\n\u001b[1;32m   1597\u001b[0m           \u001b[0;32mfor\u001b[0m \u001b[0mstep\u001b[0m \u001b[0;32min\u001b[0m \u001b[0mdata_handler\u001b[0m\u001b[0;34m.\u001b[0m\u001b[0msteps\u001b[0m\u001b[0;34m(\u001b[0m\u001b[0;34m)\u001b[0m\u001b[0;34m:\u001b[0m\u001b[0;34m\u001b[0m\u001b[0;34m\u001b[0m\u001b[0m\n\u001b[1;32m   1598\u001b[0m             \u001b[0mcallbacks\u001b[0m\u001b[0;34m.\u001b[0m\u001b[0mon_predict_batch_begin\u001b[0m\u001b[0;34m(\u001b[0m\u001b[0mstep\u001b[0m\u001b[0;34m)\u001b[0m\u001b[0;34m\u001b[0m\u001b[0;34m\u001b[0m\u001b[0m\n\u001b[0;32m-> 1599\u001b[0;31m             \u001b[0mtmp_batch_outputs\u001b[0m \u001b[0;34m=\u001b[0m \u001b[0mpredict_function\u001b[0m\u001b[0;34m(\u001b[0m\u001b[0miterator\u001b[0m\u001b[0;34m)\u001b[0m\u001b[0;34m\u001b[0m\u001b[0;34m\u001b[0m\u001b[0m\n\u001b[0m\u001b[1;32m   1600\u001b[0m             \u001b[0;32mif\u001b[0m \u001b[0mdata_handler\u001b[0m\u001b[0;34m.\u001b[0m\u001b[0mshould_sync\u001b[0m\u001b[0;34m:\u001b[0m\u001b[0;34m\u001b[0m\u001b[0;34m\u001b[0m\u001b[0m\n\u001b[1;32m   1601\u001b[0m               \u001b[0mcontext\u001b[0m\u001b[0;34m.\u001b[0m\u001b[0masync_wait\u001b[0m\u001b[0;34m(\u001b[0m\u001b[0;34m)\u001b[0m\u001b[0;34m\u001b[0m\u001b[0;34m\u001b[0m\u001b[0m\n",
            "\u001b[0;32m/usr/local/lib/python3.6/dist-packages/tensorflow/python/eager/def_function.py\u001b[0m in \u001b[0;36m__call__\u001b[0;34m(self, *args, **kwds)\u001b[0m\n\u001b[1;32m    778\u001b[0m       \u001b[0;32melse\u001b[0m\u001b[0;34m:\u001b[0m\u001b[0;34m\u001b[0m\u001b[0;34m\u001b[0m\u001b[0m\n\u001b[1;32m    779\u001b[0m         \u001b[0mcompiler\u001b[0m \u001b[0;34m=\u001b[0m \u001b[0;34m\"nonXla\"\u001b[0m\u001b[0;34m\u001b[0m\u001b[0;34m\u001b[0m\u001b[0m\n\u001b[0;32m--> 780\u001b[0;31m         \u001b[0mresult\u001b[0m \u001b[0;34m=\u001b[0m \u001b[0mself\u001b[0m\u001b[0;34m.\u001b[0m\u001b[0m_call\u001b[0m\u001b[0;34m(\u001b[0m\u001b[0;34m*\u001b[0m\u001b[0margs\u001b[0m\u001b[0;34m,\u001b[0m \u001b[0;34m**\u001b[0m\u001b[0mkwds\u001b[0m\u001b[0;34m)\u001b[0m\u001b[0;34m\u001b[0m\u001b[0;34m\u001b[0m\u001b[0m\n\u001b[0m\u001b[1;32m    781\u001b[0m \u001b[0;34m\u001b[0m\u001b[0m\n\u001b[1;32m    782\u001b[0m       \u001b[0mnew_tracing_count\u001b[0m \u001b[0;34m=\u001b[0m \u001b[0mself\u001b[0m\u001b[0;34m.\u001b[0m\u001b[0m_get_tracing_count\u001b[0m\u001b[0;34m(\u001b[0m\u001b[0;34m)\u001b[0m\u001b[0;34m\u001b[0m\u001b[0;34m\u001b[0m\u001b[0m\n",
            "\u001b[0;32m/usr/local/lib/python3.6/dist-packages/tensorflow/python/eager/def_function.py\u001b[0m in \u001b[0;36m_call\u001b[0;34m(self, *args, **kwds)\u001b[0m\n\u001b[1;32m    812\u001b[0m       \u001b[0;31m# In this case we have not created variables on the first call. So we can\u001b[0m\u001b[0;34m\u001b[0m\u001b[0;34m\u001b[0m\u001b[0;34m\u001b[0m\u001b[0m\n\u001b[1;32m    813\u001b[0m       \u001b[0;31m# run the first trace but we should fail if variables are created.\u001b[0m\u001b[0;34m\u001b[0m\u001b[0;34m\u001b[0m\u001b[0;34m\u001b[0m\u001b[0m\n\u001b[0;32m--> 814\u001b[0;31m       \u001b[0mresults\u001b[0m \u001b[0;34m=\u001b[0m \u001b[0mself\u001b[0m\u001b[0;34m.\u001b[0m\u001b[0m_stateful_fn\u001b[0m\u001b[0;34m(\u001b[0m\u001b[0;34m*\u001b[0m\u001b[0margs\u001b[0m\u001b[0;34m,\u001b[0m \u001b[0;34m**\u001b[0m\u001b[0mkwds\u001b[0m\u001b[0;34m)\u001b[0m\u001b[0;34m\u001b[0m\u001b[0;34m\u001b[0m\u001b[0m\n\u001b[0m\u001b[1;32m    815\u001b[0m       \u001b[0;32mif\u001b[0m \u001b[0mself\u001b[0m\u001b[0;34m.\u001b[0m\u001b[0m_created_variables\u001b[0m\u001b[0;34m:\u001b[0m\u001b[0;34m\u001b[0m\u001b[0;34m\u001b[0m\u001b[0m\n\u001b[1;32m    816\u001b[0m         raise ValueError(\"Creating variables on a non-first call to a function\"\n",
            "\u001b[0;32m/usr/local/lib/python3.6/dist-packages/tensorflow/python/eager/function.py\u001b[0m in \u001b[0;36m__call__\u001b[0;34m(self, *args, **kwargs)\u001b[0m\n\u001b[1;32m   2827\u001b[0m     \u001b[0;32mwith\u001b[0m \u001b[0mself\u001b[0m\u001b[0;34m.\u001b[0m\u001b[0m_lock\u001b[0m\u001b[0;34m:\u001b[0m\u001b[0;34m\u001b[0m\u001b[0;34m\u001b[0m\u001b[0m\n\u001b[1;32m   2828\u001b[0m       \u001b[0mgraph_function\u001b[0m\u001b[0;34m,\u001b[0m \u001b[0margs\u001b[0m\u001b[0;34m,\u001b[0m \u001b[0mkwargs\u001b[0m \u001b[0;34m=\u001b[0m \u001b[0mself\u001b[0m\u001b[0;34m.\u001b[0m\u001b[0m_maybe_define_function\u001b[0m\u001b[0;34m(\u001b[0m\u001b[0margs\u001b[0m\u001b[0;34m,\u001b[0m \u001b[0mkwargs\u001b[0m\u001b[0;34m)\u001b[0m\u001b[0;34m\u001b[0m\u001b[0;34m\u001b[0m\u001b[0m\n\u001b[0;32m-> 2829\u001b[0;31m     \u001b[0;32mreturn\u001b[0m \u001b[0mgraph_function\u001b[0m\u001b[0;34m.\u001b[0m\u001b[0m_filtered_call\u001b[0m\u001b[0;34m(\u001b[0m\u001b[0margs\u001b[0m\u001b[0;34m,\u001b[0m \u001b[0mkwargs\u001b[0m\u001b[0;34m)\u001b[0m  \u001b[0;31m# pylint: disable=protected-access\u001b[0m\u001b[0;34m\u001b[0m\u001b[0;34m\u001b[0m\u001b[0m\n\u001b[0m\u001b[1;32m   2830\u001b[0m \u001b[0;34m\u001b[0m\u001b[0m\n\u001b[1;32m   2831\u001b[0m   \u001b[0;34m@\u001b[0m\u001b[0mproperty\u001b[0m\u001b[0;34m\u001b[0m\u001b[0;34m\u001b[0m\u001b[0m\n",
            "\u001b[0;32m/usr/local/lib/python3.6/dist-packages/tensorflow/python/eager/function.py\u001b[0m in \u001b[0;36m_filtered_call\u001b[0;34m(self, args, kwargs, cancellation_manager)\u001b[0m\n\u001b[1;32m   1846\u001b[0m                            resource_variable_ops.BaseResourceVariable))],\n\u001b[1;32m   1847\u001b[0m         \u001b[0mcaptured_inputs\u001b[0m\u001b[0;34m=\u001b[0m\u001b[0mself\u001b[0m\u001b[0;34m.\u001b[0m\u001b[0mcaptured_inputs\u001b[0m\u001b[0;34m,\u001b[0m\u001b[0;34m\u001b[0m\u001b[0;34m\u001b[0m\u001b[0m\n\u001b[0;32m-> 1848\u001b[0;31m         cancellation_manager=cancellation_manager)\n\u001b[0m\u001b[1;32m   1849\u001b[0m \u001b[0;34m\u001b[0m\u001b[0m\n\u001b[1;32m   1850\u001b[0m   \u001b[0;32mdef\u001b[0m \u001b[0m_call_flat\u001b[0m\u001b[0;34m(\u001b[0m\u001b[0mself\u001b[0m\u001b[0;34m,\u001b[0m \u001b[0margs\u001b[0m\u001b[0;34m,\u001b[0m \u001b[0mcaptured_inputs\u001b[0m\u001b[0;34m,\u001b[0m \u001b[0mcancellation_manager\u001b[0m\u001b[0;34m=\u001b[0m\u001b[0;32mNone\u001b[0m\u001b[0;34m)\u001b[0m\u001b[0;34m:\u001b[0m\u001b[0;34m\u001b[0m\u001b[0;34m\u001b[0m\u001b[0m\n",
            "\u001b[0;32m/usr/local/lib/python3.6/dist-packages/tensorflow/python/eager/function.py\u001b[0m in \u001b[0;36m_call_flat\u001b[0;34m(self, args, captured_inputs, cancellation_manager)\u001b[0m\n\u001b[1;32m   1922\u001b[0m       \u001b[0;31m# No tape is watching; skip to running the function.\u001b[0m\u001b[0;34m\u001b[0m\u001b[0;34m\u001b[0m\u001b[0;34m\u001b[0m\u001b[0m\n\u001b[1;32m   1923\u001b[0m       return self._build_call_outputs(self._inference_function.call(\n\u001b[0;32m-> 1924\u001b[0;31m           ctx, args, cancellation_manager=cancellation_manager))\n\u001b[0m\u001b[1;32m   1925\u001b[0m     forward_backward = self._select_forward_and_backward_functions(\n\u001b[1;32m   1926\u001b[0m         \u001b[0margs\u001b[0m\u001b[0;34m,\u001b[0m\u001b[0;34m\u001b[0m\u001b[0;34m\u001b[0m\u001b[0m\n",
            "\u001b[0;32m/usr/local/lib/python3.6/dist-packages/tensorflow/python/eager/function.py\u001b[0m in \u001b[0;36mcall\u001b[0;34m(self, ctx, args, cancellation_manager)\u001b[0m\n\u001b[1;32m    548\u001b[0m               \u001b[0minputs\u001b[0m\u001b[0;34m=\u001b[0m\u001b[0margs\u001b[0m\u001b[0;34m,\u001b[0m\u001b[0;34m\u001b[0m\u001b[0;34m\u001b[0m\u001b[0m\n\u001b[1;32m    549\u001b[0m               \u001b[0mattrs\u001b[0m\u001b[0;34m=\u001b[0m\u001b[0mattrs\u001b[0m\u001b[0;34m,\u001b[0m\u001b[0;34m\u001b[0m\u001b[0;34m\u001b[0m\u001b[0m\n\u001b[0;32m--> 550\u001b[0;31m               ctx=ctx)\n\u001b[0m\u001b[1;32m    551\u001b[0m         \u001b[0;32melse\u001b[0m\u001b[0;34m:\u001b[0m\u001b[0;34m\u001b[0m\u001b[0;34m\u001b[0m\u001b[0m\n\u001b[1;32m    552\u001b[0m           outputs = execute.execute_with_cancellation(\n",
            "\u001b[0;32m/usr/local/lib/python3.6/dist-packages/tensorflow/python/eager/execute.py\u001b[0m in \u001b[0;36mquick_execute\u001b[0;34m(op_name, num_outputs, inputs, attrs, ctx, name)\u001b[0m\n\u001b[1;32m     58\u001b[0m     \u001b[0mctx\u001b[0m\u001b[0;34m.\u001b[0m\u001b[0mensure_initialized\u001b[0m\u001b[0;34m(\u001b[0m\u001b[0;34m)\u001b[0m\u001b[0;34m\u001b[0m\u001b[0;34m\u001b[0m\u001b[0m\n\u001b[1;32m     59\u001b[0m     tensors = pywrap_tfe.TFE_Py_Execute(ctx._handle, device_name, op_name,\n\u001b[0;32m---> 60\u001b[0;31m                                         inputs, attrs, num_outputs)\n\u001b[0m\u001b[1;32m     61\u001b[0m   \u001b[0;32mexcept\u001b[0m \u001b[0mcore\u001b[0m\u001b[0;34m.\u001b[0m\u001b[0m_NotOkStatusException\u001b[0m \u001b[0;32mas\u001b[0m \u001b[0me\u001b[0m\u001b[0;34m:\u001b[0m\u001b[0;34m\u001b[0m\u001b[0;34m\u001b[0m\u001b[0m\n\u001b[1;32m     62\u001b[0m     \u001b[0;32mif\u001b[0m \u001b[0mname\u001b[0m \u001b[0;32mis\u001b[0m \u001b[0;32mnot\u001b[0m \u001b[0;32mNone\u001b[0m\u001b[0;34m:\u001b[0m\u001b[0;34m\u001b[0m\u001b[0;34m\u001b[0m\u001b[0m\n",
            "\u001b[0;31mInvalidArgumentError\u001b[0m:  Matrix size-incompatible: In[0]: [32,1], In[1]: [180000,1024]\n\t [[node sequential_1/dense/MatMul (defined at <ipython-input-64-40043b3f4244>:1) ]] [Op:__inference_predict_function_5360]\n\nFunction call stack:\npredict_function\n"
          ]
        }
      ]
    },
    {
      "cell_type": "code",
      "metadata": {
        "id": "PUd93mhpdmug",
        "colab_type": "code",
        "colab": {
          "base_uri": "https://localhost:8080/",
          "height": 427
        },
        "outputId": "3039f820-3acb-4860-f881-0455b9f77627"
      },
      "source": [
        "model.fit(X_train, y_train, epochs=10, batch_size=32)"
      ],
      "execution_count": 42,
      "outputs": [
        {
          "output_type": "stream",
          "text": [
            "Epoch 1/10\n",
            " 2/30 [=>............................] - ETA: 1s - loss: 344.9069 - accuracy: 0.4844WARNING:tensorflow:Callbacks method `on_train_batch_end` is slow compared to the batch time (batch time: 0.0074s vs `on_train_batch_end` time: 0.0500s). Check your callbacks.\n",
            "30/30 [==============================] - 2s 51ms/step - loss: 93.6822 - accuracy: 0.5177\n",
            "Epoch 2/10\n",
            "30/30 [==============================] - 1s 50ms/step - loss: 10.4083 - accuracy: 0.5177\n",
            "Epoch 3/10\n",
            "30/30 [==============================] - 2s 50ms/step - loss: 2.0791 - accuracy: 0.5458\n",
            "Epoch 4/10\n",
            "30/30 [==============================] - 1s 50ms/step - loss: 0.7880 - accuracy: 0.5719\n",
            "Epoch 5/10\n",
            "30/30 [==============================] - 2s 50ms/step - loss: 0.6744 - accuracy: 0.5833\n",
            "Epoch 6/10\n",
            "30/30 [==============================] - 2s 51ms/step - loss: 0.6819 - accuracy: 0.5573\n",
            "Epoch 7/10\n",
            "30/30 [==============================] - 2s 51ms/step - loss: 0.7429 - accuracy: 0.5927\n",
            "Epoch 8/10\n",
            "30/30 [==============================] - 2s 50ms/step - loss: 0.6678 - accuracy: 0.5990\n",
            "Epoch 9/10\n",
            "30/30 [==============================] - 2s 51ms/step - loss: 0.8312 - accuracy: 0.5875\n",
            "Epoch 10/10\n",
            "30/30 [==============================] - 2s 51ms/step - loss: 0.7260 - accuracy: 0.5792\n"
          ],
          "name": "stdout"
        },
        {
          "output_type": "execute_result",
          "data": {
            "text/plain": [
              "<tensorflow.python.keras.callbacks.History at 0x7fe9604e1e10>"
            ]
          },
          "metadata": {
            "tags": []
          },
          "execution_count": 42
        }
      ]
    },
    {
      "cell_type": "code",
      "metadata": {
        "id": "vivxhUK8dmfq",
        "colab_type": "code",
        "colab": {
          "base_uri": "https://localhost:8080/",
          "height": 52
        },
        "outputId": "7d86c446-117d-48ff-b590-128a617dfe76"
      },
      "source": [
        "model.evaluate(X_test, y_test)"
      ],
      "execution_count": 43,
      "outputs": [
        {
          "output_type": "stream",
          "text": [
            "8/8 [==============================] - 0s 6ms/step - loss: 0.6523 - accuracy: 0.6417\n"
          ],
          "name": "stdout"
        },
        {
          "output_type": "execute_result",
          "data": {
            "text/plain": [
              "[0.6523312926292419, 0.6416666507720947]"
            ]
          },
          "metadata": {
            "tags": []
          },
          "execution_count": 43
        }
      ]
    },
    {
      "cell_type": "markdown",
      "metadata": {
        "id": "dSh2YMO9c80X",
        "colab_type": "text"
      },
      "source": [
        "# Loading the Test Data\n",
        "We can load the test data similar to what we did with train_data"
      ]
    },
    {
      "cell_type": "code",
      "metadata": {
        "id": "Iseum_zjc53c",
        "colab_type": "code",
        "colab": {
          "base_uri": "https://localhost:8080/",
          "height": 197
        },
        "outputId": "fd502108-021a-4409-fe70-6f9b1bcb6ef0"
      },
      "source": [
        "# Get the csv file given 'Testing_set_animals.csv'\n",
        "test_image_ids = pd.read_csv(\"/content/Datasets/animal_data/Testing_set_animals.csv\", names = ['filename'])  # there is no header in the csv file so we need to provide it. You can also do header = None\n",
        "test_image_ids.head()"
      ],
      "execution_count": 29,
      "outputs": [
        {
          "output_type": "execute_result",
          "data": {
            "text/html": [
              "<div>\n",
              "<style scoped>\n",
              "    .dataframe tbody tr th:only-of-type {\n",
              "        vertical-align: middle;\n",
              "    }\n",
              "\n",
              "    .dataframe tbody tr th {\n",
              "        vertical-align: top;\n",
              "    }\n",
              "\n",
              "    .dataframe thead th {\n",
              "        text-align: right;\n",
              "    }\n",
              "</style>\n",
              "<table border=\"1\" class=\"dataframe\">\n",
              "  <thead>\n",
              "    <tr style=\"text-align: right;\">\n",
              "      <th></th>\n",
              "      <th>filename</th>\n",
              "    </tr>\n",
              "  </thead>\n",
              "  <tbody>\n",
              "    <tr>\n",
              "      <th>0</th>\n",
              "      <td>Image_1.jpg</td>\n",
              "    </tr>\n",
              "    <tr>\n",
              "      <th>1</th>\n",
              "      <td>Image_2.jpg</td>\n",
              "    </tr>\n",
              "    <tr>\n",
              "      <th>2</th>\n",
              "      <td>Image_3.jpg</td>\n",
              "    </tr>\n",
              "    <tr>\n",
              "      <th>3</th>\n",
              "      <td>Image_4.jpg</td>\n",
              "    </tr>\n",
              "    <tr>\n",
              "      <th>4</th>\n",
              "      <td>Image_5.jpg</td>\n",
              "    </tr>\n",
              "  </tbody>\n",
              "</table>\n",
              "</div>"
            ],
            "text/plain": [
              "      filename\n",
              "0  Image_1.jpg\n",
              "1  Image_2.jpg\n",
              "2  Image_3.jpg\n",
              "3  Image_4.jpg\n",
              "4  Image_5.jpg"
            ]
          },
          "metadata": {
            "tags": []
          },
          "execution_count": 29
        }
      ]
    },
    {
      "cell_type": "code",
      "metadata": {
        "id": "Bkc8_Ry_dUo8",
        "colab_type": "code",
        "colab": {
          "base_uri": "https://localhost:8080/",
          "height": 1000
        },
        "outputId": "f1a975da-81fe-4130-f49d-682db10fd51f"
      },
      "source": [
        "# Get image paths\n",
        "image_paths = ['/content/train_beg/' + fname for fname in test_image_ids['filename']]\n",
        "image_paths"
      ],
      "execution_count": 30,
      "outputs": [
        {
          "output_type": "execute_result",
          "data": {
            "text/plain": [
              "['/content/train_beg/Image_1.jpg',\n",
              " '/content/train_beg/Image_2.jpg',\n",
              " '/content/train_beg/Image_3.jpg',\n",
              " '/content/train_beg/Image_4.jpg',\n",
              " '/content/train_beg/Image_5.jpg',\n",
              " '/content/train_beg/Image_6.jpg',\n",
              " '/content/train_beg/Image_7.jpg',\n",
              " '/content/train_beg/Image_8.jpg',\n",
              " '/content/train_beg/Image_9.jpg',\n",
              " '/content/train_beg/Image_10.jpg',\n",
              " '/content/train_beg/Image_11.jpg',\n",
              " '/content/train_beg/Image_12.jpg',\n",
              " '/content/train_beg/Image_13.jpg',\n",
              " '/content/train_beg/Image_14.jpg',\n",
              " '/content/train_beg/Image_15.jpg',\n",
              " '/content/train_beg/Image_16.jpg',\n",
              " '/content/train_beg/Image_17.jpg',\n",
              " '/content/train_beg/Image_18.jpg',\n",
              " '/content/train_beg/Image_19.jpg',\n",
              " '/content/train_beg/Image_20.jpg',\n",
              " '/content/train_beg/Image_21.jpg',\n",
              " '/content/train_beg/Image_22.jpg',\n",
              " '/content/train_beg/Image_23.jpg',\n",
              " '/content/train_beg/Image_24.jpg',\n",
              " '/content/train_beg/Image_25.jpg',\n",
              " '/content/train_beg/Image_26.jpg',\n",
              " '/content/train_beg/Image_27.jpg',\n",
              " '/content/train_beg/Image_28.jpg',\n",
              " '/content/train_beg/Image_29.jpg',\n",
              " '/content/train_beg/Image_30.jpg',\n",
              " '/content/train_beg/Image_31.jpg',\n",
              " '/content/train_beg/Image_32.jpg',\n",
              " '/content/train_beg/Image_33.jpg',\n",
              " '/content/train_beg/Image_34.jpg',\n",
              " '/content/train_beg/Image_35.jpg',\n",
              " '/content/train_beg/Image_36.jpg',\n",
              " '/content/train_beg/Image_37.jpg',\n",
              " '/content/train_beg/Image_38.jpg',\n",
              " '/content/train_beg/Image_39.jpg',\n",
              " '/content/train_beg/Image_40.jpg',\n",
              " '/content/train_beg/Image_41.jpg',\n",
              " '/content/train_beg/Image_42.jpg',\n",
              " '/content/train_beg/Image_43.jpg',\n",
              " '/content/train_beg/Image_44.jpg',\n",
              " '/content/train_beg/Image_45.jpg',\n",
              " '/content/train_beg/Image_46.jpg',\n",
              " '/content/train_beg/Image_47.jpg',\n",
              " '/content/train_beg/Image_48.jpg',\n",
              " '/content/train_beg/Image_49.jpg',\n",
              " '/content/train_beg/Image_50.jpg',\n",
              " '/content/train_beg/Image_51.jpg',\n",
              " '/content/train_beg/Image_52.jpg',\n",
              " '/content/train_beg/Image_53.jpg',\n",
              " '/content/train_beg/Image_54.jpg',\n",
              " '/content/train_beg/Image_55.jpg',\n",
              " '/content/train_beg/Image_56.jpg',\n",
              " '/content/train_beg/Image_57.jpg',\n",
              " '/content/train_beg/Image_58.jpg',\n",
              " '/content/train_beg/Image_59.jpg',\n",
              " '/content/train_beg/Image_60.jpg',\n",
              " '/content/train_beg/Image_61.jpg',\n",
              " '/content/train_beg/Image_62.jpg',\n",
              " '/content/train_beg/Image_63.jpg',\n",
              " '/content/train_beg/Image_64.jpg',\n",
              " '/content/train_beg/Image_65.jpg',\n",
              " '/content/train_beg/Image_66.jpg',\n",
              " '/content/train_beg/Image_67.jpg',\n",
              " '/content/train_beg/Image_68.jpg',\n",
              " '/content/train_beg/Image_69.jpg',\n",
              " '/content/train_beg/Image_70.jpg',\n",
              " '/content/train_beg/Image_71.jpg',\n",
              " '/content/train_beg/Image_72.jpg',\n",
              " '/content/train_beg/Image_73.jpg',\n",
              " '/content/train_beg/Image_74.jpg',\n",
              " '/content/train_beg/Image_75.jpg',\n",
              " '/content/train_beg/Image_76.jpg',\n",
              " '/content/train_beg/Image_77.jpg',\n",
              " '/content/train_beg/Image_78.jpg',\n",
              " '/content/train_beg/Image_79.jpg',\n",
              " '/content/train_beg/Image_80.jpg',\n",
              " '/content/train_beg/Image_81.jpg',\n",
              " '/content/train_beg/Image_82.jpg',\n",
              " '/content/train_beg/Image_83.jpg',\n",
              " '/content/train_beg/Image_84.jpg',\n",
              " '/content/train_beg/Image_85.jpg',\n",
              " '/content/train_beg/Image_86.jpg',\n",
              " '/content/train_beg/Image_87.jpg',\n",
              " '/content/train_beg/Image_88.jpg',\n",
              " '/content/train_beg/Image_89.jpg',\n",
              " '/content/train_beg/Image_90.jpg',\n",
              " '/content/train_beg/Image_91.jpg',\n",
              " '/content/train_beg/Image_92.jpg',\n",
              " '/content/train_beg/Image_93.jpg',\n",
              " '/content/train_beg/Image_94.jpg',\n",
              " '/content/train_beg/Image_95.jpg',\n",
              " '/content/train_beg/Image_96.jpg',\n",
              " '/content/train_beg/Image_97.jpg',\n",
              " '/content/train_beg/Image_98.jpg',\n",
              " '/content/train_beg/Image_99.jpg',\n",
              " '/content/train_beg/Image_100.jpg',\n",
              " '/content/train_beg/Image_101.jpg',\n",
              " '/content/train_beg/Image_102.jpg',\n",
              " '/content/train_beg/Image_103.jpg',\n",
              " '/content/train_beg/Image_104.jpg',\n",
              " '/content/train_beg/Image_105.jpg',\n",
              " '/content/train_beg/Image_106.jpg',\n",
              " '/content/train_beg/Image_107.jpg',\n",
              " '/content/train_beg/Image_108.jpg',\n",
              " '/content/train_beg/Image_109.jpg',\n",
              " '/content/train_beg/Image_110.jpg',\n",
              " '/content/train_beg/Image_111.jpg',\n",
              " '/content/train_beg/Image_112.jpg',\n",
              " '/content/train_beg/Image_113.jpg',\n",
              " '/content/train_beg/Image_114.jpg',\n",
              " '/content/train_beg/Image_115.jpg',\n",
              " '/content/train_beg/Image_116.jpg',\n",
              " '/content/train_beg/Image_117.jpg',\n",
              " '/content/train_beg/Image_118.jpg',\n",
              " '/content/train_beg/Image_119.jpg',\n",
              " '/content/train_beg/Image_120.jpg',\n",
              " '/content/train_beg/Image_121.jpg',\n",
              " '/content/train_beg/Image_122.jpg',\n",
              " '/content/train_beg/Image_123.jpg',\n",
              " '/content/train_beg/Image_124.jpg',\n",
              " '/content/train_beg/Image_125.jpg',\n",
              " '/content/train_beg/Image_126.jpg',\n",
              " '/content/train_beg/Image_127.jpg',\n",
              " '/content/train_beg/Image_128.jpg',\n",
              " '/content/train_beg/Image_129.jpg',\n",
              " '/content/train_beg/Image_130.jpg',\n",
              " '/content/train_beg/Image_131.jpg',\n",
              " '/content/train_beg/Image_132.jpg',\n",
              " '/content/train_beg/Image_133.jpg',\n",
              " '/content/train_beg/Image_134.jpg',\n",
              " '/content/train_beg/Image_135.jpg',\n",
              " '/content/train_beg/Image_136.jpg',\n",
              " '/content/train_beg/Image_137.jpg',\n",
              " '/content/train_beg/Image_138.jpg',\n",
              " '/content/train_beg/Image_139.jpg',\n",
              " '/content/train_beg/Image_140.jpg',\n",
              " '/content/train_beg/Image_141.jpg',\n",
              " '/content/train_beg/Image_142.jpg',\n",
              " '/content/train_beg/Image_143.jpg',\n",
              " '/content/train_beg/Image_144.jpg',\n",
              " '/content/train_beg/Image_145.jpg',\n",
              " '/content/train_beg/Image_146.jpg',\n",
              " '/content/train_beg/Image_147.jpg',\n",
              " '/content/train_beg/Image_148.jpg',\n",
              " '/content/train_beg/Image_149.jpg',\n",
              " '/content/train_beg/Image_150.jpg',\n",
              " '/content/train_beg/Image_151.jpg',\n",
              " '/content/train_beg/Image_152.jpg',\n",
              " '/content/train_beg/Image_153.jpg',\n",
              " '/content/train_beg/Image_154.jpg',\n",
              " '/content/train_beg/Image_155.jpg',\n",
              " '/content/train_beg/Image_156.jpg',\n",
              " '/content/train_beg/Image_157.jpg',\n",
              " '/content/train_beg/Image_158.jpg',\n",
              " '/content/train_beg/Image_159.jpg',\n",
              " '/content/train_beg/Image_160.jpg',\n",
              " '/content/train_beg/Image_161.jpg',\n",
              " '/content/train_beg/Image_162.jpg',\n",
              " '/content/train_beg/Image_163.jpg',\n",
              " '/content/train_beg/Image_164.jpg',\n",
              " '/content/train_beg/Image_165.jpg',\n",
              " '/content/train_beg/Image_166.jpg',\n",
              " '/content/train_beg/Image_167.jpg',\n",
              " '/content/train_beg/Image_168.jpg',\n",
              " '/content/train_beg/Image_169.jpg',\n",
              " '/content/train_beg/Image_170.jpg',\n",
              " '/content/train_beg/Image_171.jpg',\n",
              " '/content/train_beg/Image_172.jpg',\n",
              " '/content/train_beg/Image_173.jpg',\n",
              " '/content/train_beg/Image_174.jpg',\n",
              " '/content/train_beg/Image_175.jpg',\n",
              " '/content/train_beg/Image_176.jpg',\n",
              " '/content/train_beg/Image_177.jpg',\n",
              " '/content/train_beg/Image_178.jpg',\n",
              " '/content/train_beg/Image_179.jpg',\n",
              " '/content/train_beg/Image_180.jpg',\n",
              " '/content/train_beg/Image_181.jpg',\n",
              " '/content/train_beg/Image_182.jpg',\n",
              " '/content/train_beg/Image_183.jpg',\n",
              " '/content/train_beg/Image_184.jpg',\n",
              " '/content/train_beg/Image_185.jpg',\n",
              " '/content/train_beg/Image_186.jpg',\n",
              " '/content/train_beg/Image_187.jpg',\n",
              " '/content/train_beg/Image_188.jpg',\n",
              " '/content/train_beg/Image_189.jpg',\n",
              " '/content/train_beg/Image_190.jpg',\n",
              " '/content/train_beg/Image_191.jpg',\n",
              " '/content/train_beg/Image_192.jpg',\n",
              " '/content/train_beg/Image_193.jpg',\n",
              " '/content/train_beg/Image_194.jpg',\n",
              " '/content/train_beg/Image_195.jpg',\n",
              " '/content/train_beg/Image_196.jpg',\n",
              " '/content/train_beg/Image_197.jpg',\n",
              " '/content/train_beg/Image_198.jpg',\n",
              " '/content/train_beg/Image_199.jpg',\n",
              " '/content/train_beg/Image_200.jpg',\n",
              " '/content/train_beg/Image_201.jpg',\n",
              " '/content/train_beg/Image_202.jpg',\n",
              " '/content/train_beg/Image_203.jpg',\n",
              " '/content/train_beg/Image_204.jpg',\n",
              " '/content/train_beg/Image_205.jpg',\n",
              " '/content/train_beg/Image_206.jpg',\n",
              " '/content/train_beg/Image_207.jpg',\n",
              " '/content/train_beg/Image_208.jpg',\n",
              " '/content/train_beg/Image_209.jpg',\n",
              " '/content/train_beg/Image_210.jpg',\n",
              " '/content/train_beg/Image_211.jpg',\n",
              " '/content/train_beg/Image_212.jpg',\n",
              " '/content/train_beg/Image_213.jpg',\n",
              " '/content/train_beg/Image_214.jpg',\n",
              " '/content/train_beg/Image_215.jpg',\n",
              " '/content/train_beg/Image_216.jpg',\n",
              " '/content/train_beg/Image_217.jpg',\n",
              " '/content/train_beg/Image_218.jpg',\n",
              " '/content/train_beg/Image_219.jpg',\n",
              " '/content/train_beg/Image_220.jpg',\n",
              " '/content/train_beg/Image_221.jpg',\n",
              " '/content/train_beg/Image_222.jpg',\n",
              " '/content/train_beg/Image_223.jpg',\n",
              " '/content/train_beg/Image_224.jpg',\n",
              " '/content/train_beg/Image_225.jpg',\n",
              " '/content/train_beg/Image_226.jpg',\n",
              " '/content/train_beg/Image_227.jpg',\n",
              " '/content/train_beg/Image_228.jpg',\n",
              " '/content/train_beg/Image_229.jpg',\n",
              " '/content/train_beg/Image_230.jpg',\n",
              " '/content/train_beg/Image_231.jpg',\n",
              " '/content/train_beg/Image_232.jpg',\n",
              " '/content/train_beg/Image_233.jpg',\n",
              " '/content/train_beg/Image_234.jpg',\n",
              " '/content/train_beg/Image_235.jpg',\n",
              " '/content/train_beg/Image_236.jpg',\n",
              " '/content/train_beg/Image_237.jpg',\n",
              " '/content/train_beg/Image_238.jpg',\n",
              " '/content/train_beg/Image_239.jpg',\n",
              " '/content/train_beg/Image_240.jpg',\n",
              " '/content/train_beg/Image_241.jpg',\n",
              " '/content/train_beg/Image_242.jpg',\n",
              " '/content/train_beg/Image_243.jpg',\n",
              " '/content/train_beg/Image_244.jpg',\n",
              " '/content/train_beg/Image_245.jpg',\n",
              " '/content/train_beg/Image_246.jpg',\n",
              " '/content/train_beg/Image_247.jpg',\n",
              " '/content/train_beg/Image_248.jpg',\n",
              " '/content/train_beg/Image_249.jpg',\n",
              " '/content/train_beg/Image_250.jpg',\n",
              " '/content/train_beg/Image_251.jpg',\n",
              " '/content/train_beg/Image_252.jpg',\n",
              " '/content/train_beg/Image_253.jpg',\n",
              " '/content/train_beg/Image_254.jpg',\n",
              " '/content/train_beg/Image_255.jpg',\n",
              " '/content/train_beg/Image_256.jpg',\n",
              " '/content/train_beg/Image_257.jpg',\n",
              " '/content/train_beg/Image_258.jpg',\n",
              " '/content/train_beg/Image_259.jpg',\n",
              " '/content/train_beg/Image_260.jpg',\n",
              " '/content/train_beg/Image_261.jpg',\n",
              " '/content/train_beg/Image_262.jpg',\n",
              " '/content/train_beg/Image_263.jpg',\n",
              " '/content/train_beg/Image_264.jpg',\n",
              " '/content/train_beg/Image_265.jpg',\n",
              " '/content/train_beg/Image_266.jpg',\n",
              " '/content/train_beg/Image_267.jpg',\n",
              " '/content/train_beg/Image_268.jpg',\n",
              " '/content/train_beg/Image_269.jpg',\n",
              " '/content/train_beg/Image_270.jpg',\n",
              " '/content/train_beg/Image_271.jpg',\n",
              " '/content/train_beg/Image_272.jpg',\n",
              " '/content/train_beg/Image_273.jpg',\n",
              " '/content/train_beg/Image_274.jpg',\n",
              " '/content/train_beg/Image_275.jpg',\n",
              " '/content/train_beg/Image_276.jpg',\n",
              " '/content/train_beg/Image_277.jpg',\n",
              " '/content/train_beg/Image_278.jpg',\n",
              " '/content/train_beg/Image_279.jpg',\n",
              " '/content/train_beg/Image_280.jpg',\n",
              " '/content/train_beg/Image_281.jpg',\n",
              " '/content/train_beg/Image_282.jpg',\n",
              " '/content/train_beg/Image_283.jpg',\n",
              " '/content/train_beg/Image_284.jpg',\n",
              " '/content/train_beg/Image_285.jpg',\n",
              " '/content/train_beg/Image_286.jpg',\n",
              " '/content/train_beg/Image_287.jpg',\n",
              " '/content/train_beg/Image_288.jpg',\n",
              " '/content/train_beg/Image_289.jpg',\n",
              " '/content/train_beg/Image_290.jpg',\n",
              " '/content/train_beg/Image_291.jpg',\n",
              " '/content/train_beg/Image_292.jpg',\n",
              " '/content/train_beg/Image_293.jpg',\n",
              " '/content/train_beg/Image_294.jpg',\n",
              " '/content/train_beg/Image_295.jpg',\n",
              " '/content/train_beg/Image_296.jpg',\n",
              " '/content/train_beg/Image_297.jpg',\n",
              " '/content/train_beg/Image_298.jpg',\n",
              " '/content/train_beg/Image_299.jpg',\n",
              " '/content/train_beg/Image_300.jpg',\n",
              " '/content/train_beg/Image_301.jpg',\n",
              " '/content/train_beg/Image_302.jpg',\n",
              " '/content/train_beg/Image_303.jpg',\n",
              " '/content/train_beg/Image_304.jpg',\n",
              " '/content/train_beg/Image_305.jpg',\n",
              " '/content/train_beg/Image_306.jpg',\n",
              " '/content/train_beg/Image_307.jpg',\n",
              " '/content/train_beg/Image_308.jpg',\n",
              " '/content/train_beg/Image_309.jpg',\n",
              " '/content/train_beg/Image_310.jpg',\n",
              " '/content/train_beg/Image_311.jpg',\n",
              " '/content/train_beg/Image_312.jpg',\n",
              " '/content/train_beg/Image_313.jpg',\n",
              " '/content/train_beg/Image_314.jpg',\n",
              " '/content/train_beg/Image_315.jpg',\n",
              " '/content/train_beg/Image_316.jpg',\n",
              " '/content/train_beg/Image_317.jpg',\n",
              " '/content/train_beg/Image_318.jpg',\n",
              " '/content/train_beg/Image_319.jpg',\n",
              " '/content/train_beg/Image_320.jpg',\n",
              " '/content/train_beg/Image_321.jpg',\n",
              " '/content/train_beg/Image_322.jpg',\n",
              " '/content/train_beg/Image_323.jpg',\n",
              " '/content/train_beg/Image_324.jpg',\n",
              " '/content/train_beg/Image_325.jpg',\n",
              " '/content/train_beg/Image_326.jpg',\n",
              " '/content/train_beg/Image_327.jpg',\n",
              " '/content/train_beg/Image_328.jpg',\n",
              " '/content/train_beg/Image_329.jpg',\n",
              " '/content/train_beg/Image_330.jpg',\n",
              " '/content/train_beg/Image_331.jpg',\n",
              " '/content/train_beg/Image_332.jpg',\n",
              " '/content/train_beg/Image_333.jpg',\n",
              " '/content/train_beg/Image_334.jpg',\n",
              " '/content/train_beg/Image_335.jpg',\n",
              " '/content/train_beg/Image_336.jpg',\n",
              " '/content/train_beg/Image_337.jpg',\n",
              " '/content/train_beg/Image_338.jpg',\n",
              " '/content/train_beg/Image_339.jpg',\n",
              " '/content/train_beg/Image_340.jpg',\n",
              " '/content/train_beg/Image_341.jpg',\n",
              " '/content/train_beg/Image_342.jpg',\n",
              " '/content/train_beg/Image_343.jpg',\n",
              " '/content/train_beg/Image_344.jpg',\n",
              " '/content/train_beg/Image_345.jpg',\n",
              " '/content/train_beg/Image_346.jpg',\n",
              " '/content/train_beg/Image_347.jpg',\n",
              " '/content/train_beg/Image_348.jpg',\n",
              " '/content/train_beg/Image_349.jpg',\n",
              " '/content/train_beg/Image_350.jpg',\n",
              " '/content/train_beg/Image_351.jpg',\n",
              " '/content/train_beg/Image_352.jpg',\n",
              " '/content/train_beg/Image_353.jpg',\n",
              " '/content/train_beg/Image_354.jpg',\n",
              " '/content/train_beg/Image_355.jpg',\n",
              " '/content/train_beg/Image_356.jpg',\n",
              " '/content/train_beg/Image_357.jpg',\n",
              " '/content/train_beg/Image_358.jpg',\n",
              " '/content/train_beg/Image_359.jpg',\n",
              " '/content/train_beg/Image_360.jpg',\n",
              " '/content/train_beg/Image_361.jpg',\n",
              " '/content/train_beg/Image_362.jpg',\n",
              " '/content/train_beg/Image_363.jpg',\n",
              " '/content/train_beg/Image_364.jpg',\n",
              " '/content/train_beg/Image_365.jpg',\n",
              " '/content/train_beg/Image_366.jpg',\n",
              " '/content/train_beg/Image_367.jpg',\n",
              " '/content/train_beg/Image_368.jpg',\n",
              " '/content/train_beg/Image_369.jpg',\n",
              " '/content/train_beg/Image_370.jpg',\n",
              " '/content/train_beg/Image_371.jpg',\n",
              " '/content/train_beg/Image_372.jpg',\n",
              " '/content/train_beg/Image_373.jpg',\n",
              " '/content/train_beg/Image_374.jpg',\n",
              " '/content/train_beg/Image_375.jpg',\n",
              " '/content/train_beg/Image_376.jpg',\n",
              " '/content/train_beg/Image_377.jpg',\n",
              " '/content/train_beg/Image_378.jpg',\n",
              " '/content/train_beg/Image_379.jpg',\n",
              " '/content/train_beg/Image_380.jpg',\n",
              " '/content/train_beg/Image_381.jpg',\n",
              " '/content/train_beg/Image_382.jpg',\n",
              " '/content/train_beg/Image_383.jpg',\n",
              " '/content/train_beg/Image_384.jpg',\n",
              " '/content/train_beg/Image_385.jpg',\n",
              " '/content/train_beg/Image_386.jpg',\n",
              " '/content/train_beg/Image_387.jpg',\n",
              " '/content/train_beg/Image_388.jpg',\n",
              " '/content/train_beg/Image_389.jpg',\n",
              " '/content/train_beg/Image_390.jpg',\n",
              " '/content/train_beg/Image_391.jpg',\n",
              " '/content/train_beg/Image_392.jpg',\n",
              " '/content/train_beg/Image_393.jpg',\n",
              " '/content/train_beg/Image_394.jpg',\n",
              " '/content/train_beg/Image_395.jpg',\n",
              " '/content/train_beg/Image_396.jpg',\n",
              " '/content/train_beg/Image_397.jpg',\n",
              " '/content/train_beg/Image_398.jpg',\n",
              " '/content/train_beg/Image_399.jpg',\n",
              " '/content/train_beg/Image_400.jpg']"
            ]
          },
          "metadata": {
            "tags": []
          },
          "execution_count": 30
        }
      ]
    },
    {
      "cell_type": "code",
      "metadata": {
        "id": "4x29cVsdeK3p",
        "colab_type": "code",
        "colab": {
          "base_uri": "https://localhost:8080/",
          "height": 34
        },
        "outputId": "63e1f07a-a298-44e4-d038-27e8e06a2429"
      },
      "source": [
        "# Confirm if number of images is same as number of labels given\n",
        "len(image_paths)== len(test_image_ids)"
      ],
      "execution_count": 31,
      "outputs": [
        {
          "output_type": "execute_result",
          "data": {
            "text/plain": [
              "True"
            ]
          },
          "metadata": {
            "tags": []
          },
          "execution_count": 31
        }
      ]
    },
    {
      "cell_type": "code",
      "metadata": {
        "id": "YXmLVJ7peu2I",
        "colab_type": "code",
        "colab": {
          "base_uri": "https://localhost:8080/",
          "height": 35
        },
        "outputId": "d2c76f2a-62c9-4925-ca2f-e3d7cb733436"
      },
      "source": [
        "# Create dataframe of image ids and filepaths\n",
        "test_data = pd.DataFrame({'filename': test_image_ids.filename, 'filepath': image_paths})\n",
        "test_data.head()\n",
        "\n",
        "\"\"\"\n",
        "please put the required data at ****\n",
        "\"\"\"\n",
        "# Again this is completely option to see if all the data images are in an order. You can skip this if you want"
      ],
      "execution_count": 32,
      "outputs": [
        {
          "output_type": "execute_result",
          "data": {
            "application/vnd.google.colaboratory.intrinsic+json": {
              "type": "string"
            },
            "text/plain": [
              "'\\nplease put the required data at ****\\n'"
            ]
          },
          "metadata": {
            "tags": []
          },
          "execution_count": 32
        }
      ]
    },
    {
      "cell_type": "code",
      "metadata": {
        "id": "iPf2E4dZfOk6",
        "colab_type": "code",
        "colab": {
          "base_uri": "https://localhost:8080/",
          "height": 35
        },
        "outputId": "9865c661-6417-4030-fa8d-423b1b55c36d"
      },
      "source": [
        "# Load image pixels using cv2\n",
        "image_pixels = []\n",
        "for i in range(len(test_data)):\n",
        "  img_array = cv2.imread(test_data['filename'][i])\n",
        "  image_pixels.append(img_array)\n",
        "\n",
        "\"\"\"\n",
        "Put required data at ****\n",
        "\"\"\""
      ],
      "execution_count": 33,
      "outputs": [
        {
          "output_type": "execute_result",
          "data": {
            "application/vnd.google.colaboratory.intrinsic+json": {
              "type": "string"
            },
            "text/plain": [
              "'\\nPut required data at ****\\n'"
            ]
          },
          "metadata": {
            "tags": []
          },
          "execution_count": 33
        }
      ]
    },
    {
      "cell_type": "markdown",
      "metadata": {
        "id": "60hvwOP1gM26",
        "colab_type": "text"
      },
      "source": [
        "**Note:** Perform all the pre-processing steps that you did for train data\n",
        "\n",
        "**Why do we need to do the same procedure of data preprocessing on the new test data as it was done for the training and validation data?**\n",
        "\n",
        "**Ans:** Because our model has been trained on certain format of data and if we don’t provide the testing data in the similar format, the model might throw errors or in few cases it will give erroneous predictions and the rmse of the model will increase. Not confident about these statements? Well, as a data scientist you should always perform some experiment and observe the results. So keep experiment and try it out and see it by yourself!"
      ]
    },
    {
      "cell_type": "code",
      "metadata": {
        "id": "ybey2vAVb84u",
        "colab_type": "code",
        "colab": {}
      },
      "source": [
        ""
      ],
      "execution_count": null,
      "outputs": []
    },
    {
      "cell_type": "code",
      "metadata": {
        "id": "jSxBA7-Fb8kl",
        "colab_type": "code",
        "colab": {}
      },
      "source": [
        ""
      ],
      "execution_count": null,
      "outputs": []
    },
    {
      "cell_type": "markdown",
      "metadata": {
        "id": "WLINT8JQb9Yz",
        "colab_type": "text"
      },
      "source": [
        "## Prediction"
      ]
    },
    {
      "cell_type": "code",
      "metadata": {
        "id": "YtQFzeFogwI_",
        "colab_type": "code",
        "colab": {
          "base_uri": "https://localhost:8080/",
          "height": 334
        },
        "outputId": "61508bb3-6b5d-4de9-ba6e-9f0457e16c01"
      },
      "source": [
        "# prediction\n",
        "pred = model.predict(np.array(image_pixels))"
      ],
      "execution_count": 45,
      "outputs": [
        {
          "output_type": "error",
          "ename": "ValueError",
          "evalue": "ignored",
          "traceback": [
            "\u001b[0;31m---------------------------------------------------------------------------\u001b[0m",
            "\u001b[0;31mValueError\u001b[0m                                Traceback (most recent call last)",
            "\u001b[0;32m<ipython-input-45-f69fc2d802f9>\u001b[0m in \u001b[0;36m<module>\u001b[0;34m()\u001b[0m\n\u001b[1;32m      1\u001b[0m \u001b[0;31m# prediction\u001b[0m\u001b[0;34m\u001b[0m\u001b[0;34m\u001b[0m\u001b[0;34m\u001b[0m\u001b[0m\n\u001b[0;32m----> 2\u001b[0;31m \u001b[0mpred\u001b[0m \u001b[0;34m=\u001b[0m \u001b[0mmodel\u001b[0m\u001b[0;34m.\u001b[0m\u001b[0mpredict\u001b[0m\u001b[0;34m(\u001b[0m\u001b[0mnp\u001b[0m\u001b[0;34m.\u001b[0m\u001b[0marray\u001b[0m\u001b[0;34m(\u001b[0m\u001b[0mimage_pixels\u001b[0m\u001b[0;34m)\u001b[0m\u001b[0;34m)\u001b[0m\u001b[0;34m\u001b[0m\u001b[0;34m\u001b[0m\u001b[0m\n\u001b[0m",
            "\u001b[0;32m/usr/local/lib/python3.6/dist-packages/tensorflow/python/keras/engine/training.py\u001b[0m in \u001b[0;36m_method_wrapper\u001b[0;34m(self, *args, **kwargs)\u001b[0m\n\u001b[1;32m    128\u001b[0m       raise ValueError('{} is not supported in multi-worker mode.'.format(\n\u001b[1;32m    129\u001b[0m           method.__name__))\n\u001b[0;32m--> 130\u001b[0;31m     \u001b[0;32mreturn\u001b[0m \u001b[0mmethod\u001b[0m\u001b[0;34m(\u001b[0m\u001b[0mself\u001b[0m\u001b[0;34m,\u001b[0m \u001b[0;34m*\u001b[0m\u001b[0margs\u001b[0m\u001b[0;34m,\u001b[0m \u001b[0;34m**\u001b[0m\u001b[0mkwargs\u001b[0m\u001b[0;34m)\u001b[0m\u001b[0;34m\u001b[0m\u001b[0;34m\u001b[0m\u001b[0m\n\u001b[0m\u001b[1;32m    131\u001b[0m \u001b[0;34m\u001b[0m\u001b[0m\n\u001b[1;32m    132\u001b[0m   return tf_decorator.make_decorator(\n",
            "\u001b[0;32m/usr/local/lib/python3.6/dist-packages/tensorflow/python/keras/engine/training.py\u001b[0m in \u001b[0;36mpredict\u001b[0;34m(self, x, batch_size, verbose, steps, callbacks, max_queue_size, workers, use_multiprocessing)\u001b[0m\n\u001b[1;32m   1577\u001b[0m           \u001b[0muse_multiprocessing\u001b[0m\u001b[0;34m=\u001b[0m\u001b[0muse_multiprocessing\u001b[0m\u001b[0;34m,\u001b[0m\u001b[0;34m\u001b[0m\u001b[0;34m\u001b[0m\u001b[0m\n\u001b[1;32m   1578\u001b[0m           \u001b[0mmodel\u001b[0m\u001b[0;34m=\u001b[0m\u001b[0mself\u001b[0m\u001b[0;34m,\u001b[0m\u001b[0;34m\u001b[0m\u001b[0;34m\u001b[0m\u001b[0m\n\u001b[0;32m-> 1579\u001b[0;31m           steps_per_execution=self._steps_per_execution)\n\u001b[0m\u001b[1;32m   1580\u001b[0m \u001b[0;34m\u001b[0m\u001b[0m\n\u001b[1;32m   1581\u001b[0m       \u001b[0;31m# Container that configures and calls `tf.keras.Callback`s.\u001b[0m\u001b[0;34m\u001b[0m\u001b[0;34m\u001b[0m\u001b[0;34m\u001b[0m\u001b[0m\n",
            "\u001b[0;32m/usr/local/lib/python3.6/dist-packages/tensorflow/python/keras/engine/data_adapter.py\u001b[0m in \u001b[0;36m__init__\u001b[0;34m(self, x, y, sample_weight, batch_size, steps_per_epoch, initial_epoch, epochs, shuffle, class_weight, max_queue_size, workers, use_multiprocessing, model, steps_per_execution)\u001b[0m\n\u001b[1;32m   1115\u001b[0m         \u001b[0muse_multiprocessing\u001b[0m\u001b[0;34m=\u001b[0m\u001b[0muse_multiprocessing\u001b[0m\u001b[0;34m,\u001b[0m\u001b[0;34m\u001b[0m\u001b[0;34m\u001b[0m\u001b[0m\n\u001b[1;32m   1116\u001b[0m         \u001b[0mdistribution_strategy\u001b[0m\u001b[0;34m=\u001b[0m\u001b[0mds_context\u001b[0m\u001b[0;34m.\u001b[0m\u001b[0mget_strategy\u001b[0m\u001b[0;34m(\u001b[0m\u001b[0;34m)\u001b[0m\u001b[0;34m,\u001b[0m\u001b[0;34m\u001b[0m\u001b[0;34m\u001b[0m\u001b[0m\n\u001b[0;32m-> 1117\u001b[0;31m         model=model)\n\u001b[0m\u001b[1;32m   1118\u001b[0m \u001b[0;34m\u001b[0m\u001b[0m\n\u001b[1;32m   1119\u001b[0m     \u001b[0mstrategy\u001b[0m \u001b[0;34m=\u001b[0m \u001b[0mds_context\u001b[0m\u001b[0;34m.\u001b[0m\u001b[0mget_strategy\u001b[0m\u001b[0;34m(\u001b[0m\u001b[0;34m)\u001b[0m\u001b[0;34m\u001b[0m\u001b[0;34m\u001b[0m\u001b[0m\n",
            "\u001b[0;32m/usr/local/lib/python3.6/dist-packages/tensorflow/python/keras/engine/data_adapter.py\u001b[0m in \u001b[0;36m__init__\u001b[0;34m(self, x, y, sample_weights, sample_weight_modes, batch_size, epochs, steps, shuffle, **kwargs)\u001b[0m\n\u001b[1;32m    263\u001b[0m                **kwargs):\n\u001b[1;32m    264\u001b[0m     \u001b[0msuper\u001b[0m\u001b[0;34m(\u001b[0m\u001b[0mTensorLikeDataAdapter\u001b[0m\u001b[0;34m,\u001b[0m \u001b[0mself\u001b[0m\u001b[0;34m)\u001b[0m\u001b[0;34m.\u001b[0m\u001b[0m__init__\u001b[0m\u001b[0;34m(\u001b[0m\u001b[0mx\u001b[0m\u001b[0;34m,\u001b[0m \u001b[0my\u001b[0m\u001b[0;34m,\u001b[0m \u001b[0;34m**\u001b[0m\u001b[0mkwargs\u001b[0m\u001b[0;34m)\u001b[0m\u001b[0;34m\u001b[0m\u001b[0;34m\u001b[0m\u001b[0m\n\u001b[0;32m--> 265\u001b[0;31m     \u001b[0mx\u001b[0m\u001b[0;34m,\u001b[0m \u001b[0my\u001b[0m\u001b[0;34m,\u001b[0m \u001b[0msample_weights\u001b[0m \u001b[0;34m=\u001b[0m \u001b[0m_process_tensorlike\u001b[0m\u001b[0;34m(\u001b[0m\u001b[0;34m(\u001b[0m\u001b[0mx\u001b[0m\u001b[0;34m,\u001b[0m \u001b[0my\u001b[0m\u001b[0;34m,\u001b[0m \u001b[0msample_weights\u001b[0m\u001b[0;34m)\u001b[0m\u001b[0;34m)\u001b[0m\u001b[0;34m\u001b[0m\u001b[0;34m\u001b[0m\u001b[0m\n\u001b[0m\u001b[1;32m    266\u001b[0m     sample_weight_modes = broadcast_sample_weight_modes(\n\u001b[1;32m    267\u001b[0m         sample_weights, sample_weight_modes)\n",
            "\u001b[0;32m/usr/local/lib/python3.6/dist-packages/tensorflow/python/keras/engine/data_adapter.py\u001b[0m in \u001b[0;36m_process_tensorlike\u001b[0;34m(inputs)\u001b[0m\n\u001b[1;32m   1019\u001b[0m     \u001b[0;32mreturn\u001b[0m \u001b[0mx\u001b[0m\u001b[0;34m\u001b[0m\u001b[0;34m\u001b[0m\u001b[0m\n\u001b[1;32m   1020\u001b[0m \u001b[0;34m\u001b[0m\u001b[0m\n\u001b[0;32m-> 1021\u001b[0;31m   \u001b[0minputs\u001b[0m \u001b[0;34m=\u001b[0m \u001b[0mnest\u001b[0m\u001b[0;34m.\u001b[0m\u001b[0mmap_structure\u001b[0m\u001b[0;34m(\u001b[0m\u001b[0m_convert_numpy_and_scipy\u001b[0m\u001b[0;34m,\u001b[0m \u001b[0minputs\u001b[0m\u001b[0;34m)\u001b[0m\u001b[0;34m\u001b[0m\u001b[0;34m\u001b[0m\u001b[0m\n\u001b[0m\u001b[1;32m   1022\u001b[0m   \u001b[0;32mreturn\u001b[0m \u001b[0mnest\u001b[0m\u001b[0;34m.\u001b[0m\u001b[0mlist_to_tuple\u001b[0m\u001b[0;34m(\u001b[0m\u001b[0minputs\u001b[0m\u001b[0;34m)\u001b[0m\u001b[0;34m\u001b[0m\u001b[0;34m\u001b[0m\u001b[0m\n\u001b[1;32m   1023\u001b[0m \u001b[0;34m\u001b[0m\u001b[0m\n",
            "\u001b[0;32m/usr/local/lib/python3.6/dist-packages/tensorflow/python/util/nest.py\u001b[0m in \u001b[0;36mmap_structure\u001b[0;34m(func, *structure, **kwargs)\u001b[0m\n\u001b[1;32m    633\u001b[0m \u001b[0;34m\u001b[0m\u001b[0m\n\u001b[1;32m    634\u001b[0m   return pack_sequence_as(\n\u001b[0;32m--> 635\u001b[0;31m       \u001b[0mstructure\u001b[0m\u001b[0;34m[\u001b[0m\u001b[0;36m0\u001b[0m\u001b[0;34m]\u001b[0m\u001b[0;34m,\u001b[0m \u001b[0;34m[\u001b[0m\u001b[0mfunc\u001b[0m\u001b[0;34m(\u001b[0m\u001b[0;34m*\u001b[0m\u001b[0mx\u001b[0m\u001b[0;34m)\u001b[0m \u001b[0;32mfor\u001b[0m \u001b[0mx\u001b[0m \u001b[0;32min\u001b[0m \u001b[0mentries\u001b[0m\u001b[0;34m]\u001b[0m\u001b[0;34m,\u001b[0m\u001b[0;34m\u001b[0m\u001b[0;34m\u001b[0m\u001b[0m\n\u001b[0m\u001b[1;32m    636\u001b[0m       expand_composites=expand_composites)\n\u001b[1;32m    637\u001b[0m \u001b[0;34m\u001b[0m\u001b[0m\n",
            "\u001b[0;32m/usr/local/lib/python3.6/dist-packages/tensorflow/python/util/nest.py\u001b[0m in \u001b[0;36m<listcomp>\u001b[0;34m(.0)\u001b[0m\n\u001b[1;32m    633\u001b[0m \u001b[0;34m\u001b[0m\u001b[0m\n\u001b[1;32m    634\u001b[0m   return pack_sequence_as(\n\u001b[0;32m--> 635\u001b[0;31m       \u001b[0mstructure\u001b[0m\u001b[0;34m[\u001b[0m\u001b[0;36m0\u001b[0m\u001b[0;34m]\u001b[0m\u001b[0;34m,\u001b[0m \u001b[0;34m[\u001b[0m\u001b[0mfunc\u001b[0m\u001b[0;34m(\u001b[0m\u001b[0;34m*\u001b[0m\u001b[0mx\u001b[0m\u001b[0;34m)\u001b[0m \u001b[0;32mfor\u001b[0m \u001b[0mx\u001b[0m \u001b[0;32min\u001b[0m \u001b[0mentries\u001b[0m\u001b[0;34m]\u001b[0m\u001b[0;34m,\u001b[0m\u001b[0;34m\u001b[0m\u001b[0;34m\u001b[0m\u001b[0m\n\u001b[0m\u001b[1;32m    636\u001b[0m       expand_composites=expand_composites)\n\u001b[1;32m    637\u001b[0m \u001b[0;34m\u001b[0m\u001b[0m\n",
            "\u001b[0;32m/usr/local/lib/python3.6/dist-packages/tensorflow/python/keras/engine/data_adapter.py\u001b[0m in \u001b[0;36m_convert_numpy_and_scipy\u001b[0;34m(x)\u001b[0m\n\u001b[1;32m   1014\u001b[0m       \u001b[0;32mif\u001b[0m \u001b[0missubclass\u001b[0m\u001b[0;34m(\u001b[0m\u001b[0mx\u001b[0m\u001b[0;34m.\u001b[0m\u001b[0mdtype\u001b[0m\u001b[0;34m.\u001b[0m\u001b[0mtype\u001b[0m\u001b[0;34m,\u001b[0m \u001b[0mnp\u001b[0m\u001b[0;34m.\u001b[0m\u001b[0mfloating\u001b[0m\u001b[0;34m)\u001b[0m\u001b[0;34m:\u001b[0m\u001b[0;34m\u001b[0m\u001b[0;34m\u001b[0m\u001b[0m\n\u001b[1;32m   1015\u001b[0m         \u001b[0mdtype\u001b[0m \u001b[0;34m=\u001b[0m \u001b[0mbackend\u001b[0m\u001b[0;34m.\u001b[0m\u001b[0mfloatx\u001b[0m\u001b[0;34m(\u001b[0m\u001b[0;34m)\u001b[0m\u001b[0;34m\u001b[0m\u001b[0;34m\u001b[0m\u001b[0m\n\u001b[0;32m-> 1016\u001b[0;31m       \u001b[0;32mreturn\u001b[0m \u001b[0mops\u001b[0m\u001b[0;34m.\u001b[0m\u001b[0mconvert_to_tensor\u001b[0m\u001b[0;34m(\u001b[0m\u001b[0mx\u001b[0m\u001b[0;34m,\u001b[0m \u001b[0mdtype\u001b[0m\u001b[0;34m=\u001b[0m\u001b[0mdtype\u001b[0m\u001b[0;34m)\u001b[0m\u001b[0;34m\u001b[0m\u001b[0;34m\u001b[0m\u001b[0m\n\u001b[0m\u001b[1;32m   1017\u001b[0m     \u001b[0;32melif\u001b[0m \u001b[0mscipy_sparse\u001b[0m \u001b[0;32mand\u001b[0m \u001b[0mscipy_sparse\u001b[0m\u001b[0;34m.\u001b[0m\u001b[0missparse\u001b[0m\u001b[0;34m(\u001b[0m\u001b[0mx\u001b[0m\u001b[0;34m)\u001b[0m\u001b[0;34m:\u001b[0m\u001b[0;34m\u001b[0m\u001b[0;34m\u001b[0m\u001b[0m\n\u001b[1;32m   1018\u001b[0m       \u001b[0;32mreturn\u001b[0m \u001b[0m_scipy_sparse_to_sparse_tensor\u001b[0m\u001b[0;34m(\u001b[0m\u001b[0mx\u001b[0m\u001b[0;34m)\u001b[0m\u001b[0;34m\u001b[0m\u001b[0;34m\u001b[0m\u001b[0m\n",
            "\u001b[0;32m/usr/local/lib/python3.6/dist-packages/tensorflow/python/framework/ops.py\u001b[0m in \u001b[0;36mconvert_to_tensor\u001b[0;34m(value, dtype, name, as_ref, preferred_dtype, dtype_hint, ctx, accepted_result_types)\u001b[0m\n\u001b[1;32m   1497\u001b[0m \u001b[0;34m\u001b[0m\u001b[0m\n\u001b[1;32m   1498\u001b[0m     \u001b[0;32mif\u001b[0m \u001b[0mret\u001b[0m \u001b[0;32mis\u001b[0m \u001b[0;32mNone\u001b[0m\u001b[0;34m:\u001b[0m\u001b[0;34m\u001b[0m\u001b[0;34m\u001b[0m\u001b[0m\n\u001b[0;32m-> 1499\u001b[0;31m       \u001b[0mret\u001b[0m \u001b[0;34m=\u001b[0m \u001b[0mconversion_func\u001b[0m\u001b[0;34m(\u001b[0m\u001b[0mvalue\u001b[0m\u001b[0;34m,\u001b[0m \u001b[0mdtype\u001b[0m\u001b[0;34m=\u001b[0m\u001b[0mdtype\u001b[0m\u001b[0;34m,\u001b[0m \u001b[0mname\u001b[0m\u001b[0;34m=\u001b[0m\u001b[0mname\u001b[0m\u001b[0;34m,\u001b[0m \u001b[0mas_ref\u001b[0m\u001b[0;34m=\u001b[0m\u001b[0mas_ref\u001b[0m\u001b[0;34m)\u001b[0m\u001b[0;34m\u001b[0m\u001b[0;34m\u001b[0m\u001b[0m\n\u001b[0m\u001b[1;32m   1500\u001b[0m \u001b[0;34m\u001b[0m\u001b[0m\n\u001b[1;32m   1501\u001b[0m     \u001b[0;32mif\u001b[0m \u001b[0mret\u001b[0m \u001b[0;32mis\u001b[0m \u001b[0mNotImplemented\u001b[0m\u001b[0;34m:\u001b[0m\u001b[0;34m\u001b[0m\u001b[0;34m\u001b[0m\u001b[0m\n",
            "\u001b[0;32m/usr/local/lib/python3.6/dist-packages/tensorflow/python/framework/tensor_conversion_registry.py\u001b[0m in \u001b[0;36m_default_conversion_function\u001b[0;34m(***failed resolving arguments***)\u001b[0m\n\u001b[1;32m     50\u001b[0m \u001b[0;32mdef\u001b[0m \u001b[0m_default_conversion_function\u001b[0m\u001b[0;34m(\u001b[0m\u001b[0mvalue\u001b[0m\u001b[0;34m,\u001b[0m \u001b[0mdtype\u001b[0m\u001b[0;34m,\u001b[0m \u001b[0mname\u001b[0m\u001b[0;34m,\u001b[0m \u001b[0mas_ref\u001b[0m\u001b[0;34m)\u001b[0m\u001b[0;34m:\u001b[0m\u001b[0;34m\u001b[0m\u001b[0;34m\u001b[0m\u001b[0m\n\u001b[1;32m     51\u001b[0m   \u001b[0;32mdel\u001b[0m \u001b[0mas_ref\u001b[0m  \u001b[0;31m# Unused.\u001b[0m\u001b[0;34m\u001b[0m\u001b[0;34m\u001b[0m\u001b[0m\n\u001b[0;32m---> 52\u001b[0;31m   \u001b[0;32mreturn\u001b[0m \u001b[0mconstant_op\u001b[0m\u001b[0;34m.\u001b[0m\u001b[0mconstant\u001b[0m\u001b[0;34m(\u001b[0m\u001b[0mvalue\u001b[0m\u001b[0;34m,\u001b[0m \u001b[0mdtype\u001b[0m\u001b[0;34m,\u001b[0m \u001b[0mname\u001b[0m\u001b[0;34m=\u001b[0m\u001b[0mname\u001b[0m\u001b[0;34m)\u001b[0m\u001b[0;34m\u001b[0m\u001b[0;34m\u001b[0m\u001b[0m\n\u001b[0m\u001b[1;32m     53\u001b[0m \u001b[0;34m\u001b[0m\u001b[0m\n\u001b[1;32m     54\u001b[0m \u001b[0;34m\u001b[0m\u001b[0m\n",
            "\u001b[0;32m/usr/local/lib/python3.6/dist-packages/tensorflow/python/framework/constant_op.py\u001b[0m in \u001b[0;36mconstant\u001b[0;34m(value, dtype, shape, name)\u001b[0m\n\u001b[1;32m    262\u001b[0m   \"\"\"\n\u001b[1;32m    263\u001b[0m   return _constant_impl(value, dtype, shape, name, verify_shape=False,\n\u001b[0;32m--> 264\u001b[0;31m                         allow_broadcast=True)\n\u001b[0m\u001b[1;32m    265\u001b[0m \u001b[0;34m\u001b[0m\u001b[0m\n\u001b[1;32m    266\u001b[0m \u001b[0;34m\u001b[0m\u001b[0m\n",
            "\u001b[0;32m/usr/local/lib/python3.6/dist-packages/tensorflow/python/framework/constant_op.py\u001b[0m in \u001b[0;36m_constant_impl\u001b[0;34m(value, dtype, shape, name, verify_shape, allow_broadcast)\u001b[0m\n\u001b[1;32m    273\u001b[0m       \u001b[0;32mwith\u001b[0m \u001b[0mtrace\u001b[0m\u001b[0;34m.\u001b[0m\u001b[0mTrace\u001b[0m\u001b[0;34m(\u001b[0m\u001b[0;34m\"tf.constant\"\u001b[0m\u001b[0;34m)\u001b[0m\u001b[0;34m:\u001b[0m\u001b[0;34m\u001b[0m\u001b[0;34m\u001b[0m\u001b[0m\n\u001b[1;32m    274\u001b[0m         \u001b[0;32mreturn\u001b[0m \u001b[0m_constant_eager_impl\u001b[0m\u001b[0;34m(\u001b[0m\u001b[0mctx\u001b[0m\u001b[0;34m,\u001b[0m \u001b[0mvalue\u001b[0m\u001b[0;34m,\u001b[0m \u001b[0mdtype\u001b[0m\u001b[0;34m,\u001b[0m \u001b[0mshape\u001b[0m\u001b[0;34m,\u001b[0m \u001b[0mverify_shape\u001b[0m\u001b[0;34m)\u001b[0m\u001b[0;34m\u001b[0m\u001b[0;34m\u001b[0m\u001b[0m\n\u001b[0;32m--> 275\u001b[0;31m     \u001b[0;32mreturn\u001b[0m \u001b[0m_constant_eager_impl\u001b[0m\u001b[0;34m(\u001b[0m\u001b[0mctx\u001b[0m\u001b[0;34m,\u001b[0m \u001b[0mvalue\u001b[0m\u001b[0;34m,\u001b[0m \u001b[0mdtype\u001b[0m\u001b[0;34m,\u001b[0m \u001b[0mshape\u001b[0m\u001b[0;34m,\u001b[0m \u001b[0mverify_shape\u001b[0m\u001b[0;34m)\u001b[0m\u001b[0;34m\u001b[0m\u001b[0;34m\u001b[0m\u001b[0m\n\u001b[0m\u001b[1;32m    276\u001b[0m \u001b[0;34m\u001b[0m\u001b[0m\n\u001b[1;32m    277\u001b[0m   \u001b[0mg\u001b[0m \u001b[0;34m=\u001b[0m \u001b[0mops\u001b[0m\u001b[0;34m.\u001b[0m\u001b[0mget_default_graph\u001b[0m\u001b[0;34m(\u001b[0m\u001b[0;34m)\u001b[0m\u001b[0;34m\u001b[0m\u001b[0;34m\u001b[0m\u001b[0m\n",
            "\u001b[0;32m/usr/local/lib/python3.6/dist-packages/tensorflow/python/framework/constant_op.py\u001b[0m in \u001b[0;36m_constant_eager_impl\u001b[0;34m(ctx, value, dtype, shape, verify_shape)\u001b[0m\n\u001b[1;32m    298\u001b[0m \u001b[0;32mdef\u001b[0m \u001b[0m_constant_eager_impl\u001b[0m\u001b[0;34m(\u001b[0m\u001b[0mctx\u001b[0m\u001b[0;34m,\u001b[0m \u001b[0mvalue\u001b[0m\u001b[0;34m,\u001b[0m \u001b[0mdtype\u001b[0m\u001b[0;34m,\u001b[0m \u001b[0mshape\u001b[0m\u001b[0;34m,\u001b[0m \u001b[0mverify_shape\u001b[0m\u001b[0;34m)\u001b[0m\u001b[0;34m:\u001b[0m\u001b[0;34m\u001b[0m\u001b[0;34m\u001b[0m\u001b[0m\n\u001b[1;32m    299\u001b[0m   \u001b[0;34m\"\"\"Implementation of eager constant.\"\"\"\u001b[0m\u001b[0;34m\u001b[0m\u001b[0;34m\u001b[0m\u001b[0m\n\u001b[0;32m--> 300\u001b[0;31m   \u001b[0mt\u001b[0m \u001b[0;34m=\u001b[0m \u001b[0mconvert_to_eager_tensor\u001b[0m\u001b[0;34m(\u001b[0m\u001b[0mvalue\u001b[0m\u001b[0;34m,\u001b[0m \u001b[0mctx\u001b[0m\u001b[0;34m,\u001b[0m \u001b[0mdtype\u001b[0m\u001b[0;34m)\u001b[0m\u001b[0;34m\u001b[0m\u001b[0;34m\u001b[0m\u001b[0m\n\u001b[0m\u001b[1;32m    301\u001b[0m   \u001b[0;32mif\u001b[0m \u001b[0mshape\u001b[0m \u001b[0;32mis\u001b[0m \u001b[0;32mNone\u001b[0m\u001b[0;34m:\u001b[0m\u001b[0;34m\u001b[0m\u001b[0;34m\u001b[0m\u001b[0m\n\u001b[1;32m    302\u001b[0m     \u001b[0;32mreturn\u001b[0m \u001b[0mt\u001b[0m\u001b[0;34m\u001b[0m\u001b[0;34m\u001b[0m\u001b[0m\n",
            "\u001b[0;32m/usr/local/lib/python3.6/dist-packages/tensorflow/python/framework/constant_op.py\u001b[0m in \u001b[0;36mconvert_to_eager_tensor\u001b[0;34m(value, ctx, dtype)\u001b[0m\n\u001b[1;32m     96\u001b[0m       \u001b[0mdtype\u001b[0m \u001b[0;34m=\u001b[0m \u001b[0mdtypes\u001b[0m\u001b[0;34m.\u001b[0m\u001b[0mas_dtype\u001b[0m\u001b[0;34m(\u001b[0m\u001b[0mdtype\u001b[0m\u001b[0;34m)\u001b[0m\u001b[0;34m.\u001b[0m\u001b[0mas_datatype_enum\u001b[0m\u001b[0;34m\u001b[0m\u001b[0;34m\u001b[0m\u001b[0m\n\u001b[1;32m     97\u001b[0m   \u001b[0mctx\u001b[0m\u001b[0;34m.\u001b[0m\u001b[0mensure_initialized\u001b[0m\u001b[0;34m(\u001b[0m\u001b[0;34m)\u001b[0m\u001b[0;34m\u001b[0m\u001b[0;34m\u001b[0m\u001b[0m\n\u001b[0;32m---> 98\u001b[0;31m   \u001b[0;32mreturn\u001b[0m \u001b[0mops\u001b[0m\u001b[0;34m.\u001b[0m\u001b[0mEagerTensor\u001b[0m\u001b[0;34m(\u001b[0m\u001b[0mvalue\u001b[0m\u001b[0;34m,\u001b[0m \u001b[0mctx\u001b[0m\u001b[0;34m.\u001b[0m\u001b[0mdevice_name\u001b[0m\u001b[0;34m,\u001b[0m \u001b[0mdtype\u001b[0m\u001b[0;34m)\u001b[0m\u001b[0;34m\u001b[0m\u001b[0;34m\u001b[0m\u001b[0m\n\u001b[0m\u001b[1;32m     99\u001b[0m \u001b[0;34m\u001b[0m\u001b[0m\n\u001b[1;32m    100\u001b[0m \u001b[0;34m\u001b[0m\u001b[0m\n",
            "\u001b[0;31mValueError\u001b[0m: Failed to convert a NumPy array to a Tensor (Unsupported object type NoneType)."
          ]
        }
      ]
    },
    {
      "cell_type": "markdown",
      "metadata": {
        "id": "3XK7wLqtg8ow",
        "colab_type": "text"
      },
      "source": [
        "\n",
        "Note: If you use one output neuron while defining the model and loss as **binary_crossentropy** while compiling the model, you will get single probability value.\n",
        "\n",
        "You can convert it to either integers i.e. 0 or 1 (that is our numerical target value) or directly to categorical 'mucca' (i.e. 0) or 'pecora' (i.e. 1)\n",
        "\n",
        "**If our predictions are single probability value. There are two commonly used methods to get the actual labels in this case.**\n",
        "\n",
        "1.   Using a threshold value\n",
        "2.   Using np.round() function\n",
        "\n",
        "\n",
        "These works for only binary class problems.\n",
        "\n",
        "**But,** if you use more than one neuron in the output layer while defining the model and use sparse_categorical_crossentropy as loss function while compiling the model, you will get multiple probability values.\n",
        "\n",
        "These are the probability values for each class. In this case you can use np.argmax() to get the required label. It will basically return the index of the probability value which is maximum.\n",
        "\n"
      ]
    },
    {
      "cell_type": "markdown",
      "metadata": {
        "id": "V3UOBPZOiiCn",
        "colab_type": "text"
      },
      "source": [
        "**1. Take a threshold of 0.5**\n",
        "\n",
        "If the probability value is less than or equal to 0.5, the prediction is 0 (i.e. mucca) else the prediction is 1 (i.e. pecora)\n",
        "\n",
        "Since the submission format is given as\n",
        "\n",
        "predictions = [‘mucca’, ‘pecora’, ‘pecora’, ‘mucca’, mucca’, ……...]\n",
        "\n",
        "\n",
        "here we will convert the probability values in the same format, i.e. if probability value is less than or equal to 0.5, the prediction will be 'mucca' else the prediction will be 'pecora'"
      ]
    },
    {
      "cell_type": "code",
      "metadata": {
        "id": "JANr8gi-hNqQ",
        "colab_type": "code",
        "colab": {}
      },
      "source": [
        "prediction = []\n",
        "for value in pred:\n",
        "  if value <= 0.5:\n",
        "    prediction.append(0)      # it can be 0 or your respective class 'mucca'\n",
        "  else:\n",
        "    prediction.append(1)      # it can be 1 or your respective class 'pecora'"
      ],
      "execution_count": null,
      "outputs": []
    },
    {
      "cell_type": "markdown",
      "metadata": {
        "id": "3u3exbk8jKtQ",
        "colab_type": "text"
      },
      "source": [
        "**2. Using np.round() function**\n",
        "\n",
        "In this case np.round() will return the nearest integer value.\n",
        "\n",
        "*  This will return either 0 or 1"
      ]
    },
    {
      "cell_type": "code",
      "metadata": {
        "id": "Fakldb0_jaQx",
        "colab_type": "code",
        "colab": {}
      },
      "source": [
        "predictions = np.round(pred)"
      ],
      "execution_count": null,
      "outputs": []
    },
    {
      "cell_type": "code",
      "metadata": {
        "id": "p4GvLujOj4Ml",
        "colab_type": "code",
        "colab": {}
      },
      "source": [
        "prediction = []\n",
        "for item in pred:\n",
        "  prediction.append(item)"
      ],
      "execution_count": null,
      "outputs": []
    },
    {
      "cell_type": "markdown",
      "metadata": {
        "id": "CCgiIiG9kG6S",
        "colab_type": "text"
      },
      "source": [
        "**Note: Follow the submission guidelines given in ‘[How To Submit](https://discuss.dphi.tech/t/how-to-submit-predictions/548)’ Section.**"
      ]
    },
    {
      "cell_type": "markdown",
      "metadata": {
        "id": "tI9CATQwkVJd",
        "colab_type": "text"
      },
      "source": [
        "# **How to save prediciton results locally via jupyter notebook?**\n",
        "If you are working on Jupyter notebook, execute below block of codes. A file named ‘submission.csv’ will be created in your current working directory."
      ]
    },
    {
      "cell_type": "code",
      "metadata": {
        "id": "avhrRAeOkOOu",
        "colab_type": "code",
        "colab": {}
      },
      "source": [
        "res = pd.DataFrame({'filename': test_data['filename'], 'animal_type': prediction})  # prediction is nothing but the final predictions of your model on input features of your new unseen test data\n",
        "res.to_csv(\"submission.csv\") "
      ],
      "execution_count": null,
      "outputs": []
    },
    {
      "cell_type": "markdown",
      "metadata": {
        "id": "I3g3ttCgke7i",
        "colab_type": "text"
      },
      "source": [
        "# **OR,**\n",
        "**If you are working on Google Colab then use the below set of code to save prediction results locally**"
      ]
    },
    {
      "cell_type": "markdown",
      "metadata": {
        "id": "Q-tXRapAkpoe",
        "colab_type": "text"
      },
      "source": [
        "# **How to save prediction results locally via colab notebook?**\n",
        "If you are working on Google Colab Notebook, execute below block of codes. A file named ‘submission’ will be downloaded in your system."
      ]
    },
    {
      "cell_type": "code",
      "metadata": {
        "id": "MGmEaU75kmfq",
        "colab_type": "code",
        "colab": {}
      },
      "source": [
        "res = pd.DataFrame({'filename': test_data['filename'], 'animal_type': prediction})  # prediction is nothing but the final predictions of your model on input features of your new unseen test data\n",
        "res.to_csv(\"submission.csv\") \n",
        "\n",
        "# To download the csv file locally\n",
        "from google.colab import files        \n",
        "files.download('submission.csv')"
      ],
      "execution_count": null,
      "outputs": []
    }
  ]
}